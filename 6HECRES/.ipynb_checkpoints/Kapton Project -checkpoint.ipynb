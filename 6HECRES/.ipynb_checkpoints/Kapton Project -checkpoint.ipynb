{
 "cells": [
  {
   "cell_type": "code",
   "execution_count": 1,
   "metadata": {},
   "outputs": [
    {
     "name": "stdout",
     "output_type": "stream",
     "text": [
      "3.984360902255638e-08\n",
      "0.9999999601563925\n",
      "0.9094141458344729\n"
     ]
    },
    {
     "data": {
      "image/png": "[encoded data removed]",
      "text/plain": [
       "<Figure size 432x288 with 1 Axes>"
      ]
     },
     "metadata": {
      "needs_background": "light"
     },
     "output_type": "display_data"
    }
   ],
   "source": [
    "# Plotting some stuff for the Kapton Write-up\n",
    "\n",
    "%matplotlib inline  \n",
    "\n",
    "import numpy as np\n",
    "import matplotlib.pyplot as plt\n",
    "import math\n",
    "\n",
    "# Pressure in the volume as a function of permeability K  \n",
    "\n",
    "\n",
    "# --------------------Constants--------------------#\n",
    "pi = math.pi\n",
    "k = 1.38 * 10**-23 # m**2 kg s**-2 K**-1\n",
    "\n",
    "# --------------------Parameters--------------------#\n",
    "r = .578 #cm \n",
    "T = 120 #K \n",
    "A = 2*pi*r**2 # cm**2\n",
    "V = 10*pi*r**2*10**-6 # m**3 (10cm long decay vol)\n",
    "Lambda = 1 # s**-1, not quite right..\n",
    "l = 1.27 #mm, 50 mil right?\n",
    "\n",
    "# --------------------independent variable K--------------------#\n",
    "K_true = 8*10**-10\n",
    "frac = (k*T*K_true*2.54*10**19*A)/(133*V*Lambda*l)\n",
    "f_true = (1+frac)**-1\n",
    "print(frac)\n",
    "print(f_true)  # So it is basically not going to be a problem at all. \n",
    "\n",
    "K = np.linspace(0, 1, 1001)\n",
    "\n",
    "# --------------------PLOTS--------------------#\n",
    "\n",
    "\n",
    "f = (1+(k*T*K*2.54*10**19*A)/(133*V*Lambda*l))**-1\n",
    "print(f[2]) #So K would have to be 10^-3 to even be a 10% effect (5 orders of magnitute larger)\n",
    "        \n",
    "plt.plot(K, f)  # Test plots\n",
    "plt.tick_params(axis='both', which='major', labelsize=10)\n",
    "plt.xlabel('x', fontsize = 40)\n",
    "plt.ylabel('y', fontsize = 40)\n",
    "plt.title(\"Making some data\")\n",
    "plt.gca().legend(('fake data', 'true function'))\n",
    "plt.autoscale(enable=True, axis='y')\n",
    "\n",
    "plt.show()"
   ]
  },
  {
   "cell_type": "code",
   "execution_count": null,
   "metadata": {},
   "outputs": [],
   "source": []
  },
  {
   "cell_type": "code",
   "execution_count": null,
   "metadata": {},
   "outputs": [],
   "source": []
  }
 ],
 "metadata": {
  "kernelspec": {
   "display_name": "Python 3",
   "language": "python",
   "name": "python3"
  },
  "language_info": {
   "codemirror_mode": {
    "name": "ipython",
    "version": 3
   },
   "file_extension": ".py",
   "mimetype": "text/x-python",
   "name": "python",
   "nbconvert_exporter": "python",
   "pygments_lexer": "ipython3",
   "version": "3.7.3"
  }
 },
 "nbformat": 4,
 "nbformat_minor": 2
}
