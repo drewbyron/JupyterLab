{
 "cells": [
  {
   "cell_type": "code",
   "execution_count": 31,
   "metadata": {},
   "outputs": [],
   "source": [
    "import os\n",
    "import ipywidgets as widgets\n",
    "from ipywidgets import interact, interact_manual\n",
    "import matplotlib.pyplot as plt\n",
    "import numpy as np\n",
    "import pandas as pd\n",
    "\n",
    "# Plt settings. \n",
    "plt.rcParams[\"figure.dpi\"] = 200\n",
    "plt.rcParams.update({\"font.size\": 12})\n",
    "plt.rcParams['figure.figsize'] = (8,5)"
   ]
  },
  {
   "cell_type": "markdown",
   "metadata": {},
   "source": [
    "# Gaining intuition for our DAQ: \n",
    "\n",
    "* Would be cool to make this an interactive thing that someone could mess around with on github. Is that possible?\n",
    "    * Make the phase, gain, such variable..."
   ]
  },
  {
   "cell_type": "code",
   "execution_count": 11,
   "metadata": {},
   "outputs": [],
   "source": [
    "# Constants. \n",
    "PI = np.pi"
   ]
  },
  {
   "cell_type": "markdown",
   "metadata": {},
   "source": [
    "## 1. FFT of noisy sin wave: "
   ]
  },
  {
   "cell_type": "code",
   "execution_count": 51,
   "metadata": {},
   "outputs": [
    {
     "data": {
      "application/vnd.jupyter.widget-view+json": {
       "model_id": "5aefc79c6b3a4abb9d8f5b1663d2d586",
       "version_major": 2,
       "version_minor": 0
      },
      "text/plain": [
       "interactive(children=(FloatSlider(value=250.0, description='f', max=500.0, step=10.0), IntSlider(value=5, desc…"
      ]
     },
     "metadata": {},
     "output_type": "display_data"
    }
   ],
   "source": [
    "@interact\n",
    "def simple_fft(f = (0,1000/2,10), signal_amp = (0,10,1), noise_std = (0,10,1)): \n",
    "\n",
    "    # Discrete time axis. \n",
    "    signal_duration = 1\n",
    "    fft_pts = 1000\n",
    "    t = np.linspace(0, 1, fft_pts)\n",
    "\n",
    "    # Create gaussian distributed noise with std noise_std. \n",
    "    noise = np.random.normal(0,noise_std,fft_pts)\n",
    "\n",
    "    # Create signal.\n",
    "    signal = signal_amp*np.sin(f * 2 * PI * t)\n",
    "\n",
    "    # Add the noise. \n",
    "    signal = signal + noise\n",
    "    \n",
    "    fft = np.fft.fft(signal)\n",
    "    T = t[1] - t[0]  # sampling interval \n",
    "    N = signal.size\n",
    "\n",
    "    freq_axis = np.linspace(0, 1 / T, N)\n",
    "\n",
    "    # Plot the signal and FFT\n",
    "    fig, (ax1, ax2) = plt.subplots(2)\n",
    "    \n",
    "    ax1.set_title(\"Time Domain\")\n",
    "    ax1.set_ylabel(\"Amplitude\")\n",
    "    ax1.set_xlabel(\"Time [s]\")\n",
    "    ax1.plot(t, signal)\n",
    "    \n",
    "    ax2.set_ylabel(\"Amplitude\")\n",
    "    ax2.set_xlabel(\"Frequency [Hz]\")\n",
    "    ax2.bar(freq_axis[:N // 2], np.abs(fft)[:N // 2] * 1 / N, width=1)  # 1 / N is a normalization factor\n",
    "    plt.tight_layout()\n",
    "    plt.show()\n"
   ]
  },
  {
   "cell_type": "markdown",
   "metadata": {},
   "source": [
    "## 2. FFT of noisy modulated sin wave: "
   ]
  },
  {
   "cell_type": "code",
   "execution_count": 55,
   "metadata": {},
   "outputs": [
    {
     "data": {
      "application/vnd.jupyter.widget-view+json": {
       "model_id": "966022e15af84a3d99c9b821d69c594a",
       "version_major": 2,
       "version_minor": 0
      },
      "text/plain": [
       "interactive(children=(FloatSlider(value=250.0, description='f', max=500.0, step=10.0), IntSlider(value=5, desc…"
      ]
     },
     "metadata": {},
     "output_type": "display_data"
    }
   ],
   "source": [
    "@interact\n",
    "def simple_fft(f = (0,1000/2,10), signal_amp = (0,10,1),f_m = (0,60,5), h = (0,5,.1), noise_std = (0,10,1)): \n",
    "\n",
    "    # Discrete time axis. \n",
    "    signal_duration = 1\n",
    "    fft_pts = 1000\n",
    "    t = np.linspace(0, 1, fft_pts)\n",
    "\n",
    "    # Create gaussian distributed noise with std noise_std. \n",
    "    noise = np.random.normal(0,noise_std,fft_pts)\n",
    "\n",
    "    # Create signal.\n",
    "    \n",
    "    signal = signal_amp*np.sin(f * 2 * PI * t+ h*np.sin(f_m * 2 * PI * t))\n",
    "\n",
    "    # Add the noise. \n",
    "    signal = signal + noise\n",
    "    \n",
    "    fft = np.fft.fft(signal)\n",
    "    T = t[1] - t[0]  # sampling interval \n",
    "    N = signal.size\n",
    "\n",
    "    freq_axis = np.linspace(0, 1 / T, N)\n",
    "\n",
    "    # Plot the signal and FFT\n",
    "    fig, (ax1, ax2) = plt.subplots(2)\n",
    "    \n",
    "    ax1.set_title(\"Time Domain\")\n",
    "    ax1.set_ylabel(\"Amplitude\")\n",
    "    ax1.set_xlabel(\"Time [s]\")\n",
    "    ax1.plot(t, signal)\n",
    "    \n",
    "    ax2.set_ylabel(\"Amplitude\")\n",
    "    ax2.set_xlabel(\"Frequency [Hz]\")\n",
    "    ax2.bar(freq_axis[:N // 2], np.abs(fft)[:N // 2] * 1 / N, width=1)  # 1 / N is a normalization factor\n",
    "    plt.tight_layout()\n",
    "    plt.show()\n"
   ]
  },
  {
   "cell_type": "markdown",
   "metadata": {},
   "source": [
    "## 3. FFT of product of red and blue shifted waves: "
   ]
  },
  {
   "cell_type": "code",
   "execution_count": 68,
   "metadata": {},
   "outputs": [
    {
     "data": {
      "application/vnd.jupyter.widget-view+json": {
       "model_id": "5fe106f3dcda438fa16db1f277e6598a",
       "version_major": 2,
       "version_minor": 0
      },
      "text/plain": [
       "interactive(children=(FloatSlider(value=250.0, description='f', max=500.0, step=10.0), IntSlider(value=5, desc…"
      ]
     },
     "metadata": {},
     "output_type": "display_data"
    }
   ],
   "source": [
    "@interact\n",
    "def simple_fft(f = (0,1000/2,10), amp_1 = (0,10,1), amp_2 = (0,10,1),\n",
    "               f_m = (0,60,5), h = (0,5,.1), noise_std_1 = (0,10,1), noise_std_2 = (0,10,1)): \n",
    "\n",
    "    # Discrete time axis. \n",
    "    signal_duration = 1\n",
    "    fft_pts = 1000\n",
    "    t = np.linspace(0, 1, fft_pts)\n",
    "\n",
    "    # Create gaussian distributed noise. \n",
    "    noise_1 = np.random.normal(0,noise_std_1,fft_pts)\n",
    "    noise_2 = np.random.normal(0,noise_std_2,fft_pts)\n",
    "\n",
    "    # Create two signals.\n",
    "\n",
    "    signal_1 = amp_1*np.sin(f * 2 * PI * t + h*np.sin(f_m * 2 * PI * t))\n",
    "    signal_2 = amp_2*np.sin(f * 2 * PI * t - h*np.sin(f_m * 2 * PI * t))\n",
    "\n",
    "    # Add the noise. \n",
    "    signal_1 = signal_1 + noise_1\n",
    "    signal_2 = signal_2 + noise_2\n",
    "\n",
    "    # Create the product signal:\n",
    "    signal = signal_1*signal_2\n",
    "#     # Create signal.\n",
    "    \n",
    "#     signal = signal_amp*np.sin(f * 2 * PI * t+ h*np.sin(f_m * 2 * PI * t))\n",
    "\n",
    "#     # Add the noise. \n",
    "#     signal = signal + noise\n",
    "    fft_signal_1 = np.fft.fft(signal_1)\n",
    "    fft_product = np.fft.fft(signal)\n",
    "    \n",
    "    T = t[1] - t[0]  # sampling interval \n",
    "    N = signal.size\n",
    "\n",
    "    freq_axis = np.linspace(0, 1 / T, N)\n",
    "\n",
    "    # Plot the signal and FFT\n",
    "    fig, ( ax1, ax2) = plt.subplots(2)\n",
    "    \n",
    "#     ax1.set_title(\"Time Domain of Signal 1\")\n",
    "#     ax1.set_ylabel(\"Amplitude\")\n",
    "#     ax1.set_xlabel(\"Time [s]\")\n",
    "#     ax1.plot(t, signal)\n",
    "    \n",
    "    ax1.set_title(\"Freq Domain of Signal 1 \")\n",
    "    ax1.set_ylabel(\"Amplitude\")\n",
    "    ax1.set_xlabel(\"Frequency [Hz]\")\n",
    "    ax1.bar(freq_axis[:N // 2], np.abs(fft_signal_1)[:N // 2] * 1 / N, width=1) \n",
    "    \n",
    "    ax2.set_title(\"Freq Domain of Product Signal\")\n",
    "    ax2.set_ylabel(\"Amplitude\")\n",
    "    ax2.set_xlabel(\"Frequency [Hz]\")\n",
    "    ax2.bar(freq_axis[:N // 2], np.abs(fft_product)[:N // 2] * 1 / N, width=1) \n",
    "    plt.tight_layout()\n",
    "    plt.show()\n"
   ]
  },
  {
   "cell_type": "markdown",
   "metadata": {},
   "source": [
    "### Run an FFT on the signal\n",
    "\n",
    "Note that the amplitude of the FFT is half the signal amplitude because you lose half the power to the negative frequency outputs of the FFT. Also note that the FFT must be normalized by the number of points in the signal. "
   ]
  },
  {
   "cell_type": "code",
   "execution_count": 3,
   "metadata": {},
   "outputs": [
    {
     "data": {
      "image/png": "[encoded data removed]",
      "text/plain": [
       "<Figure size 1320x880 with 1 Axes>"
      ]
     },
     "metadata": {
      "needs_background": "light"
     },
     "output_type": "display_data"
    }
   ],
   "source": [
    "fft = np.fft.fft(signal)\n",
    "T = t[1] - t[0]  # sampling interval \n",
    "N = signal.size\n",
    "\n",
    "freq_axis = np.linspace(0, 1 / T, N)\n",
    "\n",
    "plt.ylabel(\"Amplitude\")\n",
    "plt.xlabel(\"Frequency [Hz]\")\n",
    "plt.bar(freq_axis[:N // 2], np.abs(fft)[:N // 2] * 1 / N, width=1)  # 1 / N is a normalization factor\n",
    "plt.show()"
   ]
  },
  {
   "cell_type": "markdown",
   "metadata": {},
   "source": [
    "## FFT on modulated signal:  "
   ]
  },
  {
   "cell_type": "markdown",
   "metadata": {},
   "source": [
    "### Simulate a modulated signal"
   ]
  },
  {
   "cell_type": "code",
   "execution_count": 56,
   "metadata": {},
   "outputs": [],
   "source": [
    "# Constants. \n",
    "\n",
    "PI = np.pi\n",
    "\n",
    "# Discrete time axis. \n",
    "signal_duration = 1\n",
    "t = np.linspace(0, 1, 500)\n",
    "\n",
    "# Create noise. \n",
    "noise_amp = 1\n",
    "noise = np.random.normal(0,noise_amp,500)\n",
    "\n",
    "# Create signal.\n",
    "f = 50\n",
    "f_m = 10\n",
    "h = 2.41\n",
    "phase = PI/2\n",
    "signal_amp = 8\n",
    "signal = signal_amp*np.sin(f * 2 * PI * t+ h*np.sin(f_m * 2 * PI * t) + phase )\n",
    "\n",
    "# Add the noise. \n",
    "signal = signal + noise\n",
    "\n",
    "# Plot.\n",
    "\n",
    "# plt.ylabel(\"Amplitude\")\n",
    "# plt.xlabel(\"Time [s]\")\n",
    "# plt.plot(t, signal)\n",
    "# plt.show()\n"
   ]
  },
  {
   "cell_type": "markdown",
   "metadata": {},
   "source": [
    "### Run an FFT on the signal"
   ]
  },
  {
   "cell_type": "code",
   "execution_count": 57,
   "metadata": {},
   "outputs": [],
   "source": [
    "fft = np.fft.fft(signal)\n",
    "T = t[1] - t[0]  # sampling interval \n",
    "N = signal.size\n",
    "\n",
    "freq_axis = np.linspace(0, 1 / T, N)\n",
    "\n",
    "plt.ylabel(\"Amplitude\")\n",
    "plt.xlabel(\"Frequency [Hz]\")\n",
    "plt.bar(freq_axis[:N // 2], np.abs(fft)[:N // 2] * 1 / N, width=1)  # 1 / N is a normalization factor\n",
    "plt.show()"
   ]
  },
  {
   "cell_type": "markdown",
   "metadata": {},
   "source": [
    "## FFT on product of two modulated signals:  "
   ]
  },
  {
   "cell_type": "markdown",
   "metadata": {},
   "source": [
    "### Simulate two modulated signals"
   ]
  },
  {
   "cell_type": "code",
   "execution_count": null,
   "metadata": {},
   "outputs": [],
   "source": [
    "@interact\n",
    "def show_articles_more_than(column='claps', x=5000):\n",
    "    return df.loc[df[column] > x]"
   ]
  },
  {
   "cell_type": "code",
   "execution_count": null,
   "metadata": {},
   "outputs": [],
   "source": []
  },
  {
   "cell_type": "code",
   "execution_count": 2,
   "metadata": {},
   "outputs": [
    {
     "data": {
      "application/vnd.jupyter.widget-view+json": {
       "model_id": "907e828059cc4af1bbb098204d586783",
       "version_major": 2,
       "version_minor": 0
      },
      "text/plain": [
       "interactive(children=(IntSlider(value=25, description='f', max=50, min=1), IntSlider(value=5, description='f_m…"
      ]
     },
     "metadata": {},
     "output_type": "display_data"
    }
   ],
   "source": [
    "@interact\n",
    "def create_signal(f = (1,50,1), f_m = (1,10,1), h = (0,10,.1)):\n",
    "    # Constants. \n",
    "\n",
    "    PI = np.pi\n",
    "\n",
    "    # Discrete time axis. \n",
    "    signal_duration = 1\n",
    "    t = np.linspace(0, 1, 500)\n",
    "\n",
    "    # Create noise. \n",
    "    noise_amp = 1\n",
    "    noise_1 = np.random.normal(0,noise_amp,500)\n",
    "    noise_2 = np.random.normal(0,noise_amp,500)\n",
    "\n",
    "    # Create signal.\n",
    "#     f = 50\n",
    "#     f_m = f/f_m_ratio\n",
    "#     h = 2.41\n",
    "    signal_1_amp = 5\n",
    "    signal_2_amp = 5\n",
    "    signal_1 = signal_1_amp*np.sin(f * 2 * PI * t + h*np.sin(f_m * 2 * PI * t))\n",
    "    signal_2 = signal_2_amp*np.sin(f * 2 * PI * t - h*np.sin(f_m * 2 * PI * t))\n",
    "\n",
    "    # Add the noise. \n",
    "    signal_1 = signal_1 + noise_1\n",
    "    signal_2 = signal_2 + noise_2\n",
    "\n",
    "    # Create the product signal:\n",
    "    signal = signal_1*signal_2\n",
    "    fft = np.fft.fft(signal)\n",
    "    T = t[1] - t[0]  # sampling interval \n",
    "    N = signal.size\n",
    "\n",
    "    freq_axis = np.linspace(0, 1 / T, N)\n",
    "\n",
    "    plt.ylabel(\"Amplitude\")\n",
    "    plt.xlabel(\"Frequency [Hz]\")\n",
    "    plt.bar(freq_axis[:N // 2], np.abs(fft)[:N // 2] * 1 / N, width=1)  # 1 / N is a normalization factor\n",
    "    plt.show()\n",
    "\n",
    "    return 0\n"
   ]
  },
  {
   "cell_type": "code",
   "execution_count": 87,
   "metadata": {},
   "outputs": [
    {
     "data": {
      "application/vnd.jupyter.widget-view+json": {
       "model_id": "7f65eae6866542eab29e1bfb9f8b183c",
       "version_major": 2,
       "version_minor": 0
      },
      "text/plain": [
       "interactive(children=(Text(value='claps', description='column'), IntSlider(value=5000, description='x', max=15…"
      ]
     },
     "metadata": {},
     "output_type": "display_data"
    }
   ],
   "source": [
    "@interact\n",
    "def create_signal(f = 50, f_m = 10, x=5000):\n",
    "    return df.loc[df[column] > x]"
   ]
  },
  {
   "cell_type": "code",
   "execution_count": 82,
   "metadata": {},
   "outputs": [],
   "source": [
    "import ipywidgets as widgets\n",
    "from ipywidgets import interact, interact_manual"
   ]
  },
  {
   "cell_type": "markdown",
   "metadata": {},
   "source": [
    "### Run an FFT on the signal"
   ]
  },
  {
   "cell_type": "code",
   "execution_count": 81,
   "metadata": {},
   "outputs": [],
   "source": [
    "fft = np.fft.fft(signal)\n",
    "T = t[1] - t[0]  # sampling interval \n",
    "N = signal.size\n",
    "\n",
    "freq_axis = np.linspace(0, 1 / T, N)\n",
    "\n",
    "plt.ylabel(\"Amplitude\")\n",
    "plt.xlabel(\"Frequency [Hz]\")\n",
    "plt.bar(freq_axis[:N // 2], np.abs(fft)[:N // 2] * 1 / N, width=1)  # 1 / N is a normalization factor\n",
    "plt.show()"
   ]
  },
  {
   "cell_type": "code",
   "execution_count": null,
   "metadata": {},
   "outputs": [],
   "source": []
  }
 ],
 "metadata": {
  "kernelspec": {
   "display_name": "Python 3",
   "language": "python",
   "name": "python3"
  },
  "language_info": {
   "codemirror_mode": {
    "name": "ipython",
    "version": 3
   },
   "file_extension": ".py",
   "mimetype": "text/x-python",
   "name": "python",
   "nbconvert_exporter": "python",
   "pygments_lexer": "ipython3",
   "version": "3.7.6"
  }
 },
 "nbformat": 4,
 "nbformat_minor": 4
}
