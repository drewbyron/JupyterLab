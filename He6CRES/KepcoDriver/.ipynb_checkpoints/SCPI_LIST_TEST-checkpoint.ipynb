{
 "cells": [
  {
   "cell_type": "markdown",
   "metadata": {},
   "source": [
    "## SCPI LIST FLIPPING"
   ]
  },
  {
   "cell_type": "code",
   "execution_count": 9,
   "metadata": {},
   "outputs": [],
   "source": [
    "from KepcoDriver import KepcoBIT802E "
   ]
  },
  {
   "cell_type": "code",
   "execution_count": 25,
   "metadata": {},
   "outputs": [],
   "source": [
    "test = KepcoBIT802E()"
   ]
  },
  {
   "cell_type": "code",
   "execution_count": 44,
   "metadata": {},
   "outputs": [],
   "source": [
    "test.Message_NOreturn('*RST')\n",
    "test.Message_NOreturn('FUNC:MODE CURR')\n",
    "test.Message_NOreturn('VOLT2')\n",
    "test.Message_NOreturn('LIST:CLE')\n",
    "test.Message_NOreturn('LIST:DWEL 5')\n",
    "test.Message_NOreturn('LIST:CURR -.5,-.4,-.3,-.2,-.1,0')\n",
    "test.Message_NOreturn('LIST:COUN 2')\n"
   ]
  },
  {
   "cell_type": "code",
   "execution_count": 39,
   "metadata": {},
   "outputs": [],
   "source": [
    "test.Message_NOreturn('OUTP ON')\n",
    "test.Message_NOreturn('CURR:MODE LIST ')"
   ]
  },
  {
   "cell_type": "code",
   "execution_count": 45,
   "metadata": {},
   "outputs": [
    {
     "data": {
      "text/plain": [
       "b'6\\r\\n'"
      ]
     },
     "execution_count": 45,
     "metadata": {},
     "output_type": "execute_result"
    }
   ],
   "source": [
    "test.Message_return('LIST:CURR:POIN?')"
   ]
  },
  {
   "cell_type": "markdown",
   "metadata": {},
   "source": [
    "## NOTES \n",
    "\n",
    "3/11/20: \n",
    "\n",
    "* I can now create a list and execute it (for current controlled mode, still acting weird in voltage controlled mode). \n",
    "* Next steps will be to see if you can flip faster with this method and add some functions to the driver. Page 79/ B-9 in the manual. \n",
    "* I also need to look at what it looks like when it's flipping while connected to the coil. How to do this? \n",
    "\n",
    "* Eventually I need to clean up all this code so it makes sense to me and any others\n"
   ]
  },
  {
   "cell_type": "code",
   "execution_count": null,
   "metadata": {},
   "outputs": [],
   "source": []
  }
 ],
 "metadata": {
  "kernelspec": {
   "display_name": "Python 3",
   "language": "python",
   "name": "python3"
  },
  "language_info": {
   "codemirror_mode": {
    "name": "ipython",
    "version": 3
   },
   "file_extension": ".py",
   "mimetype": "text/x-python",
   "name": "python",
   "nbconvert_exporter": "python",
   "pygments_lexer": "ipython3",
   "version": "3.7.4"
  }
 },
 "nbformat": 4,
 "nbformat_minor": 4
}
