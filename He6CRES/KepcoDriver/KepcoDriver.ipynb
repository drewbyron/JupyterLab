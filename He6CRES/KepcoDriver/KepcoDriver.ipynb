{
 "cells": [
  {
   "cell_type": "markdown",
   "metadata": {},
   "source": [
    "# KepcoDriver \n",
    "\n",
    "Here I will test code that will go into KepcoDriver.py\n",
    "\n",
    "**Notes**\n",
    "\n",
    "* I am using a 2 ohm resistor for testing purposes. \n",
    "* I need to code in a safety mechanism to not let the supply get to a dangerously high voltage/current.\n",
    "* I should look into the message bounce. Now (2/4/20) it doesn't seem to be doing it so my code is breaking.\n",
    "* BIG: IF the outp function goes off the supply will look like it works but then display and output nothing. Learned this the hard way. Maybe when an instance of Kepco bop is made I should \"*rst\" and then \"OUTP ON\". To make sure it's good to go. \n",
    "* 2/10/20: Get the mode thing to work, weird that you have to set a voltage first but seems to be working now as I want it. Get it to work on the current side of things and then get the flipping to work. Also getVOLT gets what the voltage has been set to but not what it truly is. How do I get what it actually is? "
   ]
  },
  {
   "cell_type": "code",
   "execution_count": 1,
   "metadata": {},
   "outputs": [],
   "source": [
    "#!/usr/bin/env python2\n",
    "import socket\n",
    "from socket import socket, AF_INET, SOCK_DGRAM, SOCK_STREAM\n",
    "\n",
    "class dsocket(socket):\n",
    "    def sendMessage(self,message):\n",
    "        try: \n",
    "            self.send(str.encode(message))\n",
    "        except RuntimeError: \n",
    "            raise RuntimeError(\"Error: Kepco PS not responding\")\n",
    "\n",
    "class KepcoBIT802E():\n",
    "    \n",
    "    \n",
    "    def __init__(self, dsoc_desc=(\"10.66.192.42\",5025)):\n",
    "        \"\"\"\n",
    "        Initialize a Kepco Power Supply controlled via the BIT 802E Digital Interface Card; \n",
    "        open a data socket from the client side for communication\n",
    "        Note that after recieving a command the BIT 802E responds first with the command itself.\n",
    "        This first response is denoted message_bounce.\n",
    "        ----------Parameters----------\n",
    "        dsoc_desc (tuple): A tuple with the first element the IP address\n",
    "            and the second element the port where data is to be received. \n",
    "        \"\"\"\n",
    "        \n",
    "        self.ds = dsocket(AF_INET,SOCK_STREAM) # Note: SOCK_STREAM is default \n",
    "        if not dsoc_desc is None:\n",
    "            try:\n",
    "                self.ds.connect(dsoc_desc)\n",
    "            except RuntimeError:\n",
    "                raise RuntimeError(\"Error: Unable to connect to server at {0}\".format(dsoc_desc))\n",
    "        \n",
    "        # I need to think about if this is the right place for this. \n",
    "        \n",
    "        self.ds.sendMessage(\"*RST\\r\\n\")\n",
    "#         self.ds.sendMessage(\"OUTP ON\\r\\n\")\n",
    "    \n",
    "\n",
    "    def setMode_VOLT(self, MaxCurr):\n",
    "        \"\"\"\n",
    "        Sets Kepco Mode to VOLT. VOLT Mode means the supply is Voltage controlled;\n",
    "        If you set MaxCurr = .1 A then you can setVolt(x) so long as voltage x doesn't create a current \n",
    "        larger than MaxCurr. Note that an x that puts the current near .1 A will \n",
    "        cause the output voltage to be less than x. \n",
    "        \"\"\"\n",
    "        self.ds.sendMessage(\"FUNC:MODE VOLT\") \n",
    "        self.ds.sendMessage(\"VOLT 0;:OUTP ON\\r\\n\") # For some reason you need to send it a volt command first. \n",
    "        self.ds.sendMessage(\"CURR {}\\r\\n\".format(MaxCurr)) \n",
    "\n",
    "        \n",
    "        return None     \n",
    "    \n",
    "    def setMode_CURR(self, MaxVolt):\n",
    "        \"\"\"\n",
    "        Sets Kepco Mode to Curr. See comments for setMode_VOLT\n",
    "        \"\"\"\n",
    "        self.ds.sendMessage(\"FUNC:MODE CURR\") \n",
    "        self.ds.sendMessage(\"CURR 0;:OUTP ON\\r\\n\") # For some reason you need to send it a volt command first. \n",
    "        self.ds.sendMessage(\"VOLT {}\\r\\n\".format(MaxVolt)) \n",
    "\n",
    "        \n",
    "        return None  \n",
    "   \n",
    "    def setVolt(self, Volt):\n",
    "        \"\"\"\n",
    "        Returns message sent. \n",
    "        \"\"\"\n",
    "        self.ds.sendMessage(\"VOLT {};:OUTP ON\\r\\n\".format(Volt)) \n",
    "    \n",
    "        return None\n",
    "   \n",
    "\n",
    "    def setCurr(self, Curr):\n",
    "        \"\"\"\n",
    "        Returns message sent. Note that I should think about making this verify it has worked...\n",
    "        \"\"\"\n",
    "        self.ds.sendMessage(\"CURR {};:OUTP ON\\r\\n\".format(Curr))  \n",
    "    \n",
    "        return None  \n",
    "    \n",
    "    \n",
    "    def getVolt(self):\n",
    "        \"\"\"\n",
    "        Returns string representing KEPCO voltage in Volts\n",
    "        \"\"\"\n",
    "        self.ds.sendMessage(\"MEAS:VOLT?\\r\\n\")\n",
    "        response = self.ds.recv(100) \n",
    "        return response\n",
    "\n",
    "    \n",
    "    def getCurr(self):\n",
    "        \"\"\"\n",
    "        Returns string representing KEPCO current in Amps\n",
    "        \"\"\"\n",
    "        self.ds.sendMessage(\"MEAS:CURR?\\r\\n\")                       \n",
    "        response = self.ds.recv(100)\n",
    "        return response\n",
    "    \n",
    "    \n",
    "    def Message_return(self, message):\n",
    "        \"\"\"\n",
    "        Returns string representing KEPCO current in Amps\n",
    "        \"\"\"\n",
    "        self.ds.sendMessage(\"{}\\r\\n\".format(message))                      \n",
    "        response = self.ds.recv(100) \n",
    "        return response\n",
    "\n",
    "    \n",
    "    def Message_NOreturn(self, message):\n",
    "        \"\"\"\n",
    "        Returns string representing KEPCO current in Amps\n",
    "        \"\"\"\n",
    "        self.ds.sendMessage(\"{}\\r\\n\".format(message))                      \n",
    "        return None\n",
    "   \n"
   ]
  },
  {
   "cell_type": "markdown",
   "metadata": {},
   "source": [
    "# Testing Slewing of the Field: 04/15/21\n",
    "\n",
    "To start VPN into CENPA Network: \n",
    "\n",
    "cd He6CRES/CENPA_VPN\n",
    "\n",
    "sudo openvpn --config CENPADrewByron.ovpn\n",
    "\n",
    "(mypw, cenpa)"
   ]
  },
  {
   "cell_type": "markdown",
   "metadata": {},
   "source": [
    "## Constant Current Trap: "
   ]
  },
  {
   "cell_type": "code",
   "execution_count": 11,
   "metadata": {},
   "outputs": [],
   "source": [
    "from KepcoDriver import KepcoBIT802E"
   ]
  },
  {
   "cell_type": "code",
   "execution_count": 12,
   "metadata": {},
   "outputs": [],
   "source": [
    "driver = KepcoBIT802E()\n"
   ]
  },
  {
   "cell_type": "code",
   "execution_count": 13,
   "metadata": {},
   "outputs": [
    {
     "name": "stdout",
     "output_type": "stream",
     "text": [
      "b'-6.9974E-1\\r\\n'\n"
     ]
    }
   ],
   "source": [
    "# Example of how this works: \n",
    "\n",
    "driver.setMode_Curr(MaxCurr = 1)\n",
    "driver.setCurr(-.7)\n",
    "print(driver.getCurr())"
   ]
  },
  {
   "cell_type": "code",
   "execution_count": 9,
   "metadata": {},
   "outputs": [],
   "source": [
    "from SlewingFunctions import SlewFunction_Curr"
   ]
  },
  {
   "cell_type": "code",
   "execution_count": 10,
   "metadata": {},
   "outputs": [
    {
     "ename": "KeyboardInterrupt",
     "evalue": "",
     "output_type": "error",
     "traceback": [
      "\u001b[0;31m---------------------------------------------------------------------------\u001b[0m",
      "\u001b[0;31mKeyboardInterrupt\u001b[0m                         Traceback (most recent call last)",
      "\u001b[0;32m<ipython-input-10-6438adbf795f>\u001b[0m in \u001b[0;36m<module>\u001b[0;34m\u001b[0m\n\u001b[1;32m      6\u001b[0m \u001b[0mCurrValDown\u001b[0m \u001b[0;34m=\u001b[0m \u001b[0;36m.1\u001b[0m  \u001b[0;31m# A\u001b[0m\u001b[0;34m\u001b[0m\u001b[0;34m\u001b[0m\u001b[0m\n\u001b[1;32m      7\u001b[0m \u001b[0mMaxCurr\u001b[0m \u001b[0;34m=\u001b[0m \u001b[0;36m.8\u001b[0m      \u001b[0;31m# A\u001b[0m\u001b[0;34m\u001b[0m\u001b[0;34m\u001b[0m\u001b[0m\n\u001b[0;32m----> 8\u001b[0;31m \u001b[0mT_stamps\u001b[0m \u001b[0;34m=\u001b[0m \u001b[0mSlewFunction_Curr\u001b[0m\u001b[0;34m(\u001b[0m\u001b[0mT_up\u001b[0m\u001b[0;34m,\u001b[0m\u001b[0mT_down\u001b[0m\u001b[0;34m,\u001b[0m\u001b[0mduration\u001b[0m\u001b[0;34m,\u001b[0m\u001b[0mCurrValUp\u001b[0m\u001b[0;34m,\u001b[0m\u001b[0mCurrValDown\u001b[0m\u001b[0;34m,\u001b[0m \u001b[0mMaxCurr\u001b[0m\u001b[0;34m)\u001b[0m\u001b[0;34m\u001b[0m\u001b[0;34m\u001b[0m\u001b[0m\n\u001b[0m",
      "\u001b[0;32m~/He6CRES/JupyterLab/He6CRES/KepcoDriver/SlewingFunctions.py\u001b[0m in \u001b[0;36mSlewFunction_Curr\u001b[0;34m(T_up, T_down, duration, CurrValUp, CurrValDown, MaxCurr)\u001b[0m\n\u001b[1;32m     26\u001b[0m         \u001b[0mtime\u001b[0m\u001b[0;34m.\u001b[0m\u001b[0msleep\u001b[0m\u001b[0;34m(\u001b[0m\u001b[0mT_up\u001b[0m\u001b[0;34m)\u001b[0m\u001b[0;34m\u001b[0m\u001b[0;34m\u001b[0m\u001b[0m\n\u001b[1;32m     27\u001b[0m         \u001b[0mps\u001b[0m\u001b[0;34m.\u001b[0m\u001b[0msetCurr\u001b[0m\u001b[0;34m(\u001b[0m\u001b[0mCurrValDown\u001b[0m\u001b[0;34m)\u001b[0m\u001b[0;34m\u001b[0m\u001b[0;34m\u001b[0m\u001b[0m\n\u001b[0;32m---> 28\u001b[0;31m         \u001b[0mtime\u001b[0m\u001b[0;34m.\u001b[0m\u001b[0msleep\u001b[0m\u001b[0;34m(\u001b[0m\u001b[0mT_down\u001b[0m\u001b[0;34m)\u001b[0m\u001b[0;34m\u001b[0m\u001b[0;34m\u001b[0m\u001b[0m\n\u001b[0m\u001b[1;32m     29\u001b[0m         \u001b[0mT_stamps\u001b[0m\u001b[0;34m.\u001b[0m\u001b[0mappend\u001b[0m\u001b[0;34m(\u001b[0m\u001b[0mtime\u001b[0m\u001b[0;34m.\u001b[0m\u001b[0mtime\u001b[0m\u001b[0;34m(\u001b[0m\u001b[0;34m)\u001b[0m\u001b[0;34m-\u001b[0m\u001b[0mtimeout_start\u001b[0m\u001b[0;34m)\u001b[0m\u001b[0;34m\u001b[0m\u001b[0;34m\u001b[0m\u001b[0m\n\u001b[1;32m     30\u001b[0m         \u001b[0mi\u001b[0m\u001b[0;34m+=\u001b[0m \u001b[0;36m1\u001b[0m\u001b[0;34m\u001b[0m\u001b[0;34m\u001b[0m\u001b[0m\n",
      "\u001b[0;31mKeyboardInterrupt\u001b[0m: "
     ]
    }
   ],
   "source": [
    "CompTime = 0.0008\n",
    "T_up =  .1     # s\n",
    "T_down = .1 - CompTime  # s\n",
    "duration = 1000   # s\n",
    "CurrValUp = -.6   # A\n",
    "CurrValDown = .1  # A\n",
    "MaxCurr = .8      # A\n",
    "T_stamps = SlewFunction_Curr(T_up,T_down,duration,CurrValUp,CurrValDown, MaxCurr)"
   ]
  },
  {
   "cell_type": "code",
   "execution_count": 15,
   "metadata": {},
   "outputs": [
    {
     "name": "stdout",
     "output_type": "stream",
     "text": [
      "(500,)\n",
      "0.20026262728628033 0.00047633259412158477\n"
     ]
    }
   ],
   "source": [
    "import numpy as np\n",
    "T_stamps = np.asarray(T_stamps)\n",
    "print(T_stamps.shape)\n",
    "Intervals = T_stamps[1:]-T_stamps[:-1]\n",
    "print(Intervals.mean(), Intervals.std())"
   ]
  },
  {
   "cell_type": "markdown",
   "metadata": {},
   "source": [
    "# Testing Warming of the Trap Coil: \n",
    "\n",
    "Parameters: \n",
    "\n",
    "* 30 mins. \n",
    "* Slewing from +.5 A to -.1A. \n",
    "* Initial Temp: 52.695 K\n",
    "* Final Temp: 52.772 \n",
    "* Note: I don't think it really worked... Seems like the slewing timed out. \n"
   ]
  }
 ],
 "metadata": {
  "kernelspec": {
   "display_name": "Python 3",
   "language": "python",
   "name": "python3"
  },
  "language_info": {
   "codemirror_mode": {
    "name": "ipython",
    "version": 3
   },
   "file_extension": ".py",
   "mimetype": "text/x-python",
   "name": "python",
   "nbconvert_exporter": "python",
   "pygments_lexer": "ipython3",
   "version": "3.7.6"
  }
 },
 "nbformat": 4,
 "nbformat_minor": 4
}
