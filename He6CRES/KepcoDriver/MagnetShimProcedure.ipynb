{
 "cells": [
  {
   "cell_type": "markdown",
   "metadata": {},
   "source": [
    "## Magnet Shim Procedure:\n",
    "\n",
    "I would like to create a .ipynb that can be used to safely shim the coils. \n",
    "This will take: \n",
    "* Being able to use the LIST feature to slowly ramp up and down at a given rate. \n",
    "* Being able to store the current values of the shim coils safely for future refernce in a csv or something. We should also store in another way so it's redundant? \n",
    "    * This could look like a legder where before each action the code looks at the ledger to make sure that it is ramping to the right value.\n",
    "* It would also be cool to have the steps of the procedure prompt you to do the next step in the procedure. (from below)\n",
    "    \n",
    "    \n",
    "Alejandro's Procedure for Reference: \n",
    "\n",
    "Proposed steps for biasing one shim coil: please review and comment.\n",
    "Below PS stands for Persistent Switch and NOT for power supply.\n",
    "Procedure for biasing shim coil (example for Z shim coil).\n",
    "* Position NMR probe at non-zero Z value, so it is sensitive to Z-coil current;\n",
    "* Make sure main coil is biased at the wanted current/field;\n",
    "* Check that the Z^2 PS heater is on, as usual when main coils are biased; the rest of the heaters should be off;\n",
    "* Turn off the Z^2 PS heater;\n",
    "* Turn on the Z PS heater; Wait 20 s;\n",
    "* Ramp the shim-coil power supply to desired current; Ramp current at about 0.5 A/minute. NMR probe should show change in field;\n",
    "* Once wanted current has been achieved, write down current; Important: one needs to come back to this value later, when unbiasing the shim coil; failure to have the correct current could generate a magnet quench;\n",
    "* Turn off the Z PS heater; Wait 20 s; At this point the coil is biased;\n",
    "* Ramp down the current supply; The field should show no changes as you do this --> Check and stop if not true.\n",
    "* System is ready to use; All PS heaters should be off at this point.\n",
    "\n",
    "Procedure for unbiasing shim coil: \n",
    "* With all PS heaters off, ramp the current in the shim-coil power supply to the previously recorded value;\n",
    "* Turn on the Z shim-coil PS heater; Wait 20 s;\n",
    "* Ramp shim-coil power supply down to zero; Ramp current at about 0.5 A/minute.\n",
    "* Turn off Z shim-coil PS heater."
   ]
  },
  {
   "cell_type": "code",
   "execution_count": null,
   "metadata": {},
   "outputs": [],
   "source": []
  },
  {
   "cell_type": "code",
   "execution_count": null,
   "metadata": {},
   "outputs": [],
   "source": []
  }
 ],
 "metadata": {
  "kernelspec": {
   "display_name": "Python 3",
   "language": "python",
   "name": "python3"
  },
  "language_info": {
   "codemirror_mode": {
    "name": "ipython",
    "version": 3
   },
   "file_extension": ".py",
   "mimetype": "text/x-python",
   "name": "python",
   "nbconvert_exporter": "python",
   "pygments_lexer": "ipython3",
   "version": "3.7.6"
  }
 },
 "nbformat": 4,
 "nbformat_minor": 4
}
