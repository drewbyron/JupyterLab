{
 "cells": [
  {
   "cell_type": "code",
   "execution_count": 1,
   "metadata": {},
   "outputs": [],
   "source": [
    "import numpy as np\n",
    "from numpy.random import default_rng\n",
    "rng = default_rng(12345)\n",
    "\n",
    "import pandas as pd\n",
    "import matplotlib.pyplot as plt\n",
    "pd.options.mode.chained_assignment = None\n",
    "pd.set_option('display.max_rows', 500)\n",
    "pd.set_option('display.max_columns', 500)"
   ]
  },
  {
   "cell_type": "code",
   "execution_count": null,
   "metadata": {},
   "outputs": [],
   "source": []
  },
  {
   "cell_type": "markdown",
   "metadata": {},
   "source": [
    "### Simple first: "
   ]
  },
  {
   "cell_type": "code",
   "execution_count": 8,
   "metadata": {},
   "outputs": [
    {
     "name": "stdout",
     "output_type": "stream",
     "text": [
      "(23,) (23,)\n"
     ]
    },
    {
     "data": {
      "text/plain": [
       "[<matplotlib.lines.Line2D at 0x7f1ebc04b490>]"
      ]
     },
     "execution_count": 8,
     "metadata": {},
     "output_type": "execute_result"
    }
   ],
   "source": [
    "import numpy as np\n",
    "\n",
    "x_start = .10\n",
    "x_end = 9.3\n",
    "\n",
    "y_start = .250\n",
    "y_end = 12.4\n",
    "\n",
    "xd = np.arange(int(x_start)+1, int(x_end)+1, 1)\n",
    "yd = np.arange(int(y_start)+1, int(y_end)+1, 1)\n",
    "\n",
    "# Find line equation.\n",
    "m = (y_end - y_start)/(x_end-x_start)\n",
    "b = y_start - m*x_start\n",
    "\n",
    "# Find list of x values for all grid intersections: \n",
    "x_i = (yd-b)/m\n",
    "y_i = xd*m + b\n",
    "\n",
    "x_val_of_grid_intersections = np.concatenate((xd,x_i,np.asarray([x_start,x_end])))\n",
    "# np.append(x_val_of_grid_intersections,)\n",
    "x_val_of_grid_intersections.sort()\n",
    "\n",
    "y_val_of_grid_intersections = np.concatenate((yd,y_i,np.asarray([y_start,y_end])))\n",
    "y_val_of_grid_intersections.sort()\n",
    "\n",
    "\n",
    "print(y_val_of_grid_intersections.shape, x_val_of_grid_intersections.shape)\n",
    "\n",
    "fig, ax = plt.subplots(1, 1, figsize = (14,7))\n",
    "x_ticks = np.arange(int(x_start), int(x_end)+1, 1)\n",
    "y_ticks = np.arange(int(y_start), int(y_end)+1, )\n",
    "ax.set_xticks(x_ticks)\n",
    "ax.set_yticks(y_ticks)\n",
    "ax.grid(which = 'both')\n",
    "ax.plot(x_val_of_grid_intersections,y_val_of_grid_intersections, marker = \"o\")\n",
    "\n",
    "# Now find the midpoints of all the lines: \n",
    "x_grid_indx = ((x_val_of_grid_intersections[:-1]+x_val_of_grid_intersections[1:])/2)\n",
    "y_grid_indx = ((y_val_of_grid_intersections[:-1]+y_val_of_grid_intersections[1:])/2)\n",
    "\n",
    "ax.plot(x_grid_indx,y_grid_indx, 'r+')"
   ]
  },
  {
   "cell_type": "code",
   "execution_count": 9,
   "metadata": {},
   "outputs": [
    {
     "data": {
      "text/plain": [
       "<matplotlib.colorbar.Colorbar at 0x7f1eb6ebc810>"
      ]
     },
     "execution_count": 9,
     "metadata": {},
     "output_type": "execute_result"
    }
   ],
   "source": [
    "\n",
    "xd = np.arange(int(x_start)+1, int(x_end)+1, 1)\n",
    "yd = np.arange(int(y_start)+1, int(y_end)+1, 1)\n",
    "\n",
    "fig, ax = plt.subplots(1, 1, figsize = (14,7))\n",
    "x_ticks = np.arange(int(x_start), int(x_end)+1, 1)\n",
    "y_ticks = np.arange(int(y_start), int(y_end)+1, )\n",
    "ax.set_xticks(x_ticks)\n",
    "ax.set_yticks(y_ticks)\n",
    "ax.grid(which = 'both', linewidth=5)\n",
    "ax.plot(x_val_of_grid_intersections,y_val_of_grid_intersections, marker = \"o\")\n",
    "\n",
    "# Now find the midpoints of all the lines: \n",
    "x_grid_indx = ((x_val_of_grid_intersections[:-1]+x_val_of_grid_intersections[1:])/2)\n",
    "y_grid_indx = ((y_val_of_grid_intersections[:-1]+y_val_of_grid_intersections[1:])/2)\n",
    "\n",
    "# ax.plot(x_grid_indx,y_grid_indx, 'r+')\n",
    "\n",
    "# Now find the coordinates of the effected cells: \n",
    "x_grid_indx = x_grid_indx.astype(\"int\")\n",
    "y_grid_indx = y_grid_indx.astype(\"int\")\n",
    "\n",
    "# Now find the power that should be associated with that cell: \n",
    "mesh_width_x = 1\n",
    "relative_power = (x_val_of_grid_intersections[1:]-x_val_of_grid_intersections[:-1])*10\n",
    "\n",
    "# Now we want a imshow grid that aligns with the grid we have above: \n",
    "img = np.zeros((int(x_end)+1, int(y_end)+1), dtype=np.uint8)\n",
    "img[x_grid_indx,y_grid_indx] = relative_power\n",
    "\n",
    "cmap = ax.pcolormesh(img.T, alpha = .2,cmap='jet') \n",
    "fig.colorbar(cmap)"
   ]
  },
  {
   "cell_type": "markdown",
   "metadata": {},
   "source": [
    "### Now generalize to a more realistic situation: "
   ]
  },
  {
   "cell_type": "code",
   "execution_count": 2,
   "metadata": {},
   "outputs": [],
   "source": [
    "\n",
    "def allocate_powers(start_coordinate = (.1,100e6), stop_coordinate = (.5,151e6), freq_BW_low = 0, freq_BW_hi = 1.2e9, freq_bins =200, \n",
    "                    time_spec_start = 0, time_slices = 20, time_per_slice = 54e-3 ): \n",
    "    \n",
    "    # Start by making the grid in freq and time\n",
    "    freq_per_bin = (freq_BW_hi - freq_BW_low)/freq_bins\n",
    "    time_spec_stop = time_spec_start + time_slices*time_per_slice\n",
    "    t_ticks = np.arange(time_spec_start, time_spec_stop+1*time_per_slice, time_per_slice)\n",
    "    f_ticks = np.arange(freq_BW_low, freq_BW_hi+1*freq_per_bin, freq_per_bin)\n",
    "    \n",
    "    # Now we want to grab the ticks that are within the line: \n",
    "    time_start,freq_start = start_coordinate\n",
    "    time_stop,freq_stop = stop_coordinate\n",
    "    \n",
    "    t_intercepts = t_ticks[(t_ticks > time_start) & (t_ticks < time_stop)]\n",
    "    f_intercepts = f_ticks[(f_ticks > freq_start) & (f_ticks < freq_stop)]\n",
    "\n",
    "    # Find line equation.\n",
    "    m = (freq_stop - freq_start)/(time_stop-time_start)\n",
    "    b = freq_start - m*time_start\n",
    "\n",
    "    # Find list of x values for all grid intersections: \n",
    "    t_i = (f_intercepts-b)/m\n",
    "    f_i = t_intercepts*m + b\n",
    "\n",
    "    t_val_of_grid_intersections = np.concatenate((t_intercepts,t_i,np.asarray([time_start,time_stop])))\n",
    "    t_val_of_grid_intersections.sort()\n",
    "\n",
    "    f_val_of_grid_intersections = np.concatenate((f_intercepts,f_i,np.asarray([freq_start,freq_stop])))\n",
    "    f_val_of_grid_intersections.sort()\n",
    "\n",
    "    fig, ax = plt.subplots(1, 1, figsize = (14,7))\n",
    "    ax.set_xticks(t_ticks)\n",
    "    ax.set_yticks(f_ticks)\n",
    "    ax.grid(which = 'both')\n",
    "    ax.plot(t_val_of_grid_intersections,f_val_of_grid_intersections, marker = \"o\")\n",
    "\n",
    "    # Now find the midpoints of all the lines: \n",
    "    t_grid_indx = ((t_val_of_grid_intersections[:-1]+t_val_of_grid_intersections[1:])/2)\n",
    "    f_grid_indx = ((f_val_of_grid_intersections[:-1]+f_val_of_grid_intersections[1:])/2)\n",
    "\n",
    "    ax.plot(t_grid_indx,f_grid_indx, 'r+')\n",
    "    plt.show()\n",
    "    # Now find the coordinates of the effected cells: \n",
    "    t_grid_indx = (t_grid_indx/time_per_slice).astype(\"int\")\n",
    "    f_grid_indx = (f_grid_indx/freq_per_bin).astype(\"int\")\n",
    "\n",
    "    print(t_grid_indx.shape, f_grid_indx.shape, )\n",
    "    # Now find the power that should be associated with that cell: \n",
    "#     mesh_width_x = 1\n",
    "    relative_power = (t_val_of_grid_intersections[1:]-t_val_of_grid_intersections[:-1])*100/time_per_slice\n",
    "    print(t_grid_indx.shape, f_grid_indx.shape, relative_power.shape )\n",
    "    # Now we want a imshow grid that aligns with the grid we have above: \n",
    "    print(t_ticks.shape, f_ticks.shape)\n",
    "    img = np.zeros((t_ticks.shape[0]+1, f_ticks.shape[0]+1), dtype=np.uint8)\n",
    "    img[t_grid_indx,f_grid_indx] = relative_power\n",
    "    fig, ax = plt.subplots(1, 1, figsize = (14,7))\n",
    "    cmap = ax.pcolormesh(img.T, alpha = .2,cmap='jet')\n",
    "    ax.plot(t_val_of_grid_intersections/time_per_slice,f_val_of_grid_intersections/freq_per_bin, marker = \"o\")\n",
    "    fig.colorbar(cmap)\n",
    "    plt.show()"
   ]
  },
  {
   "cell_type": "code",
   "execution_count": 3,
   "metadata": {},
   "outputs": [
    {
     "name": "stdout",
     "output_type": "stream",
     "text": [
      "(18,) (18,)\n",
      "(18,) (18,) (18,)\n",
      "(22,) (201,)\n"
     ]
    }
   ],
   "source": [
    "%matplotlib qt\n",
    "allocate_powers()"
   ]
  },
  {
   "cell_type": "code",
   "execution_count": 136,
   "metadata": {},
   "outputs": [
    {
     "name": "stdout",
     "output_type": "stream",
     "text": [
      "[1 2 1 2 3 2 3 4 3 4 5 6 5 6 7 6 7 8 7 8] [1 1 2 2 2 3 3 3 4 4 4 4 5 5 5 6 6 6 7 7]\n"
     ]
    },
    {
     "data": {
      "text/plain": [
       "<matplotlib.image.AxesImage at 0x7f9fd44b9510>"
      ]
     },
     "execution_count": 136,
     "metadata": {},
     "output_type": "execute_result"
    },
    {
     "data": {
      "image/png": "[encoded data removed]",
      "text/plain": [
       "<Figure size 1320x880 with 1 Axes>"
      ]
     },
     "metadata": {
      "needs_background": "light"
     },
     "output_type": "display_data"
    }
   ],
   "source": [
    "# This almost works. Or it's at least a good model for how to do this: \n",
    "\n",
    "from skimage.draw import line_aa\n",
    "img = np.zeros((10, 10), dtype=np.uint8)\n",
    "rr, cc, val = line_aa(1, 1, 8, 7)\n",
    "print(rr,cc)\n",
    "img[rr, cc] = val*255 \n",
    "\n",
    "\n",
    "plt.imshow(img, aspect='auto',origin='lower')"
   ]
  }
 ],
 "metadata": {
  "kernelspec": {
   "display_name": "Python 3",
   "language": "python",
   "name": "python3"
  },
  "language_info": {
   "codemirror_mode": {
    "name": "ipython",
    "version": 3
   },
   "file_extension": ".py",
   "mimetype": "text/x-python",
   "name": "python",
   "nbconvert_exporter": "python",
   "pygments_lexer": "ipython3",
   "version": "3.7.6"
  }
 },
 "nbformat": 4,
 "nbformat_minor": 4
}
