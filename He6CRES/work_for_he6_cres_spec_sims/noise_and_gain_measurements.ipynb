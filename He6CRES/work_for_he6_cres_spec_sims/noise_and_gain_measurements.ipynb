{
 "cells": [
  {
   "cell_type": "code",
   "execution_count": null,
   "metadata": {},
   "outputs": [],
   "source": []
  },
  {
   "cell_type": "code",
   "execution_count": null,
   "metadata": {},
   "outputs": [],
   "source": []
  },
  {
   "cell_type": "markdown",
   "metadata": {},
   "source": [
    "## Creating a spec file with simulated noise. \n",
    "\n",
    "Goal: Create a realistic fake noise file that can be read by KTLongSpecProcessor.\n",
    "\n",
    "TODO: \n",
    "* These paths won't work right now. Fix them the next time you wish to make a new noise and gain file for spec_sims. "
   ]
  },
  {
   "cell_type": "code",
   "execution_count": 2,
   "metadata": {},
   "outputs": [],
   "source": [
    "%load_ext autoreload"
   ]
  },
  {
   "cell_type": "code",
   "execution_count": 3,
   "metadata": {},
   "outputs": [],
   "source": [
    "%autoreload 2\n",
    "import os \n",
    "import sys\n",
    "import struct \n",
    "import matplotlib.pyplot as plt\n",
    "plt.rcParams.update({'font.size': 22})\n",
    "import numpy as np\n",
    "import scipy.interpolate as interp \n",
    "from scipy.stats import chi2\n",
    "\n",
    "sys.path.append(\"/home/drew/He6CRES/he6-cres-spec-sims/\")\n",
    "from he6_cres_spec_sims.daq.frequency_domain_packet import FDpacket"
   ]
  },
  {
   "cell_type": "code",
   "execution_count": null,
   "metadata": {},
   "outputs": [],
   "source": [
    "## Investigating our noise floor with a colder Noise floor: "
   ]
  },
  {
   "cell_type": "code",
   "execution_count": null,
   "metadata": {},
   "outputs": [],
   "source": []
  },
  {
   "cell_type": "markdown",
   "metadata": {},
   "source": [
    "## Creating a new noise file to match the data taken on 4/30/21: (10072021)\n"
   ]
  },
  {
   "cell_type": "code",
   "execution_count": 4,
   "metadata": {},
   "outputs": [
    {
     "name": "stdout",
     "output_type": "stream",
     "text": [
      "Opened .spec noise file.\n"
     ]
    }
   ],
   "source": [
    "path = os.getcwd()\n",
    "background_file =\"/home/drew/He6CRES/CRESAnalysisAndSimulation/SpecFiles/NoiseMeasurement_10152021/Freq_data_2021-10-15-16-31-24.spec\"\n",
    "\n",
    "# October measurement: Freq_data_2021-10-01-16-34-34.spec\n",
    "\n",
    "# April measurement: Freq_data_2021-04-30-13-12-35.spec\n",
    "# Create the background to be altered.\n",
    "freq_bins = 8192\n",
    "slices_to_grab = 1000\n",
    "packets_per_slice = 4\n",
    "background = np.zeros((slices_to_grab*packets_per_slice,freq_bins), dtype = np.uint8)\n",
    "\n",
    "# open 50K file: \n",
    "try: \n",
    "    with open(background_file,'rb') as in_file:\n",
    "        print(\"Opened .spec noise file.\")\n",
    "        for m in range(slices_to_grab*packets_per_slice):\n",
    "            c = in_file.read(FDpacket.BYTES_IN_PACKET)\n",
    "            packet = FDpacket.from_byte_string(c)\n",
    "            background[m] = packet.interpret_data()\n",
    "        \n",
    "except Exception as e:\n",
    "    raise e"
   ]
  },
  {
   "cell_type": "code",
   "execution_count": 7,
   "metadata": {},
   "outputs": [
    {
     "name": "stdout",
     "output_type": "stream",
     "text": [
      "Select every 327th element in the background_flattened array to do the spline. \n",
      "\n"
     ]
    }
   ],
   "source": [
    "start_packet = 0\n",
    "background_flattened = np.concatenate((background[start_packet%4::4],\n",
    "                                       background[(start_packet+1)%4::4],\n",
    "                                       background[(start_packet+2)%4::4],\n",
    "                                       background[(start_packet+3)%4::4]), axis =1)\n",
    "# background_150K_flattened = np.concatenate((background_150K[0::4],background_150K[1::4],background_150K[2::4],background_150K[3::4]), axis =1)\n",
    "pts_in_spline = 100\n",
    "dev = int(freq_bins*4/pts_in_spline)\n",
    "print(\"Select every {}th element in the background_flattened array to do the spline. \\n\".format(dev))\n",
    "\n",
    "noise_floor = background_flattened.mean(axis = 0)\n",
    "# noise_floor_150K = background_150K_flattened.mean(axis = 0)\n",
    "noise_floor_bins = np.arange(0,noise_floor.shape[0],1)\n",
    "\n",
    "# Conduct a 300 pt cubic spline fit\n",
    "noise_floor_cubicspline = interp.CubicSpline(noise_floor_bins[::dev], noise_floor[::dev], extrapolate = True)\n",
    "# noise_floor_cubicspline_150K = interp.CubicSpline(noise_floor_bins[::dev], noise_floor_150K[::dev], extrapolate = True)\n",
    "\n",
    "noise_floor_smooth = noise_floor_cubicspline(noise_floor_bins).clip(0)\n",
    "# noise_floor_smooth_150K = noise_floor_cubicspline_150K(noise_floor_bins).clip(0)\n",
    "\n",
    "# # Make all negative "
   ]
  },
  {
   "cell_type": "code",
   "execution_count": 8,
   "metadata": {},
   "outputs": [
    {
     "data": {
      "text/plain": [
       "[<matplotlib.lines.Line2D at 0x7f87304c71d0>]"
      ]
     },
     "execution_count": 8,
     "metadata": {},
     "output_type": "execute_result"
    },
    {
     "data": {
      "image/png": "[encoded data removed]",
      "text/plain": [
       "<Figure size 432x288 with 1 Axes>"
      ]
     },
     "metadata": {
      "needs_background": "light"
     },
     "output_type": "display_data"
    }
   ],
   "source": [
    "plt.plot(noise_floor_smooth)"
   ]
  },
  {
   "cell_type": "code",
   "execution_count": null,
   "metadata": {},
   "outputs": [],
   "source": []
  },
  {
   "cell_type": "code",
   "execution_count": 36,
   "metadata": {},
   "outputs": [
    {
     "name": "stdout",
     "output_type": "stream",
     "text": [
      "Opened .spec noise file.\n"
     ]
    }
   ],
   "source": [
    "path = os.getcwd()\n",
    "background_file =\"/home/drew/He6CRES/CRESAnalysisAndSimulation/SpecFiles/KrTest_04302021/I_side_LessCharged/Freq_data_2021-04-30-13-12-12.spec\"\n",
    "\n",
    "# Create the background to be altered.\n",
    "freq_bins = 8192\n",
    "slices_to_grab = 1000\n",
    "packets_per_slice = 4\n",
    "background = np.zeros((slices_to_grab*packets_per_slice,freq_bins), dtype = np.uint8)\n",
    "\n",
    "# open 50K file: \n",
    "try: \n",
    "    with open(background_file,'rb') as in_file:\n",
    "        print(\"Opened .spec noise file.\")\n",
    "        for m in range(slices_to_grab*packets_per_slice):\n",
    "            c = in_file.read(FDpacket.BYTES_IN_PACKET)\n",
    "            packet = FDpacket.from_byte_string(c)\n",
    "            background[m] = packet.interpret_data()\n",
    "        \n",
    "except Exception as e:\n",
    "    raise e"
   ]
  },
  {
   "cell_type": "code",
   "execution_count": 161,
   "metadata": {},
   "outputs": [
    {
     "name": "stdout",
     "output_type": "stream",
     "text": [
      "Select every 327th element in the background_flattened array to do the spline. \n",
      "\n"
     ]
    }
   ],
   "source": [
    "start_packet = 1\n",
    "background_flattened = np.concatenate((background[start_packet%4::4],\n",
    "                                       background[(start_packet+1)%4::4],\n",
    "                                       background[(start_packet+2)%4::4],\n",
    "                                       background[(start_packet+3)%4::4]), axis =1)\n",
    "# background_150K_flattened = np.concatenate((background_150K[0::4],background_150K[1::4],background_150K[2::4],background_150K[3::4]), axis =1)\n",
    "pts_in_spline = 100\n",
    "dev = int(freq_bins*4/pts_in_spline)\n",
    "print(\"Select every {}th element in the background_flattened array to do the spline. \\n\".format(dev))\n",
    "\n",
    "noise_floor = background_flattened.mean(axis = 0)\n",
    "# noise_floor_150K = background_150K_flattened.mean(axis = 0)\n",
    "noise_floor_bins = np.arange(0,noise_floor.shape[0],1)\n",
    "\n",
    "# Conduct a 300 pt cubic spline fit\n",
    "noise_floor_cubicspline = interp.CubicSpline(noise_floor_bins[::dev], noise_floor[::dev], extrapolate = True)\n",
    "# noise_floor_cubicspline_150K = interp.CubicSpline(noise_floor_bins[::dev], noise_floor_150K[::dev], extrapolate = True)\n",
    "\n",
    "noise_floor_smooth = noise_floor_cubicspline(noise_floor_bins).clip(0)\n",
    "# noise_floor_smooth_150K = noise_floor_cubicspline_150K(noise_floor_bins).clip(0)\n",
    "\n",
    "# # Make all negative "
   ]
  },
  {
   "cell_type": "code",
   "execution_count": 162,
   "metadata": {},
   "outputs": [
    {
     "data": {
      "text/plain": [
       "[<matplotlib.lines.Line2D at 0x7fac5369a8d0>]"
      ]
     },
     "execution_count": 162,
     "metadata": {},
     "output_type": "execute_result"
    }
   ],
   "source": [
    "plt.plot(noise_floor_smooth)"
   ]
  },
  {
   "cell_type": "markdown",
   "metadata": {},
   "source": [
    "## Investigating the quality of this simulated noise: "
   ]
  },
  {
   "cell_type": "code",
   "execution_count": 164,
   "metadata": {},
   "outputs": [],
   "source": [
    "%matplotlib qt\n",
    "from numpy.random import default_rng\n",
    "rng = default_rng(12345)\n",
    "\n",
    "DOF = 4\n",
    "\n",
    "background_sim = np.array([rng.chisquare(DOF,background_flattened.shape[0])*mu/DOF for mu in noise_floor_smooth]).transpose()\n",
    "background_sim = np.around(background_sim, 0)\n",
    "plt.plot(background_sim.mean(axis =0), label = \"simulated\")\n",
    "plt.plot(background_flattened.mean(axis=0), label = \"real\")\n",
    "plt.legend()\n",
    "plt.show()"
   ]
  },
  {
   "cell_type": "markdown",
   "metadata": {},
   "source": [
    "## Illustrate why this does not work well: \n",
    "* One way to do this: \n",
    "    * Look at each bin and then divide by the mean, then average across that to get the underlying distribution of the noise. \n",
    "    * Hmm what is this showing me?\n",
    "    "
   ]
  },
  {
   "cell_type": "markdown",
   "metadata": {},
   "source": [
    "### Real dist"
   ]
  },
  {
   "cell_type": "code",
   "execution_count": 174,
   "metadata": {},
   "outputs": [],
   "source": [
    "noise_dist_real = []\n",
    "for i in range(3000,32000,1):\n",
    "    data = background_flattened[:,i]/background_flattened[:,i].mean()\n",
    "    noise_dist_real.append(data)\n",
    "noise_dist_real = np.concatenate( noise_dist_real, axis=0 )\n",
    "noise_dist_real = noise_dist_real[noise_dist_real<10]"
   ]
  },
  {
   "cell_type": "code",
   "execution_count": 154,
   "metadata": {},
   "outputs": [
    {
     "data": {
      "text/plain": [
       "1.0000000000000009"
      ]
     },
     "execution_count": 154,
     "metadata": {},
     "output_type": "execute_result"
    }
   ],
   "source": [
    "plt.hist(noise_dist_real, bins = 100, alpha = 1)\n",
    "noise_dist_real.mean()\n",
    "# print(noise_dist)"
   ]
  },
  {
   "cell_type": "markdown",
   "metadata": {},
   "source": [
    "### Simulated dist"
   ]
  },
  {
   "cell_type": "code",
   "execution_count": 175,
   "metadata": {},
   "outputs": [],
   "source": [
    "noise_dist_sim = []\n",
    "for i in range(3000,32000,1):\n",
    "    data = background_sim[:,i]/background_sim[:,i].mean()\n",
    "    noise_dist_sim.append(data)\n",
    "noise_dist_sim = np.concatenate(noise_dist_sim, axis=0 )\n",
    "noise_dist_sim = noise_dist_sim[noise_dist_sim<10]"
   ]
  },
  {
   "cell_type": "markdown",
   "metadata": {},
   "source": [
    "### Comparing them: "
   ]
  },
  {
   "cell_type": "code",
   "execution_count": 182,
   "metadata": {},
   "outputs": [],
   "source": [
    "plt.hist(noise_dist_sim, bins = 50, alpha = .5, label = \"simulated\")\n",
    "plt.hist(noise_dist_real, bins = 50, alpha = .5, label = \"real\")\n",
    "plt.legend()\n",
    "plt.show()"
   ]
  },
  {
   "cell_type": "code",
   "execution_count": 180,
   "metadata": {},
   "outputs": [
    {
     "name": "stdout",
     "output_type": "stream",
     "text": [
      "Dist means 0.9999980367936738 0.9981668582090425\n",
      "Dist stds 0.8842440738272543 1.1575172125099773\n"
     ]
    }
   ],
   "source": [
    "print(\"Dist means\", noise_dist_sim.mean(), noise_dist_real.mean())\n",
    "print(\"Dist stds\", noise_dist_sim.std(), noise_dist_real.std())"
   ]
  },
  {
   "cell_type": "code",
   "execution_count": null,
   "metadata": {},
   "outputs": [],
   "source": []
  },
  {
   "cell_type": "code",
   "execution_count": 120,
   "metadata": {},
   "outputs": [
    {
     "name": "stdout",
     "output_type": "stream",
     "text": [
      "0.0738146198374709\n",
      "1.324\n"
     ]
    }
   ],
   "source": [
    "bin = 12000\n",
    "df = 4\n",
    "\n",
    "rv = chi2(df)\n",
    "N = background_flattened[:,bin].sum()\n",
    "x = np.linspace(chi2.ppf(0.00, df),\n",
    "                chi2.ppf(0.99, df), 100)\n",
    "plt.plot(x, rv.pdf(x), 'k-', lw=2, label='frozen pdf')\n",
    "plt.hist(data, bins = 100, alpha = .5, label = \"Real Data\", density = True )\n",
    "plt.legend()\n",
    "plt.show()\n",
    "\n",
    "print((rv.pdf(x)).mean())\n",
    "print(background_flattened[:,bin].mean())"
   ]
  },
  {
   "cell_type": "code",
   "execution_count": null,
   "metadata": {},
   "outputs": [],
   "source": []
  },
  {
   "cell_type": "code",
   "execution_count": 70,
   "metadata": {},
   "outputs": [],
   "source": [
    "bin = 5000\n",
    "plt.hist(np.array(background_sim[:,bin], dtype = \"int\"), bins = 100, alpha = .5, label = \"Simulated Data\")\n",
    "# plt.hist(np.around(background_sim[:,bin],0), bins = 100, alpha = .5, label = \"Simulated Data\")\n",
    "plt.hist(background_flattened[:,bin], bins = 100, alpha = .5, label = \"Real Data\")\n",
    "plt.legend()\n",
    "plt.show()"
   ]
  },
  {
   "cell_type": "code",
   "execution_count": 86,
   "metadata": {},
   "outputs": [],
   "source": [
    "diff_1 = []\n",
    "diff_2 = []\n",
    "for i in range(5000,7000,1): \n",
    "    diff_1.append(np.histogram(np.array(background_sim[:,bin], dtype = \"uint8\"), bins = 25)[0] - np.histogram(background_flattened[:,i], bins = 25)[0])\n",
    "    diff_2.append(np.histogram(np.around(background_sim[:,bin], 0), bins = 25)[0] - np.histogram(background_flattened[:,i], bins = 25)[0])"
   ]
  },
  {
   "cell_type": "code",
   "execution_count": 93,
   "metadata": {},
   "outputs": [
    {
     "data": {
      "text/plain": [
       "[<matplotlib.lines.Line2D at 0x7fac7b41b210>]"
      ]
     },
     "execution_count": 93,
     "metadata": {},
     "output_type": "execute_result"
    }
   ],
   "source": [
    "diff_1 = np.array(diff_1)\n",
    "diff_2 = np.array(diff_2)\n",
    "\n",
    "\n",
    "plt.plot(diff_2.mean(axis =0))\n",
    "plt.plot(diff_1.mean(axis =0))"
   ]
  },
  {
   "cell_type": "code",
   "execution_count": 98,
   "metadata": {},
   "outputs": [
    {
     "name": "stdout",
     "output_type": "stream",
     "text": [
      "0.8727750003795708\n",
      "0.86902734375\n"
     ]
    }
   ],
   "source": [
    "plt.plot(background_sim.mean(axis =1))\n",
    "plt.plot(background_flattened.mean(axis =1))\n",
    "\n",
    "print(background_sim.mean(axis =1).mean())\n",
    "print(background_flattened.mean(axis =1).mean())"
   ]
  },
  {
   "cell_type": "markdown",
   "metadata": {},
   "source": [
    "## Write the simulated noise file to the he6-cres-spec-sims repo \n",
    "To be used in spec file creation. "
   ]
  },
  {
   "cell_type": "code",
   "execution_count": 92,
   "metadata": {},
   "outputs": [
    {
     "name": "stdout",
     "output_type": "stream",
     "text": [
      "True\n"
     ]
    }
   ],
   "source": [
    "results_dir = \"/home/drew/He6CRES/he6-cres-spec-sims/he6_cres_spec_sims/spec_tools/gain_noise_measurements/\"\n",
    "\n",
    "exists = os.path.isdir(results_dir)\n",
    "print(exists)\n",
    "\n",
    "\n",
    "# If folder doesn't exist, then create it.\n",
    "if not exists:\n",
    "\n",
    "    print(\"DNE: \", results_dir)\n",
    "\n",
    "try:\n",
    "    gain_file_path = results_dir + \"gain.csv\"\n",
    "    noise_file_path = results_dir + \"noise.csv\"\n",
    "    \n",
    "#     pd.DataFrame(noise_floor_smooth).to_csv(gain_file_path,header=None, index=None)\n",
    "#     pd.DataFrame(noise_floor_smooth).to_csv(noise_file_path,header=None, index=None)\n",
    "    \n",
    "    np.savetxt(gain_file_path, noise_floor_smooth*50*1e15, delimiter = \",\")\n",
    "    np.savetxt(noise_file_path, noise_floor_smooth, delimiter = \",\")\n",
    "    \n",
    "except Exception as e:\n",
    "    print(\"Unable to open df.\")\n",
    "    raise e"
   ]
  },
  {
   "cell_type": "markdown",
   "metadata": {},
   "source": [
    "## Creating a fake spec file with simulated noise: "
   ]
  },
  {
   "cell_type": "markdown",
   "metadata": {},
   "source": [
    "### First open a noise file and make a spline of the noise floor : "
   ]
  },
  {
   "cell_type": "code",
   "execution_count": 14,
   "metadata": {},
   "outputs": [
    {
     "name": "stdout",
     "output_type": "stream",
     "text": [
      "Opened .spec noise file.\n",
      "Opened .spec noise file.\n"
     ]
    }
   ],
   "source": [
    "\n",
    "path = os.getcwd()\n",
    "background_file_50K = \"/home/drew/He6CRES/CRESAnalysisAndSimulation/SpecFiles/NoiseMeasurement_10012021/Freq_data_2021-10-01-16-34-34.spec\"\n",
    "background_file_150K = \"/home/drew/He6CRES/CRESAnalysisAndSimulation/SpecFiles/KrTest_04302021/I_side_LessCharged/Freq_data_2021-04-30-13-12-35.spec\"\n",
    "\n",
    "# Create the background to be altered.\n",
    "freq_bins = 8192\n",
    "slices_to_grab = 400\n",
    "packets_per_slice = 4\n",
    "background_50K = np.zeros((slices_to_grab*packets_per_slice,freq_bins), dtype = np.uint8)\n",
    "background_150K = np.zeros((slices_to_grab*packets_per_slice,freq_bins), dtype = np.uint8)\n",
    "\n",
    "# open 50K file: \n",
    "try: \n",
    "    with open(background_file_50K,'rb') as in_file:\n",
    "        print(\"Opened .spec noise file.\")\n",
    "        for m in range(slices_to_grab*packets_per_slice):\n",
    "            c = in_file.read(FDpacket.BYTES_IN_PACKET)\n",
    "            packet = FDpacket.from_byte_string(c)\n",
    "            background_50K[m] = packet.interpret_data()\n",
    "        \n",
    "except Exception as e:\n",
    "    raise e\n",
    "    \n",
    "# open 150K file: \n",
    "try: \n",
    "    with open(background_file_150K,'rb') as in_file:\n",
    "        print(\"Opened .spec noise file.\")\n",
    "        for m in range(slices_to_grab*packets_per_slice):\n",
    "            c = in_file.read(FDpacket.BYTES_IN_PACKET)\n",
    "            packet = FDpacket.from_byte_string(c)\n",
    "            background_150K[m] = packet.interpret_data()\n",
    "        \n",
    "except Exception as e:\n",
    "    raise e"
   ]
  },
  {
   "cell_type": "markdown",
   "metadata": {},
   "source": [
    "### Flatten the background file so its shape corresponds to a power spectrogram"
   ]
  },
  {
   "cell_type": "code",
   "execution_count": 38,
   "metadata": {},
   "outputs": [
    {
     "name": "stdout",
     "output_type": "stream",
     "text": [
      "Select every 163th element in the background_flattened array to do the spline. \n",
      "\n"
     ]
    }
   ],
   "source": [
    "background_50K_flattened = np.concatenate((background_50K[0::4],background_50K[1::4],background_50K[2::4],background_50K[3::4]), axis =1)\n",
    "background_150K_flattened = np.concatenate((background_150K[0::4],background_150K[1::4],background_150K[2::4],background_150K[3::4]), axis =1)\n",
    "pts_in_spline = 200\n",
    "dev = int(freq_bins*4/pts_in_spline)\n",
    "print(\"Select every {}th element in the background_flattened array to do the spline. \\n\".format(dev))\n",
    "\n",
    "noise_floor_50K = background_50K_flattened.mean(axis = 0)\n",
    "noise_floor_150K = background_150K_flattened.mean(axis = 0)\n",
    "noise_floor_bins = np.arange(0,noise_floor_50K.shape[0],1)\n",
    "\n",
    "# Conduct a 300 pt cubic spline fit\n",
    "noise_floor_cubicspline_50K = interp.CubicSpline(noise_floor_bins[::dev], noise_floor_50K[::dev], extrapolate = True)\n",
    "noise_floor_cubicspline_150K = interp.CubicSpline(noise_floor_bins[::dev], noise_floor_150K[::dev], extrapolate = True)\n",
    "\n",
    "noise_floor_smooth_50K = noise_floor_cubicspline_50K(noise_floor_bins).clip(0)\n",
    "noise_floor_smooth_150K = noise_floor_cubicspline_150K(noise_floor_bins).clip(0)\n",
    "\n",
    "# # Make all negative noise powers 0:\n",
    "# noise_floor_smooth = noise_floor_smooth.clip(0)"
   ]
  },
  {
   "cell_type": "code",
   "execution_count": 59,
   "metadata": {},
   "outputs": [],
   "source": [
    "%matplotlib qt\n",
    "noise_floor_freq = noise_floor_bins*1200/noise_floor_bins.shape[0]\n",
    "\n",
    "# Conduct a 300 pt cubic spline fit\n",
    "plt.plot(noise_floor_freq,noise_floor_smooth_50K/8, label = \"decay cell @ T = 52 K\")\n",
    "plt.plot(noise_floor_freq,noise_floor_smooth_150K, label = \"decay cell @ T = 133 K\")\n",
    "plt.title(\"Noise Floor (requant gain = 17)\")\n",
    "plt.xlabel(\"Freq (MHz)\")\n",
    "plt.ylabel(\"Power (arb.)\")\n",
    "plt.legend()\n",
    "plt.show()"
   ]
  },
  {
   "cell_type": "code",
   "execution_count": 63,
   "metadata": {},
   "outputs": [
    {
     "name": "stdout",
     "output_type": "stream",
     "text": [
      "inf\n"
     ]
    },
    {
     "name": "stderr",
     "output_type": "stream",
     "text": [
      "/home/drew/home/drew/Products/anaconda3/lib/python3.7/site-packages/ipykernel_launcher.py:2: RuntimeWarning: divide by zero encountered in true_divide\n",
      "  \n",
      "/home/drew/home/drew/Products/anaconda3/lib/python3.7/site-packages/ipykernel/eventloops.py:106: UserWarning: Creating legend with loc=\"best\" can be slow with large amounts of data.\n",
      "  app.exec_()\n"
     ]
    }
   ],
   "source": [
    "difference = (noise_floor_smooth_150K - noise_floor_smooth_50K/8)/(noise_floor_smooth_50K/8)\n",
    "# diff_2 = (noise_floor_smooth_150K/(noise_floor_smooth_50K/8))\n",
    "plt.plot(noise_floor_freq,difference)\n",
    "plt.plot(noise_floor_freq,np.ones_like(noise_floor_bins)*difference[2731:].mean(), label = \"Mean Relative Diff = {}$\\%$ \"\n",
    "         .format(np.around(difference[2731:].mean(),3)*100 ))\n",
    "plt.title(\"Relative Difference in Noise Power (requant gain = 17)\")\n",
    "plt.xlabel(\"Freq (MHz)\")\n",
    "plt.ylabel(\"Power (arb.)\")\n",
    "plt.show()\n",
    "plt.legend()\n",
    "# print(diff_2[2731:].mean())"
   ]
  },
  {
   "cell_type": "markdown",
   "metadata": {},
   "source": [
    "### SAVE: Writing the noise_floor_smooth to a csv to be used by the simulation.\n",
    "* The same will go for the gain. \n",
    "* For now I'll just write the gain in the same way."
   ]
  },
  {
   "cell_type": "code",
   "execution_count": 87,
   "metadata": {},
   "outputs": [
    {
     "name": "stdout",
     "output_type": "stream",
     "text": [
      "True\n"
     ]
    }
   ],
   "source": [
    "results_dir = \"{}/he6_cres_spec_sims/spec_tools/gain_noise_measurements/\".format(os.getcwd())\n",
    "\n",
    "exists = os.path.isdir(results_dir)\n",
    "print(exists)\n",
    "\n",
    "\n",
    "# If folder doesn't exist, then create it.\n",
    "if not exists:\n",
    "\n",
    "    print(\"DNE: \", results_dir)\n",
    "\n",
    "try:\n",
    "    gain_file_path = results_dir + \"gain.csv\"\n",
    "    noise_file_path = results_dir + \"noise.csv\"\n",
    "    \n",
    "#     pd.DataFrame(noise_floor_smooth).to_csv(gain_file_path,header=None, index=None)\n",
    "#     pd.DataFrame(noise_floor_smooth).to_csv(noise_file_path,header=None, index=None)\n",
    "    \n",
    "    np.savetxt(gain_file_path, noise_floor_smooth*50*1e15, delimiter = \",\")\n",
    "    np.savetxt(noise_file_path, noise_floor_smooth, delimiter = \",\")\n",
    "    \n",
    "except Exception as e:\n",
    "    print(\"Unable to open df.\")\n",
    "    raise e"
   ]
  },
  {
   "cell_type": "code",
   "execution_count": 88,
   "metadata": {},
   "outputs": [
    {
     "data": {
      "text/plain": [
       "[<matplotlib.lines.Line2D at 0x7f72cb1f6b50>]"
      ]
     },
     "execution_count": 88,
     "metadata": {},
     "output_type": "execute_result"
    }
   ],
   "source": [
    "# Now how to open: \n",
    "\n",
    "results_dir = \"{}/he6_cres_spec_sims/spec_tools/gain_noise_measurements/\".format(os.getcwd())\n",
    "\n",
    "exists = os.path.isdir(results_dir)\n",
    "\n",
    "if not exists:\n",
    "\n",
    "    print(\"Path to directory ({}) doesn't exist \".format(results_dir))\n",
    "\n",
    "try:\n",
    "    gain_file_path = results_dir + \"gain.csv\"\n",
    "    noise_file_path = results_dir + \"noise.csv\"\n",
    "\n",
    "    gain = np.loadtxt(gain_file_path, delimiter=\",\")\n",
    "    noise = np.loadtxt(noise_file_path, delimiter=\",\")\n",
    "\n",
    "except Exception as e:\n",
    "    print(\"Unable to open df.\")\n",
    "    raise e\n",
    "\n",
    "plt.plot(gain)\n",
    "plt.plot(noise)"
   ]
  },
  {
   "cell_type": "markdown",
   "metadata": {},
   "source": [
    "### Show that the simulated background makes sense"
   ]
  },
  {
   "cell_type": "code",
   "execution_count": 72,
   "metadata": {},
   "outputs": [],
   "source": [
    "from numpy.random import default_rng\n",
    "rng = default_rng(12345)\n",
    "\n",
    "DOF = 4\n",
    "mu = 10\n",
    "# print((rng.chisquare(DOF,10000)*mu/DOF).mean())\n",
    "\n",
    "\n",
    "# # With exponential (technichally not correct. Note that chisq with DOF = 2 corresponds to an exponential.)\n",
    "# background_sim = np.array([np.random.exponential(mu,background_flattened.shape[0]) for mu in noise_floor_smooth]).transpose()\n",
    "\n",
    "# With chisq dist DOF = 4: \n",
    "DOF = 4\n",
    "\n",
    "background_sim = np.array([rng.chisquare(DOF,background_flattened.shape[0])*mu/DOF for mu in noise_floor_smooth]).transpose()\n",
    "plt.plot(background_sim.sum(axis =0))\n",
    "plt.show()\n",
    "plt.plot(background_flattened.sum(axis = 0))\n",
    "plt.show()\n",
    "\n",
    "plt.plot(background_flattened.sum(axis = 0)-background_sim.sum(axis = 0))\n",
    "plt.show()\n",
    "\n"
   ]
  },
  {
   "cell_type": "code",
   "execution_count": 26,
   "metadata": {},
   "outputs": [
    {
     "data": {
      "image/png": "[encoded data removed]",
      "text/plain": [
       "<Figure size 1320x880 with 1 Axes>"
      ]
     },
     "metadata": {
      "needs_background": "light"
     },
     "output_type": "display_data"
    }
   ],
   "source": [
    "# Compare a slice: \n",
    "# Figure out why this doesn't make sense. \n",
    "plt.ylabel(\"Bin Power (arb units)\")\n",
    "plt.hist(background_sim[:,25000].astype(\"uint8\"), bins = 10)\n",
    "plt.hist(background_flattened[:,25000], bins = 10)\n",
    "plt.show()"
   ]
  },
  {
   "cell_type": "markdown",
   "metadata": {},
   "source": [
    "### Now grab the headers that correspond to the 4 packets that make up the frequency spectrum. "
   ]
  },
  {
   "cell_type": "code",
   "execution_count": 179,
   "metadata": {},
   "outputs": [
    {
     "name": "stdout",
     "output_type": "stream",
     "text": [
      "Opened roach_noise file.\n"
     ]
    }
   ],
   "source": [
    "# Grab the headers for the 4 differnt packets (0,1,2,3): \n",
    "path = os.getcwd()\n",
    "background_file = path + '/he6_cres_spec_sims/spec_tools/roach_noise/Freq_data_2021-04-30-13-14-18.spec'\n",
    "# open file: \n",
    "hdr_list = []\n",
    "try: \n",
    "    with open(background_file,'rb') as in_file:\n",
    "        print(\"Opened roach_noise file.\")\n",
    "        for m in range(4):          \n",
    "            hdr = in_file.read(FDpacket.BYTES_IN_HEADER)\n",
    "            hdr_list.append(hdr)           \n",
    "            data = in_file.read(FDpacket.BYTES_IN_PAYLOAD)\n",
    "\n",
    "except Exception as e:\n",
    "    raise e"
   ]
  },
  {
   "cell_type": "markdown",
   "metadata": {},
   "source": [
    "### Now use these headers and the spline fit to make a spec file of arbitrary many slices: "
   ]
  },
  {
   "cell_type": "code",
   "execution_count": 17,
   "metadata": {},
   "outputs": [
    {
     "name": "stdout",
     "output_type": "stream",
     "text": [
      "(1200, 32768) (1200, 32768)\n"
     ]
    }
   ],
   "source": [
    "# Make arbitrarily large spec file: \n",
    "slices_in_spec = 1200\n",
    "background_sim = np.array([np.random.exponential(mu,slices_in_spec) for mu in noise_floor_smooth]).transpose()\n",
    "print(background_sim.shape, test_data.shape)\n",
    "# Alter the background_sim for kicks: \n",
    "# background_sim[:,10000:20000] = 50\n",
    "# Now write the new background file to a spec file:\n",
    "spec_test_label = 2\n",
    "output_file = \"/home/drew/He6CRES/CRESAnalysisAndSimulation/SpecFiles/Simulated/TEST_{}.spec\".format(spec_test_label)\n",
    "\n",
    "# Pass \"wb\" to write a binary file\n",
    "with open(output_file, \"wb\") as out_file:\n",
    "\n",
    "    # Loop over slices in spec file\n",
    "    for a in range(slices_in_spec*4):\n",
    "        \n",
    "        packet_num = a%4 \n",
    "        slice_num = a //4 \n",
    "        \n",
    "        # Testing new data: \n",
    "        data = test_data[slice_num][int(packet_num*freq_bins):int((packet_num+1)*freq_bins)]/10\n",
    "        \n",
    "        data = data +  background_sim[slice_num][int(packet_num*freq_bins):int((packet_num+1)*freq_bins)]\n",
    "        data = data.astype('uint8')\n",
    "        out_file.write(hdr_list[a%4]) \n",
    "        data.tofile(out_file)"
   ]
  },
  {
   "cell_type": "markdown",
   "metadata": {},
   "source": [
    "### Now check to see that this worked: "
   ]
  },
  {
   "cell_type": "code",
   "execution_count": 305,
   "metadata": {},
   "outputs": [
    {
     "name": "stdout",
     "output_type": "stream",
     "text": [
      "Opened roach_noise file.\n"
     ]
    },
    {
     "ename": "IndexError",
     "evalue": "index 800 is out of bounds for axis 0 with size 800",
     "output_type": "error",
     "traceback": [
      "\u001b[0;31m---------------------------------------------------------------------------\u001b[0m",
      "\u001b[0;31mIndexError\u001b[0m                                Traceback (most recent call last)",
      "\u001b[0;32m<ipython-input-305-625bdb434a51>\u001b[0m in \u001b[0;36m<module>\u001b[0;34m\u001b[0m\n\u001b[1;32m     11\u001b[0m \u001b[0;34m\u001b[0m\u001b[0m\n\u001b[1;32m     12\u001b[0m \u001b[0;32mexcept\u001b[0m \u001b[0mException\u001b[0m \u001b[0;32mas\u001b[0m \u001b[0me\u001b[0m\u001b[0;34m:\u001b[0m\u001b[0;34m\u001b[0m\u001b[0;34m\u001b[0m\u001b[0m\n\u001b[0;32m---> 13\u001b[0;31m     \u001b[0;32mraise\u001b[0m \u001b[0me\u001b[0m\u001b[0;34m\u001b[0m\u001b[0;34m\u001b[0m\u001b[0m\n\u001b[0m",
      "\u001b[0;32m<ipython-input-305-625bdb434a51>\u001b[0m in \u001b[0;36m<module>\u001b[0;34m\u001b[0m\n\u001b[1;32m      8\u001b[0m             \u001b[0mpacket\u001b[0m \u001b[0;34m=\u001b[0m \u001b[0mFDpacket\u001b[0m\u001b[0;34m.\u001b[0m\u001b[0mfrom_byte_string\u001b[0m\u001b[0;34m(\u001b[0m\u001b[0mc\u001b[0m\u001b[0;34m)\u001b[0m\u001b[0;34m\u001b[0m\u001b[0;34m\u001b[0m\u001b[0m\n\u001b[1;32m      9\u001b[0m \u001b[0;34m\u001b[0m\u001b[0m\n\u001b[0;32m---> 10\u001b[0;31m             \u001b[0mbackground\u001b[0m\u001b[0;34m[\u001b[0m\u001b[0mm\u001b[0m\u001b[0;34m]\u001b[0m \u001b[0;34m=\u001b[0m \u001b[0mpacket\u001b[0m\u001b[0;34m.\u001b[0m\u001b[0minterpret_data\u001b[0m\u001b[0;34m(\u001b[0m\u001b[0;34m)\u001b[0m\u001b[0;34m\u001b[0m\u001b[0;34m\u001b[0m\u001b[0m\n\u001b[0m\u001b[1;32m     11\u001b[0m \u001b[0;34m\u001b[0m\u001b[0m\n\u001b[1;32m     12\u001b[0m \u001b[0;32mexcept\u001b[0m \u001b[0mException\u001b[0m \u001b[0;32mas\u001b[0m \u001b[0me\u001b[0m\u001b[0;34m:\u001b[0m\u001b[0;34m\u001b[0m\u001b[0;34m\u001b[0m\u001b[0m\n",
      "\u001b[0;31mIndexError\u001b[0m: index 800 is out of bounds for axis 0 with size 800"
     ]
    }
   ],
   "source": [
    "# open file: \n",
    "try: \n",
    "    with open(output_file,'rb') as in_file:\n",
    "        print(\"Opened roach_noise file.\")\n",
    "        for m in range(slices_in_spec*4):\n",
    "#             print(m)\n",
    "            c = in_file.read(FDpacket.BYTES_IN_PACKET)\n",
    "            packet = FDpacket.from_byte_string(c)\n",
    "\n",
    "            background[m] = packet.interpret_data()\n",
    "        \n",
    "except Exception as e:\n",
    "    raise e"
   ]
  },
  {
   "cell_type": "markdown",
   "metadata": {},
   "source": [
    "### Plot the spec file to see that things are being pieced back togehter well:"
   ]
  },
  {
   "cell_type": "code",
   "execution_count": 41,
   "metadata": {},
   "outputs": [
    {
     "data": {
      "text/plain": [
       "<matplotlib.image.AxesImage at 0x7f9fd26af510>"
      ]
     },
     "execution_count": 41,
     "metadata": {},
     "output_type": "execute_result"
    },
    {
     "data": {
      "image/png": "[encoded data removed]",
      "text/plain": [
       "<Figure size 1320x880 with 1 Axes>"
      ]
     },
     "metadata": {
      "needs_background": "light"
     },
     "output_type": "display_data"
    }
   ],
   "source": [
    "background_flattened = np.concatenate((background[0::4],background[1::4],background[2::4],background[3::4]), axis =1)\n",
    "\n",
    "plt.imshow(background_flattened.T, aspect='auto',origin='lower' )"
   ]
  }
 ],
 "metadata": {
  "kernelspec": {
   "display_name": "Python 3",
   "language": "python",
   "name": "python3"
  },
  "language_info": {
   "codemirror_mode": {
    "name": "ipython",
    "version": 3
   },
   "file_extension": ".py",
   "mimetype": "text/x-python",
   "name": "python",
   "nbconvert_exporter": "python",
   "pygments_lexer": "ipython3",
   "version": "3.7.6"
  }
 },
 "nbformat": 4,
 "nbformat_minor": 4
}
