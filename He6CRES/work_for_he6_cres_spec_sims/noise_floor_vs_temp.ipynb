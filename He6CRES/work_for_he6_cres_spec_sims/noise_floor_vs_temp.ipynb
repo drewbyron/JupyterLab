{
 "cells": [
  {
   "cell_type": "markdown",
   "metadata": {},
   "source": [
    "# Investigating the Noise Floor as a Function of Temperature. "
   ]
  },
  {
   "cell_type": "code",
   "execution_count": 5,
   "metadata": {},
   "outputs": [],
   "source": [
    "%load_ext autoreload"
   ]
  },
  {
   "cell_type": "code",
   "execution_count": 6,
   "metadata": {},
   "outputs": [],
   "source": [
    "%autoreload 2\n",
    "import os \n",
    "import sys\n",
    "import struct \n",
    "import matplotlib.pyplot as plt\n",
    "plt.rcParams.update({'font.size': 22})\n",
    "import numpy as np\n",
    "import scipy.interpolate as interp \n",
    "from scipy.stats import chi2\n",
    "\n",
    "sys.path.append(\"/home/drew/He6CRES/he6-cres-spec-sims/\")\n",
    "from he6_cres_spec_sims.daq.frequency_domain_packet import FDpacket"
   ]
  },
  {
   "cell_type": "code",
   "execution_count": 3,
   "metadata": {},
   "outputs": [],
   "source": [
    "## Investigating our noise floor with a colder Noise floor: "
   ]
  },
  {
   "cell_type": "code",
   "execution_count": null,
   "metadata": {},
   "outputs": [],
   "source": []
  },
  {
   "cell_type": "markdown",
   "metadata": {},
   "source": [
    "## Creating a new noise file to match the data taken on 4/30/21: (10072021)\n"
   ]
  },
  {
   "cell_type": "code",
   "execution_count": 42,
   "metadata": {},
   "outputs": [],
   "source": [
    "path = os.getcwd()\n",
    "background_file_1 =\"/home/drew/He6CRES/CRESAnalysisAndSimulation/SpecFiles/NoiseMeasurement_10152021/Freq_data_2021-10-15-16-31-24.spec\"\n",
    "background_file_2 = \"/home/drew/He6CRES/CRESAnalysisAndSimulation/SpecFiles/NoiseMeasurement_10012021/Freq_data_2021-10-01-16-34-34.spec\"\n",
    "background_file_3 = \"/home/drew/He6CRES/CRESAnalysisAndSimulation/SpecFiles/KrTest_04302021/I_side_LessCharged/Freq_data_2021-04-30-13-12-35.spec\"\n",
    "background_file_4 = \"/home/drew/He6CRES/CRESAnalysisAndSimulation/SpecFiles/NoiseMeasurement_10212021/Freq_data_2021-10-21-15-10-24_000000.spec\"\n",
    "background_file_5 = \"/home/drew/He6CRES/CRESAnalysisAndSimulation/SpecFiles/NoiseMeasurement_10212021/Freq_data_2021-10-21-15-58-08_000000.spec\"\n",
    "background_file_6 = \"/home/drew/He6CRES/CRESAnalysisAndSimulation/SpecFiles/NoiseMeasurement_10212021/Freq_data_2021-10-21-16-15-07_000000.spec\"\n",
    "# Create the background to be altered.\n",
    "freq_bins = 8192\n",
    "slices_to_grab = 1000\n",
    "packets_per_slice = 4\n",
    "background_1 = np.zeros((slices_to_grab*packets_per_slice,freq_bins), dtype = np.uint8)\n",
    "background_2 = np.zeros((slices_to_grab*packets_per_slice,freq_bins), dtype = np.uint8)\n",
    "background_3 = np.zeros((slices_to_grab*packets_per_slice,freq_bins), dtype = np.uint8)\n",
    "background_4 = np.zeros((slices_to_grab*packets_per_slice,freq_bins), dtype = np.uint8)\n",
    "background_5 = np.zeros((slices_to_grab*packets_per_slice,freq_bins), dtype = np.uint8)\n",
    "background_6 = np.zeros((slices_to_grab*packets_per_slice,freq_bins), dtype = np.uint8)"
   ]
  },
  {
   "cell_type": "code",
   "execution_count": 40,
   "metadata": {},
   "outputs": [
    {
     "name": "stdout",
     "output_type": "stream",
     "text": [
      "Opened .spec noise file.\n"
     ]
    }
   ],
   "source": [
    "# open file 1: \n",
    "try: \n",
    "    with open(background_file_1,'rb') as in_file:\n",
    "        print(\"Opened .spec noise file.\")\n",
    "        for m in range(slices_to_grab*packets_per_slice):\n",
    "            c = in_file.read(FDpacket.BYTES_IN_PACKET)\n",
    "            packet = FDpacket.from_byte_string(c)\n",
    "            background_1[m] = packet.interpret_data()\n",
    "        \n",
    "except Exception as e:\n",
    "    raise e\n",
    "    "
   ]
  },
  {
   "cell_type": "code",
   "execution_count": 11,
   "metadata": {},
   "outputs": [
    {
     "name": "stdout",
     "output_type": "stream",
     "text": [
      "Opened .spec noise file.\n"
     ]
    }
   ],
   "source": [
    "# open file 1: \n",
    "try: \n",
    "    with open(background_file_2,'rb') as in_file:\n",
    "        print(\"Opened .spec noise file.\")\n",
    "        for m in range(slices_to_grab*packets_per_slice):\n",
    "            c = in_file.read(FDpacket.BYTES_IN_PACKET)\n",
    "            packet = FDpacket.from_byte_string(c)\n",
    "            background_2[m] = packet.interpret_data()\n",
    "        \n",
    "except Exception as e:\n",
    "    raise e\n",
    "    "
   ]
  },
  {
   "cell_type": "code",
   "execution_count": 12,
   "metadata": {},
   "outputs": [
    {
     "name": "stdout",
     "output_type": "stream",
     "text": [
      "Opened .spec noise file.\n"
     ]
    }
   ],
   "source": [
    "# open file 1: \n",
    "try: \n",
    "    with open(background_file_3,'rb') as in_file:\n",
    "        print(\"Opened .spec noise file.\")\n",
    "        for m in range(slices_to_grab*packets_per_slice):\n",
    "            c = in_file.read(FDpacket.BYTES_IN_PACKET)\n",
    "            packet = FDpacket.from_byte_string(c)\n",
    "            background_3[m] = packet.interpret_data()\n",
    "        \n",
    "except Exception as e:\n",
    "    raise e"
   ]
  },
  {
   "cell_type": "code",
   "execution_count": 34,
   "metadata": {},
   "outputs": [
    {
     "name": "stdout",
     "output_type": "stream",
     "text": [
      "Opened .spec noise file.\n"
     ]
    }
   ],
   "source": [
    "# open file 1: \n",
    "try: \n",
    "    with open(background_file_4,'rb') as in_file:\n",
    "        print(\"Opened .spec noise file.\")\n",
    "        for m in range(slices_to_grab*packets_per_slice):\n",
    "            c = in_file.read(FDpacket.BYTES_IN_PACKET)\n",
    "            packet = FDpacket.from_byte_string(c)\n",
    "            background_4[m] = packet.interpret_data()\n",
    "        \n",
    "except Exception as e:\n",
    "    raise e"
   ]
  },
  {
   "cell_type": "code",
   "execution_count": 47,
   "metadata": {},
   "outputs": [
    {
     "name": "stdout",
     "output_type": "stream",
     "text": [
      "Opened .spec noise file.\n"
     ]
    }
   ],
   "source": [
    "# open file 1: \n",
    "try: \n",
    "    with open(background_file_5,'rb') as in_file:\n",
    "        print(\"Opened .spec noise file.\")\n",
    "        for m in range(slices_to_grab*packets_per_slice):\n",
    "            c = in_file.read(FDpacket.BYTES_IN_PACKET)\n",
    "            packet = FDpacket.from_byte_string(c)\n",
    "            background_5[m] = packet.interpret_data()\n",
    "        \n",
    "except Exception as e:\n",
    "    raise e"
   ]
  },
  {
   "cell_type": "code",
   "execution_count": 43,
   "metadata": {},
   "outputs": [
    {
     "name": "stdout",
     "output_type": "stream",
     "text": [
      "Opened .spec noise file.\n"
     ]
    }
   ],
   "source": [
    "# open file 1: \n",
    "try: \n",
    "    with open(background_file_6,'rb') as in_file:\n",
    "        print(\"Opened .spec noise file.\")\n",
    "        for m in range(slices_to_grab*packets_per_slice):\n",
    "            c = in_file.read(FDpacket.BYTES_IN_PACKET)\n",
    "            packet = FDpacket.from_byte_string(c)\n",
    "            background_6[m] = packet.interpret_data()\n",
    "        \n",
    "except Exception as e:\n",
    "    raise e"
   ]
  },
  {
   "cell_type": "code",
   "execution_count": 44,
   "metadata": {},
   "outputs": [
    {
     "name": "stdout",
     "output_type": "stream",
     "text": [
      "Select every 163th element in the background_flattened array to do the spline. \n",
      "\n"
     ]
    }
   ],
   "source": [
    "background_1_flattened = np.concatenate((background_1[0::4],background_1[1::4],background_1[2::4],background_1[3::4]), axis =1)\n",
    "background_2_flattened = np.concatenate((background_2[0::4],background_2[1::4],background_2[2::4],background_2[3::4]), axis =1)\n",
    "background_3_flattened = np.concatenate((background_3[0::4],background_3[1::4],background_3[2::4],background_3[3::4]), axis =1)\n",
    "background_4_flattened = np.concatenate((background_4[0::4],background_4[1::4],background_4[2::4],background_4[3::4]), axis =1)\n",
    "background_5_flattened = np.concatenate((background_5[0::4],background_5[1::4],background_5[2::4],background_5[3::4]), axis =1)\n",
    "background_6_flattened = np.concatenate((background_6[0::4],background_6[1::4],background_6[2::4],background_6[3::4]), axis =1)\n",
    "\n",
    "\n",
    "pts_in_spline = 200\n",
    "dev = int(freq_bins*4/pts_in_spline)\n",
    "print(\"Select every {}th element in the background_flattened array to do the spline. \\n\".format(dev))\n",
    "\n",
    "noise_floor_1 = background_1_flattened.mean(axis = 0)\n",
    "noise_floor_2 = background_2_flattened.mean(axis = 0)\n",
    "noise_floor_3 = background_3_flattened.mean(axis = 0)\n",
    "noise_floor_4 = background_4_flattened.mean(axis = 0)\n",
    "noise_floor_5 = background_5_flattened.mean(axis = 0)\n",
    "noise_floor_6 = background_6_flattened.mean(axis = 0)\n",
    "\n",
    "noise_floor_bins = np.arange(0,noise_floor_1.shape[0],1)\n",
    "\n",
    "# Conduct a 300 pt cubic spline fit\n",
    "noise_floor_cubicspline_1 = interp.CubicSpline(noise_floor_bins[::dev], noise_floor_1[::dev], extrapolate = True)\n",
    "noise_floor_cubicspline_2 = interp.CubicSpline(noise_floor_bins[::dev], noise_floor_2[::dev], extrapolate = True)\n",
    "noise_floor_cubicspline_3 = interp.CubicSpline(noise_floor_bins[::dev], noise_floor_3[::dev], extrapolate = True)\n",
    "noise_floor_cubicspline_4 = interp.CubicSpline(noise_floor_bins[::dev], noise_floor_4[::dev], extrapolate = True)\n",
    "noise_floor_cubicspline_5 = interp.CubicSpline(noise_floor_bins[::dev], noise_floor_5[::dev], extrapolate = True)\n",
    "noise_floor_cubicspline_6 = interp.CubicSpline(noise_floor_bins[::dev], noise_floor_6[::dev], extrapolate = True)\n",
    "\n",
    "\n",
    "noise_floor_smooth_1 = noise_floor_cubicspline_1(noise_floor_bins).clip(0)\n",
    "noise_floor_smooth_2 = noise_floor_cubicspline_2(noise_floor_bins).clip(0)\n",
    "noise_floor_smooth_3 = noise_floor_cubicspline_3(noise_floor_bins).clip(0)\n",
    "noise_floor_smooth_4 = noise_floor_cubicspline_4(noise_floor_bins).clip(0)\n",
    "noise_floor_smooth_5 = noise_floor_cubicspline_5(noise_floor_bins).clip(0)\n",
    "noise_floor_smooth_6 = noise_floor_cubicspline_6(noise_floor_bins).clip(0)"
   ]
  },
  {
   "cell_type": "code",
   "execution_count": 49,
   "metadata": {},
   "outputs": [],
   "source": [
    "%matplotlib qt\n",
    "noise_floor_freq = noise_floor_bins*1200/noise_floor_bins.shape[0]\n",
    "\n",
    "# Conduct a 300 pt cubic spline fit\n",
    "# plt.plot(noise_floor_freq,noise_floor_smooth_1/8.0, label = \"Decay Cell @ 52K, Atten @ 8K\")\n",
    "# plt.plot(noise_floor_freq,noise_floor_smooth_2/8.0, label = \"Decay Cell @ 52K, Atten @ ~20K\")\n",
    "# plt.plot(noise_floor_freq,noise_floor_smooth_4/8.0, label = \"Decay Cell @ 76K, Atten @ 8K\")\n",
    "plt.plot(noise_floor_freq,noise_floor_smooth_5/8.0, label = \"U-Side, Decay Cell @ 85K, Atten @ 8K\")\n",
    "plt.plot(noise_floor_freq,noise_floor_smooth_6/8.0, label = \"U-Side, Decay Cell @ 97K, Atten @ 8K\")\n",
    "\n",
    "# plt.plot(noise_floor_freq,noise_floor_smooth_3, label = \"Decay Cell @ 133K, Atten @ ~20K\")\n",
    "\n",
    "plt.title(\"Noise Floor (requant gain = 17)\")\n",
    "plt.xlabel(\"Freq (MHz)\")\n",
    "plt.ylabel(\"Power (arb.)\")\n",
    "plt.legend()\n",
    "plt.show()"
   ]
  },
  {
   "cell_type": "code",
   "execution_count": 63,
   "metadata": {},
   "outputs": [
    {
     "name": "stdout",
     "output_type": "stream",
     "text": [
      "inf\n"
     ]
    },
    {
     "name": "stderr",
     "output_type": "stream",
     "text": [
      "/home/drew/home/drew/Products/anaconda3/lib/python3.7/site-packages/ipykernel_launcher.py:2: RuntimeWarning: divide by zero encountered in true_divide\n",
      "  \n",
      "/home/drew/home/drew/Products/anaconda3/lib/python3.7/site-packages/ipykernel/eventloops.py:106: UserWarning: Creating legend with loc=\"best\" can be slow with large amounts of data.\n",
      "  app.exec_()\n"
     ]
    }
   ],
   "source": [
    "difference = (noise_floor_smooth_150K - noise_floor_smooth_50K/8)/(noise_floor_smooth_50K/8)\n",
    "# diff_2 = (noise_floor_smooth_150K/(noise_floor_smooth_50K/8))\n",
    "plt.plot(noise_floor_freq,difference)\n",
    "plt.plot(noise_floor_freq,np.ones_like(noise_floor_bins)*difference[2731:].mean(), label = \"Mean Relative Diff = {}$\\%$ \"\n",
    "         .format(np.around(difference[2731:].mean(),3)*100 ))\n",
    "plt.title(\"Relative Difference in Noise Power (requant gain = 17)\")\n",
    "plt.xlabel(\"Freq (MHz)\")\n",
    "plt.ylabel(\"Power (arb.)\")\n",
    "plt.show()\n",
    "plt.legend()\n",
    "# print(diff_2[2731:].mean())"
   ]
  },
  {
   "cell_type": "code",
   "execution_count": null,
   "metadata": {},
   "outputs": [],
   "source": [
    "background_1 = np.zeros((slices_to_grab*packets_per_slice,freq_bins), dtype = np.uint8)"
   ]
  },
  {
   "cell_type": "code",
   "execution_count": 24,
   "metadata": {},
   "outputs": [
    {
     "name": "stdout",
     "output_type": "stream",
     "text": [
      "Noise Power from LNA's: 0.0030320171999999998 fW\n"
     ]
    }
   ],
   "source": [
    "## Could the LNAs be a limiting factor in the reduction of our noise floor?\n",
    "\n",
    "T_e = 6 # K\n",
    "k_b = 1.3807e-23 # joule/K\n",
    "B = 36.6e3 \n",
    "\n",
    "N = k_b*T_e*B\n",
    "print(\"Noise Power from LNA's:\" , N*1e15, \"fW\")"
   ]
  },
  {
   "cell_type": "code",
   "execution_count": null,
   "metadata": {},
   "outputs": [],
   "source": []
  }
 ],
 "metadata": {
  "kernelspec": {
   "display_name": "Python 3",
   "language": "python",
   "name": "python3"
  },
  "language_info": {
   "codemirror_mode": {
    "name": "ipython",
    "version": 3
   },
   "file_extension": ".py",
   "mimetype": "text/x-python",
   "name": "python",
   "nbconvert_exporter": "python",
   "pygments_lexer": "ipython3",
   "version": "3.7.6"
  }
 },
 "nbformat": 4,
 "nbformat_minor": 4
}
