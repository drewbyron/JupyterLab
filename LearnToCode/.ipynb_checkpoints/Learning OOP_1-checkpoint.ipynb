{
 "cells": [
  {
   "cell_type": "code",
   "execution_count": 2,
   "metadata": {},
   "outputs": [],
   "source": [
    "class Dog:\n",
    "    \n",
    "    # Class Attribute\n",
    "    species = 'mammal'\n",
    "    \n",
    "    # Initializer / Instance Attributes\n",
    "    def __init__(self, name, age):\n",
    "        self.name = name\n",
    "        self.age = age"
   ]
  },
  {
   "cell_type": "code",
   "execution_count": 5,
   "metadata": {},
   "outputs": [
    {
     "data": {
      "text/plain": [
       "False"
      ]
     },
     "execution_count": 5,
     "metadata": {},
     "output_type": "execute_result"
    }
   ],
   "source": [
    "a = Dog(\"joe\", 5)\n",
    "b = Dog(\"joe\",5)\n",
    "a == b\n",
    "\n",
    "# We see these are unique objects/istances even though they are defined identically. "
   ]
  },
  {
   "cell_type": "code",
   "execution_count": 10,
   "metadata": {},
   "outputs": [],
   "source": [
    "class Tree: \n",
    "        \n",
    "    # Class Attribute\n",
    "    genus = 'plantius maximus' # notice the single tick parenthesis here as opposed to with strings. Persue this. \n",
    "    \n",
    "    # Initializer / Instance Attributes\n",
    "    def __init__(self, name, age, species, rings):\n",
    "        self.name = name\n",
    "        self.species = species\n",
    "        self.age = age\n",
    "        self.rings = rings"
   ]
  },
  {
   "cell_type": "code",
   "execution_count": 13,
   "metadata": {},
   "outputs": [],
   "source": [
    "bobby = Tree(\"Bobby\", 5, \"poplar\", 7)  # Not sure why they use this capitalization scheme but it seems good \n",
    "mikey = Tree(\"Mikey\", 49, \"oak\", 55)"
   ]
  },
  {
   "cell_type": "code",
   "execution_count": 15,
   "metadata": {},
   "outputs": [
    {
     "name": "stdout",
     "output_type": "stream",
     "text": [
      "bobby is 5 and mikey is 49.\n",
      "bobby is a plantius maximus!\n"
     ]
    }
   ],
   "source": [
    "# Access the instance attributes\n",
    "print(\"{} is {} and {} is {}.\".format(\n",
    "    bobby.name, bobby.age, mikey.name, mikey.age))\n",
    "\n",
    "# Is Philo a mammal?\n",
    "if bobby.genus == \"plantius maximus\":\n",
    "    print(\"{0} is a {1}!\".format(bobby.name, bobby.genus))\n",
    "    "
   ]
  },
  {
   "cell_type": "code",
   "execution_count": 33,
   "metadata": {},
   "outputs": [
    {
     "name": "stdout",
     "output_type": "stream",
     "text": [
      "The oldest tree is 600 years old.\n",
      "The oldest dog is 7 years old.\n"
     ]
    }
   ],
   "source": [
    "#Exercise\n",
    "# Using the same Dog class, instantiate three new dogs, each with a different age. \n",
    "# Then write a function called, get_biggest_number(), that takes any number of ages (*args) \n",
    "# and returns the oldest one. Then output the age of the oldest dog.\n",
    "import numpy as np\n",
    "\n",
    "bobby = Tree(\"Bobby\", 5, \"poplar\", 7)  \n",
    "mikey = Tree(\"Mikey\", 49, \"oak\", 55)\n",
    "joe = Tree(\"Joe\", 600, \"sequioa\", 674)\n",
    "\n",
    "A = [ mikey.age, bobby.age, joe.age]\n",
    "\n",
    "\n",
    "print(\"The oldest tree is {} years old.\".format(\n",
    "    np.amax(A)))\n",
    "\n",
    "# The issue with this is that you lose the association of the name with the age.\n",
    "# It seems you can't make an array of objects. That's kind lame? \n",
    "\n",
    "# Their solution: \n",
    "class Dog:\n",
    "\n",
    "    # Class Attribute\n",
    "    species = 'mammal'\n",
    "\n",
    "    # Initializer / Instance Attributes\n",
    "    def __init__(self, name, age):\n",
    "        self.name = name\n",
    "        self.age = age\n",
    "\n",
    "\n",
    "# Instantiate the Dog object\n",
    "jake = Dog(\"Jake\", 7)\n",
    "doug = Dog(\"Doug\", 4)\n",
    "william = Dog(\"William\", 5)\n",
    "\n",
    "\n",
    "# Determine the oldest dog\n",
    "def get_biggest_number(*args):\n",
    "    return max(args)\n",
    "\n",
    "\n",
    "# Output\n",
    "print(\"The oldest dog is {} years old.\".format(\n",
    "    get_biggest_number(jake.age, doug.age, william.age)))\n",
    "\n"
   ]
  },
  {
   "cell_type": "code",
   "execution_count": 34,
   "metadata": {},
   "outputs": [
    {
     "name": "stdout",
     "output_type": "stream",
     "text": [
      "Mikey is 6 years old\n",
      "Mikey says Gruff Gruff\n"
     ]
    }
   ],
   "source": [
    "# Instance Methods: \n",
    "\n",
    "class Dog:\n",
    "\n",
    "    # Class Attribute\n",
    "    species = 'mammal'\n",
    "\n",
    "    # Initializer / Instance Attributes\n",
    "    def __init__(self, name, age):\n",
    "        self.name = name\n",
    "        self.age = age\n",
    "\n",
    "    # instance method\n",
    "    def description(self):\n",
    "        return \"{} is {} years old\".format(self.name, self.age)\n",
    "\n",
    "    # instance method\n",
    "    def speak(self, sound):\n",
    "        return \"{} says {}\".format(self.name, sound)\n",
    "\n",
    "# Instantiate the Dog object\n",
    "mikey = Dog(\"Mikey\", 6)\n",
    "\n",
    "# call our instance methods\n",
    "print(mikey.description())\n",
    "print(mikey.speak(\"Gruff Gruff\"))\n",
    "\n",
    "\n",
    "# Note that to call on this method (say, description) you use the dot notation tacked onto the instance mikey. \n",
    "# This will become more natural soon. "
   ]
  },
  {
   "cell_type": "code",
   "execution_count": 37,
   "metadata": {},
   "outputs": [
    {
     "data": {
      "text/plain": [
       "True"
      ]
     },
     "execution_count": 37,
     "metadata": {},
     "output_type": "execute_result"
    }
   ],
   "source": [
    "# Modifying Attributes of an instance\n",
    "\n",
    "class Email:\n",
    "    def __init__(self):\n",
    "        self.is_sent = False\n",
    "    def send_email(self):\n",
    "        self.is_sent = True\n",
    "\n",
    "my_email = Email()\n",
    "my_email.is_sent\n",
    "\n",
    "my_email.send_email()\n",
    "my_email.is_sent\n",
    "\n",
    "# Though notice that here there's nothing to differentiate your instance my_email  from the object Email()! But that's ok.\n",
    "# All of the instances are automatically \n",
    "\n",
    "# They say: Here, we added a method to send an email, which updates the is_sent variable to True.\n",
    "# Note that they are referring to the is_sent part as a variable! OK "
   ]
  },
  {
   "cell_type": "code",
   "execution_count": 2,
   "metadata": {},
   "outputs": [
    {
     "name": "stdout",
     "output_type": "stream",
     "text": [
      "fast\n",
      "brown\n",
      "Jim is 12 years old\n",
      "Jim runs slowly\n",
      "True\n",
      "True\n",
      "False\n"
     ]
    },
    {
     "ename": "TypeError",
     "evalue": "isinstance() arg 2 must be a type or tuple of types",
     "output_type": "error",
     "traceback": [
      "\u001b[0;31m---------------------------------------------------------------------------\u001b[0m",
      "\u001b[0;31mTypeError\u001b[0m                                 Traceback (most recent call last)",
      "\u001b[0;32m<ipython-input-2-3bababf235b0>\u001b[0m in \u001b[0;36m<module>\u001b[0;34m\u001b[0m\n\u001b[1;32m     89\u001b[0m \u001b[0;34m\u001b[0m\u001b[0m\n\u001b[1;32m     90\u001b[0m \u001b[0;31m# Is julie and instance of jim?\u001b[0m\u001b[0;34m\u001b[0m\u001b[0;34m\u001b[0m\u001b[0;34m\u001b[0m\u001b[0m\n\u001b[0;32m---> 91\u001b[0;31m \u001b[0mprint\u001b[0m\u001b[0;34m(\u001b[0m\u001b[0misinstance\u001b[0m\u001b[0;34m(\u001b[0m\u001b[0mjulie\u001b[0m\u001b[0;34m,\u001b[0m \u001b[0mjim\u001b[0m\u001b[0;34m)\u001b[0m\u001b[0;34m)\u001b[0m\u001b[0;34m\u001b[0m\u001b[0;34m\u001b[0m\u001b[0m\n\u001b[0m",
      "\u001b[0;31mTypeError\u001b[0m: isinstance() arg 2 must be a type or tuple of types"
     ]
    }
   ],
   "source": [
    "# Python Object Inheritance \n",
    "\n",
    "# There are parent and child classes. The child inherits the descriptions and functionality of the parent. The most \n",
    "# fundamental class is an object. So if you just make a dog class as above it is inherently the class type: object. \n",
    "# When you define a new class, Python 3 it implicitly uses object as the parent class. \n",
    "\n",
    "# class Dog(object):\n",
    "#     pass\n",
    "\n",
    "# # In Python 3, this is the same as:\n",
    "\n",
    "# class Dog:\n",
    "#     pass\n",
    "\n",
    "# OK so here we create a parent and child class and then we also use the function isinstance\n",
    "\n",
    "# Parent class\n",
    "class Dog:\n",
    "\n",
    "    # Class attribute\n",
    "    species = 'mammal'\n",
    "\n",
    "    # Initializer / Instance attributes\n",
    "    def __init__(self, name, age):\n",
    "        self.name = name\n",
    "        self.age = age\n",
    "\n",
    "    # instance method\n",
    "    def description(self):\n",
    "        return \"{} is {} years old\".format(self.name, self.age)\n",
    "\n",
    "    # instance method\n",
    "    def speak(self, sound):\n",
    "        return \"{} says {}\".format(self.name, sound)\n",
    "\n",
    "\n",
    "# Child class (inherits from Dog() class)\n",
    "class RussellTerrier(Dog):\n",
    "   \n",
    "    # child class attribute\n",
    "    speed = 'fast'\n",
    "    \n",
    "    # Initializer / Instance attributes\n",
    "    def __init__(self, color):\n",
    "        self.color = color\n",
    "\n",
    "#     def run(self, speed):\n",
    "#         return \"{} runs {}\".format(self.name, speed)\n",
    "\n",
    "\n",
    "# Child class (inherits from Dog() class)\n",
    "class Bulldog(Dog):\n",
    "    def run(self, speed):\n",
    "        return \"{} runs {}\".format(self.name, speed)\n",
    "\n",
    "\n",
    "\n",
    "    \n",
    "    \n",
    "# Child classes inherit attributes and\n",
    "# behaviors from the parent class\n",
    "\n",
    "\n",
    "joe = RussellTerrier(\"brown\")\n",
    "print(joe.speed)\n",
    "print(joe.color)\n",
    "# Note that this joe.age throws an error. The init_ method for the Dog class was overwritten by the init_ method in the \n",
    "# the russelterrier child class. So it's important to note that the child class overwrites the parent!\n",
    "# print(joe.age)\n",
    "\n",
    "\n",
    "jim = Bulldog(\"Jim\", 12)\n",
    "print(jim.description())\n",
    "\n",
    "# Child classes have specific attributes\n",
    "# and behaviors as well\n",
    "print(jim.run(\"slowly\"))\n",
    "\n",
    "# Is jim an instance of Dog()?\n",
    "print(isinstance(jim, Dog))\n",
    "\n",
    "# Is julie an instance of Dog()?\n",
    "julie = Dog(\"Julie\", 100)\n",
    "print(isinstance(julie, Dog))\n",
    "\n",
    "# Is johnny walker an instance of Bulldog()\n",
    "johnnywalker = RussellTerrier(\"Johnny Walker\")\n",
    "print(isinstance(johnnywalker, Bulldog))\n",
    "\n",
    "# Is julie and instance of jim?\n",
    "print(isinstance(julie, jim))"
   ]
  },
  {
   "cell_type": "code",
   "execution_count": 32,
   "metadata": {},
   "outputs": [
    {
     "name": "stdout",
     "output_type": "stream",
     "text": [
      "I have 3 dogs.\n",
      "greg is 12 years old\n",
      "bob is 5 years old\n",
      "candy is 9 years old\n",
      "And they're all mammals, of course.\n",
      "And they're all aliens, of course.\n",
      "alien\n",
      "<__main__.Bulldog object at 0x7f6294297080>\n"
     ]
    }
   ],
   "source": [
    "# Python Tutorial Exercises: https://realpython.com/python3-object-oriented-programming/\n",
    "\n",
    "# Review Exercises (#2)\n",
    "\n",
    "\n",
    "# Parent Class \n",
    "class Pets: \n",
    "    dogs = []\n",
    "    \n",
    "    def __init__(self,dogs):\n",
    "        self.dogs = dogs\n",
    "\n",
    "# So in my understanding this basically just enables you to create a list of pets or dogs and have that be\n",
    "# it's own class. \n",
    "\n",
    "\n",
    "\n",
    "# Parent class\n",
    "class Dog:\n",
    "\n",
    "    # Class attribute\n",
    "    species = 'mammal'\n",
    "\n",
    "    # Initializer / Instance attributes\n",
    "    def __init__(self, name, age):\n",
    "        self.name = name\n",
    "        self.age = age\n",
    "\n",
    "    # instance method\n",
    "    def description(self):\n",
    "        return \"{} is {} years old\".format(self.name, self.age)\n",
    "\n",
    "    # instance method\n",
    "    def speak(self, sound):\n",
    "        return \"{} says {}\".format(self.name, sound)\n",
    "\n",
    "# Child class (inherits from Dog class)\n",
    "class RussellTerrier(Dog):\n",
    "    def run(self, speed):\n",
    "        \n",
    "        return \"{} runs {}\".format(self.name, speed)\n",
    "\n",
    "# Child class (inherits from Dog class)\n",
    "class Bulldog(Dog):\n",
    "    species = 'alien'\n",
    "    def run(self, speed):\n",
    "        return \"{} runs {}\".format(self.name, speed)\n",
    "\n",
    "\n",
    "# Create instances of dogs    \n",
    "my_dogs = [RussellTerrier(\"greg\", 12), RussellTerrier(\"bob\", 5), Bulldog(\"candy\", 9)]\n",
    "\n",
    "# Instantiate the Pets class\n",
    "my_pets = Pets(my_dogs)\n",
    "\n",
    "# print(my_pets.dogs) \n",
    "\n",
    "print(\"I have {} dogs.\". format(len(my_pets.dogs)))\n",
    "\n",
    "# Ok. This is tricky. So if you just do len(my_pets) this doesn't work. Because my pets is an object. \n",
    "# but my_pets.dogs is a list as defined by the initializer. \n",
    "\n",
    "# for doggy in my_pets.dogs:\n",
    "#     print(\"{} is {} years old\". format(doggy.name, dog.age))\n",
    "\n",
    "# print(dog.name)\n",
    "# This piece of code illustrates some wierdness. The doggy part here is just a variable. OK thats fine\n",
    "# so you can use dot notation on that var. But why does it work with dog. OHHH it only gives the age of the \n",
    "# most recently instantiated dog which was greg. Actually no that's wrong. Just do this instead: \n",
    "\n",
    "for X in my_pets.dogs:\n",
    "    print(\"{} is {} years old\". format(X.name, X.age))\n",
    "    \n",
    "\n",
    "print(\"And they're all {}s, of course.\".format(Dog.species))\n",
    "print(\"And they're all {}s, of course.\".format(X.species))\n",
    "print(Bulldog.species)\n",
    "print(X)\n",
    "# Ok. Weird. So be careful becuase with the notebook if you use a name but then delete it, it will still \n",
    "# remember the attributes of that object. Also we see that the variable used in the for loop in some way gets\n",
    "# saved. But lets see if the my_pets weren't all the same species what would X.species do? AHHHHH so actually\n",
    "# just never do what was done here. because X was last set to the Bulldog object \"candy\"!! Ok. very cool. \n",
    "# Need to read back over this one. Lots going on. "
   ]
  },
  {
   "cell_type": "code",
   "execution_count": null,
   "metadata": {},
   "outputs": [],
   "source": [
    "# Idea: Create a bunch of fake tree's. 100's and then \"see\" if age and rings correlate. "
   ]
  }
 ],
 "metadata": {
  "kernelspec": {
   "display_name": "Python 3",
   "language": "python",
   "name": "python3"
  },
  "language_info": {
   "codemirror_mode": {
    "name": "ipython",
    "version": 3
   },
   "file_extension": ".py",
   "mimetype": "text/x-python",
   "name": "python",
   "nbconvert_exporter": "python",
   "pygments_lexer": "ipython3",
   "version": "3.7.3"
  }
 },
 "nbformat": 4,
 "nbformat_minor": 2
}
