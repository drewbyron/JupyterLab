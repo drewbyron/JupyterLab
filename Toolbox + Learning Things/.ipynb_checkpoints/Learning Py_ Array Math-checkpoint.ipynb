{
 "cells": [
  {
   "cell_type": "code",
   "execution_count": 9,
   "metadata": {},
   "outputs": [
    {
     "name": "stdout",
     "output_type": "stream",
     "text": [
      "[[ 36 -12]\n",
      " [ -1   2]]\n"
     ]
    }
   ],
   "source": [
    "#Array Multiplication @\n",
    "\n",
    "import numpy as np\n",
    "import matplotlib.pyplot as plt\n",
    "\n",
    "A = np.array([[3, 6, 7], [5, -3, 0]])\n",
    "B = np.array([[1, 1], [2, 1], [3, -3]])\n",
    "C = A @ B\n",
    "print(C)"
   ]
  },
  {
   "cell_type": "code",
   "execution_count": 1,
   "metadata": {},
   "outputs": [
    {
     "name": "stdout",
     "output_type": "stream",
     "text": [
      "(2, 3)\n",
      "[[ 3  5]\n",
      " [ 6 -3]\n",
      " [ 7  0]]\n",
      "[[34  3 21]\n",
      " [ 3 45 42]\n",
      " [21 42 49]]\n",
      "(2, 3)\n"
     ]
    }
   ],
   "source": [
    "#Array Transpose\n",
    "\n",
    "import numpy as np\n",
    "import matplotlib.pyplot as plt\n",
    "\n",
    "A = np.array([[3, 6, 7], [5, -3, 0]])\n",
    "B = np.array([[1, 1], [2, 1], [3, -3]])\n",
    "\n",
    "print(A.shape)\n",
    "print(A.transpose())   # Remember these weird parentheses here. Why do we need these?\n",
    "print(A.transpose()@A) # Careful. Still works even if the dimensions don't match. \n",
    "print(A.shape)"
   ]
  },
  {
   "cell_type": "code",
   "execution_count": 7,
   "metadata": {},
   "outputs": [
    {
     "name": "stdout",
     "output_type": "stream",
     "text": [
      "(2, 3)\n",
      "[3 6 7]\n"
     ]
    }
   ],
   "source": [
    "#Array Shape\n",
    "\n",
    "import numpy as np\n",
    "import matplotlib.pyplot as plt\n",
    "\n",
    "A = np.array([[3, 6, 7], [5, -3, 0]])\n",
    "print(A.shape)\n",
    "print(A[0,:])"
   ]
  },
  {
   "cell_type": "code",
   "execution_count": 10,
   "metadata": {},
   "outputs": [
    {
     "name": "stdout",
     "output_type": "stream",
     "text": [
      "[[ 1.00000000e+00 -2.77555756e-17  0.00000000e+00]\n",
      " [ 0.00000000e+00  1.00000000e+00 -5.55111512e-17]\n",
      " [ 0.00000000e+00  2.22044605e-16  1.00000000e+00]]\n"
     ]
    }
   ],
   "source": [
    "#Array Inverse \n",
    "\n",
    "import numpy as np\n",
    "import matplotlib.pyplot as plt\n",
    "\n",
    "A = np.array([[3, 6, 7], [5, -3, 0],[4, 6, 2]])\n",
    "C = np.linalg.inv(A)\n",
    "\n",
    "\n",
    "print(C@A)  # ok this is more or less the identity matrix. Cool. "
   ]
  },
  {
   "cell_type": "code",
   "execution_count": 11,
   "metadata": {},
   "outputs": [
    {
     "name": "stdout",
     "output_type": "stream",
     "text": [
      "[3 5 4]\n"
     ]
    }
   ],
   "source": [
    "# Indicies \n",
    "\n",
    "print(A[:,0]) # Ok so array indicies start at 0!!"
   ]
  },
  {
   "cell_type": "code",
   "execution_count": null,
   "metadata": {},
   "outputs": [],
   "source": []
  }
 ],
 "metadata": {
  "kernelspec": {
   "display_name": "Python 3",
   "language": "python",
   "name": "python3"
  },
  "language_info": {
   "codemirror_mode": {
    "name": "ipython",
    "version": 3
   },
   "file_extension": ".py",
   "mimetype": "text/x-python",
   "name": "python",
   "nbconvert_exporter": "python",
   "pygments_lexer": "ipython3",
   "version": "3.7.3"
  }
 },
 "nbformat": 4,
 "nbformat_minor": 2
}
