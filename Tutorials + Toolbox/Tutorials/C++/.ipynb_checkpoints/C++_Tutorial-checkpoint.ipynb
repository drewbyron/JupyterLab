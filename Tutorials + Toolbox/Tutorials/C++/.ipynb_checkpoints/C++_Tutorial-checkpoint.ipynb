{
 "cells": [
  {
   "cell_type": "markdown",
   "metadata": {},
   "source": [
    "## C++ Tutorial \n",
    "\n",
    "* Primary Resource: http://www.cplusplus.com/doc/tutorial/introduction/\n",
    "* Secondary Resource: https://www.geeksforgeeks.org/cpp-tutorial/?ref=lbp\n",
    "* Need to engage this: \"source activate xeus-cling\" before opening jupyter lab for it to work in C++ mode. \n",
    "\n",
    "I am going to go start to finish through the primary tutorial as fast and focused as I can. Keep examples short so this document doesn't get insanely long. Try to make it accessible to others. \n",
    "\n",
    "Note: May need to restart kernel to have things work due to reassignment weirdness. The command is: esc 00"
   ]
  },
  {
   "cell_type": "markdown",
   "metadata": {},
   "source": [
    "# Basics of C++\n",
    "\n",
    "http://www.cplusplus.com/doc/tutorial/program_structure/\n",
    "\n",
    "If you have never compiled a c++ program normally using g++ or some other compiler, then follow this tutorial to see how it works.\n",
    "\n",
    "https://www.youtube.com/watch?v=yXMb7SC9gHg \n",
    "\n",
    "But then we will stick to using the .pynb to do examples for ease. "
   ]
  },
  {
   "cell_type": "markdown",
   "metadata": {},
   "source": [
    "## Variables and Types:  \n",
    "\n",
    "* Variables need to be assigned a name called an identifier. \n",
    "* C++ is case sensitive. \n",
    "* The chart describing all the memory allocations for different types is helpful. \n",
    "* If the size or precision of the type is not a concern, then char, int, and double are typically selected to represent characters, integers, and floating-point values, respectively. \n",
    "* There is also \"void\". Which identifies a variable as lacking a type. \n",
    "* Double is more presice (larger # of bits) than a float. \n"
   ]
  },
  {
   "cell_type": "code",
   "execution_count": 1,
   "metadata": {},
   "outputs": [],
   "source": [
    "//Always run this after restarting the kernel to reset the namespace. \n",
    "\n",
    "#include <iostream>\n",
    "using namespace std;\n"
   ]
  },
  {
   "cell_type": "code",
   "execution_count": 2,
   "metadata": {},
   "outputs": [],
   "source": [
    "//Declaration of Variables\n",
    "\n",
    "int b;\n",
    "float number;\n",
    "char mychar;"
   ]
  },
  {
   "cell_type": "code",
   "execution_count": 3,
   "metadata": {},
   "outputs": [
    {
     "data": {
      "text/plain": [
       "'h'"
      ]
     },
     "execution_count": 3,
     "metadata": {},
     "output_type": "execute_result"
    }
   ],
   "source": [
    "//Initialization of Variables\n",
    "b = 5;\n",
    "number = 5.0002;\n",
    "mychar = 'h'; // Note that char is only one character. "
   ]
  },
  {
   "cell_type": "code",
   "execution_count": 5,
   "metadata": {},
   "outputs": [
    {
     "name": "stderr",
     "output_type": "stream",
     "text": [
      "\u001b[1minput_line_20:4:5: \u001b[0m\u001b[0;1;31merror: \u001b[0m\u001b[1mredefinition of 'x'\u001b[0m\n",
      "int x = 30;\n",
      "\u001b[0;1;32m    ^\n",
      "\u001b[0m\u001b[1minput_line_17:4:5: \u001b[0m\u001b[0;1;30mnote: \u001b[0mprevious definition is here\u001b[0m\n",
      "int x = 30;\n",
      "\u001b[0;1;32m    ^\n",
      "\u001b[0m"
     ]
    },
    {
     "ename": "Interpreter Error",
     "evalue": "",
     "output_type": "error",
     "traceback": [
      "Interpreter Error: "
     ]
    }
   ],
   "source": [
    "// Two ways to initialize variables. \n",
    "// Remember: declare means to create a variable with an identifier, to initialize means to give the variable a value. \n",
    "\n",
    "#include <iostream>\n",
    "using namespace std;\n",
    "//This can be accomplished like this:\n",
    "\n",
    "int x = 30;\n",
    "cout << x << endl;\n",
    "\n",
    "//Or like this ( known as constructor initialization):\n",
    "\n",
    "int y(40); \n",
    "int z{45}; //This works similarly. \n",
    "cout << y << endl;\n",
    "cout << z << endl;"
   ]
  },
  {
   "cell_type": "code",
   "execution_count": 6,
   "metadata": {},
   "outputs": [],
   "source": [
    "// You can also use \"auto\" and \"decltype\" to specify the type of a new variable based on the type of an existing variable. \n",
    "int foo = 60;\n",
    "auto bar = foo;\n",
    "decltype(foo) car = 50;"
   ]
  },
  {
   "cell_type": "markdown",
   "metadata": {},
   "source": [
    "Strings are not a fundamental type in c++ (remember that char's could only be one element long). Strings are a compound type built from the fundametal type char. "
   ]
  },
  {
   "cell_type": "code",
   "execution_count": 2,
   "metadata": {},
   "outputs": [
    {
     "name": "stdout",
     "output_type": "stream",
     "text": [
      "This is the initial string content\n",
      "This is a different string content\n"
     ]
    }
   ],
   "source": [
    "// Intro to strings\n",
    "#include <string>\n",
    "\n",
    "string mystring;\n",
    "mystring = \"This is the initial string content\";\n",
    "cout << mystring << endl;\n",
    "mystring = \"This is a different string content\";\n",
    "cout << mystring << endl;"
   ]
  },
  {
   "cell_type": "markdown",
   "metadata": {},
   "source": [
    "## Constants: \n",
    "\n",
    "* In C++ you can have literal constants represented in decimal, octal (base 8) and hexadecimal (base 16). \n",
    "* 6.02e23 is the correct scientific notation that can be used for floating point numbers. \n",
    "* To represent a single character, we enclose it between single quotes ('), and to express a string (which generally consists of more than one character), we enclose the characters between double quotes (\").\n"
   ]
  },
  {
   "cell_type": "code",
   "execution_count": 1,
   "metadata": {},
   "outputs": [
    {
     "name": "stdout",
     "output_type": "stream",
     "text": [
      " one \n",
      " two \n",
      " three\n",
      "here's a tab \t that was a tab\n"
     ]
    }
   ],
   "source": [
    "//String Properties\n",
    "#include <iostream>\n",
    "#include <string>\n",
    "using namespace std;\n",
    "\n",
    "// The backslash is used for special commands within strings\n",
    "string see = \" one \\n two \\n three\";\n",
    "string here = \"here's a tab \\t that was a tab\";\n",
    "cout << see << endl;\n",
    "cout << here << endl; "
   ]
  },
  {
   "cell_type": "markdown",
   "metadata": {},
   "source": [
    "Three keyword literals exist in C++: true, false and nullptr:"
   ]
  },
  {
   "cell_type": "code",
   "execution_count": 4,
   "metadata": {},
   "outputs": [],
   "source": [
    "bool poo = true;\n",
    "bool bar = false;\n",
    "int* p = nullptr;"
   ]
  },
  {
   "cell_type": "code",
   "execution_count": 5,
   "metadata": {},
   "outputs": [
    {
     "name": "stdout",
     "output_type": "stream",
     "text": [
      "I love\n",
      "31.459\n"
     ]
    }
   ],
   "source": [
    "// Another useful thing is #define. This is a one to one replacement of a thing. \n",
    "\n",
    "#define PI 3.1459\n",
    "#define newline '\\n'\n",
    "\n",
    "cout << \"I love\" << newline; \n",
    "cout << PI * 10 << endl;\n"
   ]
  },
  {
   "cell_type": "markdown",
   "metadata": {},
   "source": [
    "## Operators: \n",
    "\n",
    "= sign: \n",
    "\n",
    "x = y;\n",
    "\n",
    "This statement assigns to variable x the value contained in variable y. The value of x at the moment this statement is executed is lost and replaced by the value of y. Consider also that we are only assigning the value of y to x at the moment of the assignment operation. Therefore, if y changes at a later moment, it will not affect the value of x.\n",
    "\n",
    "Arithmetic operators ( +, -, *, /, % ):\n",
    "\n",
    "These are the only 5 arethmetic operators supported by C++. The only tricky one is % which is the modulo operator in C++. \n"
   ]
  },
  {
   "cell_type": "code",
   "execution_count": 6,
   "metadata": {},
   "outputs": [
    {
     "name": "stdout",
     "output_type": "stream",
     "text": [
      "5"
     ]
    }
   ],
   "source": [
    "//useful notation: \n",
    "\n",
    "int a, b=3; //This declares both a and b but only initializes b. \n",
    "a = b;\n",
    "a+=2;  // equivalent to a=a+2\n",
    "cout << a;"
   ]
  },
  {
   "cell_type": "code",
   "execution_count": 7,
   "metadata": {},
   "outputs": [
    {
     "name": "stdout",
     "output_type": "stream",
     "text": [
      "6\n",
      "1\n"
     ]
    }
   ],
   "source": [
    "//And it works similarly for all arithmetic operators\n",
    "a = 3;\n",
    "b=10;\n",
    "a*=2;// equivalent to a=a*2\n",
    "b/=a; // equivalent to b = b/a (note that division by ints gives no remainder and still outputs an int)\n",
    "cout << a <<endl;\n",
    "cout << b <<endl;"
   ]
  },
  {
   "cell_type": "code",
   "execution_count": 2,
   "metadata": {},
   "outputs": [
    {
     "name": "stdout",
     "output_type": "stream",
     "text": [
      "8"
     ]
    },
    {
     "data": {
      "text/plain": [
       "@0x7f226c8b6b40"
      ]
     },
     "execution_count": 2,
     "metadata": {},
     "output_type": "execute_result"
    }
   ],
   "source": [
    "//Also convenient especially for loops and conditions: All 4 of these expressions are identical. \n",
    "int x =4;\n",
    "\n",
    "++x;\n",
    "x++;\n",
    "x+=1;\n",
    "x=x+1;\n",
    "cout << x;\n",
    "\n",
    "//There is an intuitive subtlty with statements like: x= y++ vs x=++y having to do with whether you assign or increment first. Not hugely important. "
   ]
  },
  {
   "cell_type": "markdown",
   "metadata": {},
   "source": [
    "Relational and comparison operators ( ==, !=, >, <, >=, <= )\n",
    "\n",
    "* This is the same in python. Just remember that a single = means you are assigning the value on the right-hand side to the variable on its left, whereas a == means you are checking to see if they are the same. "
   ]
  },
  {
   "cell_type": "code",
   "execution_count": 3,
   "metadata": {},
   "outputs": [
    {
     "name": "stdout",
     "output_type": "stream",
     "text": [
      "0\n",
      "1\n",
      "1\n",
      "1\n",
      "0\n"
     ]
    },
    {
     "data": {
      "text/plain": [
       "@0x7f226c8b6b40"
      ]
     },
     "execution_count": 3,
     "metadata": {},
     "output_type": "execute_result"
    }
   ],
   "source": [
    "cout << (7 == 5) <<endl;    // evaluates to false\n",
    "cout << (5 > 4)  <<endl;    // evaluates to true\n",
    "cout << (3 != 2) <<endl;    // evaluates to true\n",
    "cout << (6 >= 6) <<endl;    // evaluates to true\n",
    "cout << (5 < 5)  <<endl;    // evaluates to false"
   ]
  },
  {
   "cell_type": "markdown",
   "metadata": {},
   "source": [
    "Logical Operators: \n",
    "! = NOT\n",
    "&& = AND\n",
    "|| = OR\n",
    "? = Conditional ternary operator"
   ]
  },
  {
   "cell_type": "code",
   "execution_count": 4,
   "metadata": {},
   "outputs": [
    {
     "name": "stdout",
     "output_type": "stream",
     "text": [
      "7\n"
     ]
    }
   ],
   "source": [
    "//The ? operator at work. Basically if a condition is true it evaluates to aa (or just the first variable generally) and if it's false then it evaluates to bb:\n",
    "\n",
    "int aa=2;\n",
    "int bb=7;\n",
    "int cc = (aa>bb) ? aa : bb;\n",
    "\n",
    "cout << cc << '\\n';"
   ]
  },
  {
   "cell_type": "code",
   "execution_count": 5,
   "metadata": {},
   "outputs": [
    {
     "name": "stdout",
     "output_type": "stream",
     "text": [
      "12\n"
     ]
    },
    {
     "data": {
      "text/plain": [
       "@0x7f226c8b6b40"
      ]
     },
     "execution_count": 5,
     "metadata": {},
     "output_type": "execute_result"
    }
   ],
   "source": [
    "//Type Casting Operator\n",
    "\n",
    "float e = 6.8988;\n",
    "int a;\n",
    "int c;\n",
    "\n",
    "//typecast: \n",
    "a = int (e);\n",
    "c = (int) e ; //These are equivalent. \n",
    "cout << a + c << '\\n';\n",
    "\n",
    "// Note that it always rounds down. "
   ]
  },
  {
   "cell_type": "markdown",
   "metadata": {},
   "source": [
    "## Basic Input/Output\n",
    "\n",
    "* cin, cout, cerr, clog are the four most basic streams used. But cerr and clog are basically special cases of cout. \n",
    "* If a variable identifier is given to cout then the value is printed. Otherwise you need to put things in double quotes"
   ]
  },
  {
   "cell_type": "code",
   "execution_count": 6,
   "metadata": {},
   "outputs": [
    {
     "name": "stdout",
     "output_type": "stream",
     "text": [
      "Output sentence12050"
     ]
    },
    {
     "data": {
      "text/plain": [
       "@0x7f226c8b6b40"
      ]
     },
     "execution_count": 6,
     "metadata": {},
     "output_type": "execute_result"
    }
   ],
   "source": [
    "int ef = 5;\n",
    "int wf;\n",
    "\n",
    "cout << \"Output sentence\"; // prints Output sentence on screen\n",
    "cout << 120;               // prints number 120 on screen\n",
    "cout << ef;                 // prints the value of x on screen \n",
    "cout << wf;\n",
    "//Note the lack of line breaks. Also note that the default value for an int must be zero. \n"
   ]
  },
  {
   "cell_type": "code",
   "execution_count": 7,
   "metadata": {},
   "outputs": [
    {
     "name": "stdout",
     "output_type": "stream",
     "text": [
      "This  is a single C++ statement\n",
      "I am 28 years old and my zipcode is 98115"
     ]
    }
   ],
   "source": [
    "// You can also chain together things: \n",
    "int age = 28;\n",
    "int zipcode = 98115;\n",
    "cout << \"This \" << \" is a \" << \"single C++ statement\" << endl;\n",
    "cout << \"I am \" << age << \" years old and my zipcode is \" << zipcode;\n"
   ]
  },
  {
   "cell_type": "code",
   "execution_count": 8,
   "metadata": {},
   "outputs": [
    {
     "name": "stdout",
     "output_type": "stream",
     "text": [
      "first\n",
      "second\n",
      "third\n",
      "fourth"
     ]
    },
    {
     "data": {
      "text/plain": [
       "@0x7f226c8b6b40"
      ]
     },
     "execution_count": 8,
     "metadata": {},
     "output_type": "execute_result"
    }
   ],
   "source": [
    "// As we saw you can use endl or \\n to end the line.\n",
    "\n",
    "cout << \"first\\nsecond\" << \"\\n\" << \"third\" << endl << \"fourth\""
   ]
  },
  {
   "cell_type": "code",
   "execution_count": 1,
   "metadata": {},
   "outputs": [
    {
     "name": "stdout",
     "output_type": "stream",
     "text": [
      "Please enter an integer value: "
     ]
    },
    {
     "name": "stdin",
     "output_type": "stream",
     "text": [
      " 7\n"
     ]
    },
    {
     "name": "stdout",
     "output_type": "stream",
     "text": [
      "The value you entered is 7 and its double is 14.\n"
     ]
    }
   ],
   "source": [
    "//using cin\n",
    "// i/o example. But note that cin works a bit differently in the jupyter notebook. Pretty cool actually. \n",
    "\n",
    "#include <iostream>\n",
    "using namespace std;\n",
    "\n",
    "int i;\n",
    "cout << \"Please enter an integer value: \";\n",
    "cin >> i;                                  // Note that the cin arrows go the other way. \n",
    "cout << \"The value you entered is \" << i;\n",
    "cout << \" and its double is \" << i*2 << \".\\n\";\n"
   ]
  },
  {
   "cell_type": "code",
   "execution_count": 2,
   "metadata": {},
   "outputs": [
    {
     "name": "stdin",
     "output_type": "stream",
     "text": [
      " This is a fill scentence \n"
     ]
    },
    {
     "name": "stdout",
     "output_type": "stream",
     "text": [
      "you wrote this:This"
     ]
    }
   ],
   "source": [
    "// another cin example using strings: Try typing in a scentence and see what happens. \n",
    "#include <string>\n",
    "string nn;\n",
    "cin  >> nn;\n",
    "cout << \"you wrote this:\" << nn;"
   ]
  },
  {
   "cell_type": "markdown",
   "metadata": {},
   "source": [
    "Ok. But this method also has a big drawback. What happens in the example above if the user enters something else that cannot be interpreted as an integer? Well, in this case, the extraction operation fails. And this, by default, lets the program continue without setting a value for variable i, producing undetermined results if the value of i is used later.\n",
    "\n",
    "Also note: \n",
    "However, cin extraction always considers spaces (whitespaces, tabs, new-line...) as terminating the value being extracted, and thus extracting a string means to always extract a single word, not a phrase or an entire sentence. To get an entire line from cin, there exists a function, called getline, that takes the stream (cin) as first argument, and the string variable as second. Therefore, unless you have a strong reason not to, you should always use getline to get input in your console programs instead of extracting from cin."
   ]
  },
  {
   "cell_type": "code",
   "execution_count": 3,
   "metadata": {},
   "outputs": [
    {
     "name": "stdin",
     "output_type": "stream",
     "text": [
      " asdhfsadjfhs\n"
     ]
    },
    {
     "name": "stdout",
     "output_type": "stream",
     "text": [
      "Hello asdhfsadjfhs.\n"
     ]
    }
   ],
   "source": [
    "//getline example: You can put in multiple words here. \n",
    "string mystr;\n",
    "getline (cin, mystr);\n",
    "cout << \"Hello \" << mystr << \".\\n\";"
   ]
  },
  {
   "cell_type": "code",
   "execution_count": 4,
   "metadata": {},
   "outputs": [],
   "source": [
    "// stringstreams. These are used to convert a string into a float or int. Helpful for doing math on user inputs.\n",
    "#include <iostream>\n",
    "#include <string>\n",
    "#include <sstream>\n",
    "using namespace std;"
   ]
  },
  {
   "cell_type": "code",
   "execution_count": 5,
   "metadata": {},
   "outputs": [
    {
     "name": "stdout",
     "output_type": "stream",
     "text": [
      "Enter price: "
     ]
    },
    {
     "name": "stdin",
     "output_type": "stream",
     "text": [
      " 56\n"
     ]
    },
    {
     "name": "stdout",
     "output_type": "stream",
     "text": [
      "Enter quantity: "
     ]
    },
    {
     "name": "stdin",
     "output_type": "stream",
     "text": [
      " 4\n"
     ]
    },
    {
     "name": "stdout",
     "output_type": "stream",
     "text": [
      "Total price: 224\n"
     ]
    }
   ],
   "source": [
    "string mystr2;\n",
    "float price=0;\n",
    "int quantity=0;\n",
    "\n",
    "cout << \"Enter price: \";\n",
    "getline (cin,mystr2);\n",
    "stringstream(mystr2) >> price;\n",
    "cout << \"Enter quantity: \";\n",
    "getline (cin,mystr2);\n",
    "stringstream(mystr2) >> quantity;\n",
    "cout << \"Total price: \" << price*quantity << endl;"
   ]
  },
  {
   "cell_type": "markdown",
   "metadata": {},
   "source": [
    "# Program Structure ## \n",
    "\n",
    "http://www.cplusplus.com/doc/tutorial/control/"
   ]
  },
  {
   "cell_type": "markdown",
   "metadata": {},
   "source": [
    "## Statements and Flow Control\n",
    "\n",
    "* If, else\n",
    "* While, do, for"
   ]
  },
  {
   "cell_type": "code",
   "execution_count": 6,
   "metadata": {},
   "outputs": [],
   "source": [
    "int x = 29;\n",
    "int y = 30;"
   ]
  },
  {
   "cell_type": "code",
   "execution_count": 7,
   "metadata": {},
   "outputs": [
    {
     "name": "stdout",
     "output_type": "stream",
     "text": [
      "x = 29"
     ]
    }
   ],
   "source": [
    "if (x==29)      //Note that we don't need a semicolon here. In python conditions need colons and statements don't. In C++ it is the opposite. \n",
    "    cout << \"x = 29\";"
   ]
  },
  {
   "cell_type": "code",
   "execution_count": 8,
   "metadata": {},
   "outputs": [
    {
     "name": "stdout",
     "output_type": "stream",
     "text": [
      "y is not 100"
     ]
    }
   ],
   "source": [
    "//The \"else\" statement is executed iff the \"if\" condition is false. \n",
    "\n",
    "if (y == 100)\n",
    "  cout << \"y is 100\";\n",
    "else\n",
    "  cout << \"y is not 100\";"
   ]
  },
  {
   "cell_type": "code",
   "execution_count": 9,
   "metadata": {},
   "outputs": [
    {
     "name": "stdout",
     "output_type": "stream",
     "text": [
      "y is 30"
     ]
    }
   ],
   "source": [
    "if (y > 30)\n",
    "  cout << \"y is greater than 30\";\n",
    "else if (y < 30)\n",
    "  cout << \"y is less than 30\";\n",
    "else\n",
    "  cout << \"y is 30\";\n",
    "\n",
    "// In words: The else if statement is only executed if the \"if\" condition is false and the \"elseif\" condition is true. \n",
    "// The else condition is only executed if the above two are false. "
   ]
  },
  {
   "cell_type": "code",
   "execution_count": 1,
   "metadata": {},
   "outputs": [],
   "source": [
    "#include <iostream>\n",
    "#include <string>\n",
    "#include <sstream>\n",
    "using namespace std;\n",
    "int n = 10;"
   ]
  },
  {
   "cell_type": "code",
   "execution_count": 11,
   "metadata": {},
   "outputs": [
    {
     "name": "stdout",
     "output_type": "stream",
     "text": [
      "10, 9, 8, 7, 6, 5, 4, 3, 2, 1, liftoff!\n"
     ]
    }
   ],
   "source": [
    "//Iteration statements (loops)\n",
    "//Loops repeat a statement a certain number of times, or while a condition is fulfilled. They are introduced by the keywords while, do, and for.\n",
    "\n",
    "//While:\n",
    "\n",
    "while (n>0) {\n",
    "cout << n << \", \";\n",
    "n--; // Note that either n-- or --n will work here. I like putting them after because I think that's the python syntax. \n",
    "}\n",
    "\n",
    "cout << \"liftoff!\\n\";"
   ]
  },
  {
   "cell_type": "code",
   "execution_count": 12,
   "metadata": {},
   "outputs": [
    {
     "name": "stdout",
     "output_type": "stream",
     "text": [
      "Enter text: "
     ]
    },
    {
     "name": "stdin",
     "output_type": "stream",
     "text": [
      " hello\n"
     ]
    },
    {
     "name": "stdout",
     "output_type": "stream",
     "text": [
      "You entered: hello\n",
      "Enter text: "
     ]
    },
    {
     "name": "stdin",
     "output_type": "stream",
     "text": [
      " el\n"
     ]
    },
    {
     "name": "stdout",
     "output_type": "stream",
     "text": [
      "You entered: el\n",
      "Enter text: "
     ]
    },
    {
     "name": "stdin",
     "output_type": "stream",
     "text": [
      " goodbye\n"
     ]
    },
    {
     "name": "stdout",
     "output_type": "stream",
     "text": [
      "You entered: goodbye\n"
     ]
    }
   ],
   "source": [
    "// The do-while loop\n",
    "// A very similar loop is the do-while loop, whose syntax is:\n",
    "\n",
    "// do statement while (condition);\n",
    "\n",
    "// It behaves like a while-loop, except that condition is evaluated after the execution of \n",
    "// statement instead of before, guaranteeing at least one execution of statement, even if condition is never fulfilled. \n",
    "// For example, the following example program echoes any text the user introduces until the user enters goodbye:\n",
    "\n",
    "string str;\n",
    "do {\n",
    "cout << \"Enter text: \";\n",
    "getline (cin,str);\n",
    "cout << \"You entered: \" << str << '\\n';\n",
    "} while (str != \"goodbye\");\n",
    "\n",
    "//Note that this needs to be exectued at least once because to stop you must enter goodbye."
   ]
  },
  {
   "cell_type": "code",
   "execution_count": 13,
   "metadata": {},
   "outputs": [
    {
     "name": "stdout",
     "output_type": "stream",
     "text": [
      "10, 9, 8, 7, 6, 5, 4, 3, 2, 1, liftoff!\n"
     ]
    }
   ],
   "source": [
    "// for loop\n",
    "// Note that the initialization and increase parts are optional. Though you need the semicolons on either side always (; n>10;)\n",
    "// Also note that you don't get declaration errors if you run this multiple times so I guess it destroys the n variable after the loop?\n",
    "\n",
    "for (int n=10; n>0; n--) {\n",
    "cout << n << \", \";\n",
    "}\n",
    "cout << \"liftoff!\\n\";"
   ]
  },
  {
   "cell_type": "code",
   "execution_count": 14,
   "metadata": {},
   "outputs": [
    {
     "name": "stdout",
     "output_type": "stream",
     "text": [
      "0,100,1,99,2,98,3,97,4,96,5,95,6,94,7,93,8,92,9,91,10,90,11,89,12,88,13,87,14,86,15,85,16,84,17,83,18,82,19,81,20,80,21,79,22,78,23,77,24,76,25,75,26,74,27,73,28,72,29,71,30,70,31,69,32,68,33,67,34,66,35,65,36,64,37,63,38,62,39,61,40,60,41,59,42,58,43,57,44,56,45,55,46,54,47,53,48,52,49,51,"
     ]
    }
   ],
   "source": [
    "// You can also put many expressions in if you want to: \n",
    "\n",
    "for ( int n=0, i=100 ; n!=i ; ++n, --i )\n",
    "{\n",
    "    cout << n << \",\" ;\n",
    "    cout << i << \",\" ;\n",
    "}"
   ]
  },
  {
   "cell_type": "markdown",
   "metadata": {},
   "source": [
    "Range-based for loop\n",
    "The for-loop has another syntax, which is used exclusively with ranges:\n",
    "\n",
    "for ( declaration : range ) statement;\n",
    "\n",
    "This kind of for loop iterates over all the elements in range, where declaration declares some variable able to take the value of an element in this range. Ranges are sequences of elements, including arrays, containers, and any other type supporting the functions begin and end; Most of these types have not yet been introduced in this tutorial, but we are already acquainted with at least one kind of range: strings, which are sequences of characters.\n",
    "\n",
    "An example of range-based for loop using strings:"
   ]
  },
  {
   "cell_type": "code",
   "execution_count": 15,
   "metadata": {},
   "outputs": [
    {
     "name": "stdout",
     "output_type": "stream",
     "text": [
      "[H][e][l][l][o][!]\n"
     ]
    },
    {
     "data": {
      "text/plain": [
       "@0x7f288310cb40"
      ]
     },
     "execution_count": 15,
     "metadata": {},
     "output_type": "execute_result"
    }
   ],
   "source": [
    "string str3 {\"Heart Transplant!\"};\n",
    "for (char c : str3)\n",
    "{\n",
    "cout << \"[\" << c << \"]\";\n",
    "}\n",
    "cout << '\\n';\n",
    "\n",
    "// Note that even though str3 is of type string you declare c as a char because the elements in the string are of type char."
   ]
  },
  {
   "cell_type": "code",
   "execution_count": 16,
   "metadata": {},
   "outputs": [
    {
     "name": "stdout",
     "output_type": "stream",
     "text": [
      "[L][I][T][T][L][E][ ][S][I][!]\n"
     ]
    }
   ],
   "source": [
    "// This is a useful place to use the auto type deduction feature.\n",
    "string str4 {\"LITTLE SI!\"};\n",
    "for (auto c : str4)\n",
    "{\n",
    "cout << \"[\" << c << \"]\";\n",
    "}\n",
    "cout << '\\n';"
   ]
  },
  {
   "cell_type": "markdown",
   "metadata": {},
   "source": [
    "Jump Statements: leaping out of loops"
   ]
  },
  {
   "cell_type": "code",
   "execution_count": 19,
   "metadata": {},
   "outputs": [
    {
     "name": "stdout",
     "output_type": "stream",
     "text": [
      "10, 9, 8, 7, 6, 5, 4, 3, countdown aborted!"
     ]
    }
   ],
   "source": [
    "// The break\n",
    "\n",
    "for (int n=10; n>0; n--)\n",
    "{\n",
    "cout << n << \", \";\n",
    "if (n==3)\n",
    "{\n",
    "  cout << \"countdown aborted!\";\n",
    "  break;\n",
    "}}\n",
    "// Try taking break out and see what happens. With the break, in never reaches 2,1. Break only exits the for or while loop that the if statement is nested in. Doesn't break all loops. "
   ]
  },
  {
   "cell_type": "code",
   "execution_count": 20,
   "metadata": {},
   "outputs": [
    {
     "name": "stdout",
     "output_type": "stream",
     "text": [
      "10, 9, 8, 7, 6, 4, 3, 2, 1, liftoff!\n"
     ]
    },
    {
     "data": {
      "text/plain": [
       "@0x7f288310cb40"
      ]
     },
     "execution_count": 20,
     "metadata": {},
     "output_type": "execute_result"
    }
   ],
   "source": [
    "// The continue\n",
    "\n",
    "for (int n=10; n>0; n--) {\n",
    "    if (n==5) continue;\n",
    "    cout << n << \", \";\n",
    "}\n",
    "cout << \"liftoff!\\n\";\n",
    "\n",
    "// Notice that 5 is missing. So it hits the continue and then ends the current iteration, going right to n -- and then back to the start of \n",
    "// the statement of the loop."
   ]
  },
  {
   "cell_type": "code",
   "execution_count": 21,
   "metadata": {},
   "outputs": [
    {
     "name": "stdout",
     "output_type": "stream",
     "text": [
      "10, 9, 8, 7, 6, 5, 4, 3, 2, 1, liftoff!\n"
     ]
    },
    {
     "data": {
      "text/plain": [
       "@0x7f288310cb40"
      ]
     },
     "execution_count": 21,
     "metadata": {},
     "output_type": "execute_result"
    }
   ],
   "source": [
    "// goto \n",
    "// Note that this is not recommended to use for most high level coding. \n",
    "  int bn=10;\n",
    "mylabel:\n",
    "  cout << bn << \", \";\n",
    "  bn--;\n",
    "  if (bn>0) goto mylabel;\n",
    "  cout << \"liftoff!\\n\";\n",
    "// the switch is another weird one that is most likely not useful "
   ]
  },
  {
   "cell_type": "markdown",
   "metadata": {},
   "source": [
    "## Functions\n",
    "\n",
    "type name ( parameter1, parameter2, ...) { statements }\n",
    "\n",
    "Where:\n",
    "* type is the type of the value returned by the function.\n",
    "* name is the identifier by which the function can be called.\n",
    "* parameters (as many as needed): Each parameter consists of a type followed by an identifier, with each parameter being separated from the next by a comma. Each parameter looks very much like a regular variable declaration (for example: int x), and in fact acts within the function as a regular variable which is local to the function. The purpose of parameters is to allow passing arguments to the function from the location where it is called from.\n",
    "* statements is the function's body. It is a block of statements surrounded by braces { } that specify what the function actually does.\n"
   ]
  },
  {
   "cell_type": "code",
   "execution_count": 22,
   "metadata": {},
   "outputs": [
    {
     "name": "stdout",
     "output_type": "stream",
     "text": [
      "The result is 8"
     ]
    }
   ],
   "source": [
    "int addition (int a, int b)\n",
    "{\n",
    "  int r;\n",
    "  r=a+b;\n",
    "  return r;\n",
    "}\n",
    "\n",
    "\n",
    "int z;\n",
    "z = addition (5,3);\n",
    "cout << \"The result is \" << z;\n",
    "\n",
    "// Note that in the function call you can just have values. But you could also input variables. \n",
    "// Think of addition(5,3) being replaced by what is returned (8)"
   ]
  },
  {
   "cell_type": "code",
   "execution_count": 26,
   "metadata": {},
   "outputs": [
    {
     "name": "stdout",
     "output_type": "stream",
     "text": [
      "The first result is 5\n",
      "The second result is 5\n",
      "The third result is 2\n",
      "The fourth result is 0\n"
     ]
    }
   ],
   "source": [
    "int subtraction (int a, int b)\n",
    "{\n",
    "  int r;\n",
    "  r=a-b;\n",
    "  return r;\n",
    "}\n",
    "int xx=5, yy=3, zz;\n",
    "z = subtraction (7,2);\n",
    "cout << \"The first result is \" << z << '\\n';\n",
    "cout << \"The second result is \" << subtraction (7,2) << '\\n';\n",
    "cout << \"The third result is \" << subtraction (xx,yy) << '\\n';\n",
    "zz= 4 + subtraction (xx,yy);\n",
    "cout << \"The fourth result is \" << zz << '\\n';"
   ]
  },
  {
   "cell_type": "code",
   "execution_count": 27,
   "metadata": {},
   "outputs": [
    {
     "name": "stdout",
     "output_type": "stream",
     "text": [
      "I'm a function!"
     ]
    }
   ],
   "source": [
    "//  Void type functions do not return anything. Recall that typically the type of the function specifies\n",
    "//  the type of the returned variable. \n",
    "\n",
    "void printmessage()\n",
    "{\n",
    "  cout << \"I'm a function!\";\n",
    "}\n",
    "\n",
    "printmessage()\n",
    "    \n",
    "//  You can also put void in the argument section of the function to show that it takes no argument. \n",
    "// ex: void printmessage(void)\n",
    "    \n",
    "//  Note that the parenthesis at the end of the function call is always required whether the function\n",
    "// takes arguments or not. "
   ]
  },
  {
   "cell_type": "markdown",
   "metadata": {},
   "source": [
    "Note that the main() function implicitly returns 0 even though you don't need to write it. And 0 indicates the program ran successfully. (Even though 0 = false in boolean logic but oh well). Some may opt to write the return 0 after main for consistency. "
   ]
  },
  {
   "cell_type": "markdown",
   "metadata": {},
   "source": [
    "Arguments passed by value and reference\n",
    "\n",
    "The idea here is that in the case of the above addition and subtraction functions above you are only passing by value, copies of the variables at the moment you pass them. addition(x,y) really just takes a copy of the value of x and y not the variables themselves as arguments. So how do we actually change external variables with a function? We pass the arguments by reference:"
   ]
  },
  {
   "cell_type": "code",
   "execution_count": 2,
   "metadata": {},
   "outputs": [
    {
     "name": "stdout",
     "output_type": "stream",
     "text": [
      "x=2, y=6, z=14"
     ]
    }
   ],
   "source": [
    "void duplicate (int& a, int& b, int& c)\n",
    "{\n",
    "  a*=2;\n",
    "  b*=2;\n",
    "  c*=2;\n",
    "}\n",
    "\n",
    "int ax=1, ay=3, az=7;\n",
    "duplicate (ax, ay, az);\n",
    "cout << \"ax=\" << ax << \", ay=\" << ay << \", az=\" << az;"
   ]
  },
  {
   "cell_type": "code",
   "execution_count": 3,
   "metadata": {},
   "outputs": [
    {
     "name": "stderr",
     "output_type": "stream",
     "text": [
      "\u001b[1minput_line_10:4:1: \u001b[0m\u001b[0;1;31merror: \u001b[0m\u001b[1mno matching function for call to 'duplicate'\u001b[0m\n",
      "duplicate(4,5,6)\n",
      "\u001b[0;1;32m^~~~~~~~~\n",
      "\u001b[0m\u001b[1minput_line_9:1:6: \u001b[0m\u001b[0;1;30mnote: \u001b[0mcandidate function not viable: expects an l-value for 1st argument\u001b[0m\n",
      "void duplicate (int& a, int& b, int& c)\n",
      "\u001b[0;1;32m     ^\n",
      "\u001b[0m"
     ]
    },
    {
     "ename": "Interpreter Error",
     "evalue": "",
     "output_type": "error",
     "traceback": [
      "Interpreter Error: "
     ]
    }
   ],
   "source": [
    "// Note that you don't need to input references to the function though. \n",
    "// You just need to input variables. \n",
    "duplicate(4,5,6)\n",
    "    \n",
    "// The above causes an error because duplicate actually needs a variable as an\n",
    "// input. Whereas addition(x,y) or addition(5,6) are both viable syntax because \n",
    "// either way it's just taking copies of the values of x,y which are ints."
   ]
  },
  {
   "cell_type": "markdown",
   "metadata": {},
   "source": [
    "Efficiency considerations and const references"
   ]
  },
  {
   "cell_type": "markdown",
   "metadata": {},
   "source": [
    "Consider the function: \n",
    "string concatenate (string a, string b)\n",
    "{\n",
    "  return a+b;\n",
    "}\n",
    "\n",
    "This function will make a copy of the input strings as the arguments are taken by value. If these strings are very long then this could be an issue (timely). "
   ]
  },
  {
   "cell_type": "code",
   "execution_count": 3,
   "metadata": {},
   "outputs": [],
   "source": [
    "string concatenate(const string& a, const string& b) {return a+b;} "
   ]
  },
  {
   "cell_type": "code",
   "execution_count": 4,
   "metadata": {},
   "outputs": [
    {
     "name": "stdout",
     "output_type": "stream",
     "text": [
      "blahsdsfasfhjsd"
     ]
    }
   ],
   "source": [
    "string mystr1 = \"blahsdsf\";\n",
    "string mystr2 = \"asfhjsd\";\n",
    "cout << concatenate(mystr1,mystr2);"
   ]
  },
  {
   "cell_type": "code",
   "execution_count": null,
   "metadata": {},
   "outputs": [],
   "source": []
  }
 ],
 "metadata": {
  "kernelspec": {
   "display_name": "C++11",
   "language": "C++11",
   "name": "xcpp11"
  },
  "language_info": {
   "codemirror_mode": "text/x-c++src",
   "file_extension": ".cpp",
   "mimetype": "text/x-c++src",
   "name": "c++",
   "version": "11"
  }
 },
 "nbformat": 4,
 "nbformat_minor": 4
}
