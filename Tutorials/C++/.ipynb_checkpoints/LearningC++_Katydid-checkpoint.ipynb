{
 "cells": [
  {
   "cell_type": "markdown",
   "metadata": {},
   "source": [
    "## C++ Learning ##\n",
    "\n",
    "In this document I will try to tackle C++11 concepts that are used commonly in tehe CRES analysis software Katydid. \n",
    "\n",
    "* It's important to note that the redefintion of identifiers (variables, classes,...) is finicky in C++ and so you need to restart the kernel frequently which is not ideal. Command for restarting the kernel: esc 00\n",
    "* I am going to try to go through this tutorial: https://www.geeksforgeeks.org/cpp-tutorial/?ref=lbp\n",
    "* I also want to cut down on the number of different documents I have floating around. I think generally using keep for notes on procedures and what I'm up to is good. And then using this notebook alone for learning. Take the time to write out words that describe the topic at hand. Try to do this for Python learning as well. But challange yourself. You aren't going to get anywhere batting around the basics forever. \n",
    "* Info on this C++ Kernel found at these https://root-forum.cern.ch/t/announcement-a-new-cling-kernel-for-project-jupyter/28782"
   ]
  },
  {
   "cell_type": "markdown",
   "metadata": {},
   "source": [
    "Run the below cell before every session: (unless outside the std namespace).\n",
    "It should also be noted that \"using namespace\" functionality is thought of as bad practice (not sure why).\n"
   ]
  },
  {
   "cell_type": "code",
   "execution_count": 1,
   "metadata": {},
   "outputs": [],
   "source": [
    "#include <iostream>\n",
    "using namespace std;"
   ]
  },
  {
   "cell_type": "markdown",
   "metadata": {},
   "source": [
    "## Simple Print function: "
   ]
  },
  {
   "cell_type": "code",
   "execution_count": 10,
   "metadata": {},
   "outputs": [
    {
     "name": "stdout",
     "output_type": "stream",
     "text": [
      "Hello World\n"
     ]
    }
   ],
   "source": [
    "cout << \"Hello World\" << endl;"
   ]
  },
  {
   "cell_type": "markdown",
   "metadata": {},
   "source": [
    "## Pointer vs. Reference\n",
    "\n",
    "https://www.geeksforgeeks.org/pointers-vs-references-cpp/\n",
    "\n",
    "Pointers: A pointer is a variable that holds the memory address of another variable. A pointer needs to be dereferenced with the * operator to access the memory location it points to.\n",
    "\n",
    "References : A reference variable is an alias, that is, another name for an already existing variable. A reference, like a pointer, is also implemented by storing the address of an object.\n",
    "A reference can be thought of as a constant pointer (not to be confused with a pointer to a constant value!) with automatic indirection, i.e the compiler will apply the * operator for you. \n",
    "\n",
    "Also note that you must initialize and declare references in one step whereas you can initailize and declare pointers in multiple steps. Pointers can be assigned to Null directly whereas pointers cannot be. No Null, no reassignment ensures a level of safety in using references. \n",
    "\n",
    "Question: Why is it advantageous to use a reference over the variable name itself?"
   ]
  },
  {
   "cell_type": "code",
   "execution_count": 2,
   "metadata": {},
   "outputs": [],
   "source": [
    "int i = 3; \n",
    " \n",
    "// A pointer to variable i (or stores address of i)\n",
    "int *ptr = &i; \n",
    "\n",
    "// \"reference\" is a reference (or alias) for i.\n",
    "int &reference = i; "
   ]
  },
  {
   "cell_type": "markdown",
   "metadata": {},
   "source": [
    "So: reference, *ptr, and i all return the value assigned to i."
   ]
  },
  {
   "cell_type": "code",
   "execution_count": 3,
   "metadata": {},
   "outputs": [
    {
     "name": "stdout",
     "output_type": "stream",
     "text": [
      "3\n",
      "3\n",
      "3\n"
     ]
    }
   ],
   "source": [
    "cout << reference << endl;\n",
    "cout << *ptr << endl;\n",
    "cout << i << endl;\n"
   ]
  },
  {
   "cell_type": "markdown",
   "metadata": {},
   "source": [
    "Whereas all of the below return the address of the variable i. "
   ]
  },
  {
   "cell_type": "code",
   "execution_count": 4,
   "metadata": {},
   "outputs": [
    {
     "name": "stdout",
     "output_type": "stream",
     "text": [
      "0x7f2fdf8a4028\n",
      "0x7f2fdf8a4028\n",
      "0x7f2fdf8a4028\n",
      "0x7f2fdf8a4028\n"
     ]
    }
   ],
   "source": [
    "cout << ptr << endl;\n",
    "cout << &i << endl;\n",
    "cout << &*ptr << endl;\n",
    "cout << &*&i << endl;"
   ]
  },
  {
   "cell_type": "markdown",
   "metadata": {},
   "source": [
    "And below we see that the memory location of &ptr is not the same as that of i.  In words, ptr = memory location of i, whereas, &ptr is the memory location of the memory location of i. And the memory location of reference is the same as that of i. This is why a reference can be thought of as an alias:"
   ]
  },
  {
   "cell_type": "code",
   "execution_count": 5,
   "metadata": {},
   "outputs": [
    {
     "name": "stdout",
     "output_type": "stream",
     "text": [
      "0x7f2fdf8a4030\n",
      "0x7f2fdf8a4028\n"
     ]
    }
   ],
   "source": [
    "cout << &ptr <<endl;\n",
    "cout << &reference <<endl;"
   ]
  },
  {
   "cell_type": "markdown",
   "metadata": {},
   "source": [
    "So in words:\n",
    "* The & symbol is used both to declare a reference (int &reference = i;) and to return the address of a variable (int *ptr = &i; ). Note that the ints in these two lines of code are indicating that the pointer or reference is to an int. Not that the pointer or reference is an int itself. Flag this understanding because it becomes confusing later on with the \"const\" designation. \n",
    "* The * symbol is used to both declare a pointer (int *ptr = &i; ) and to dereference a pointer.\n"
   ]
  },
  {
   "cell_type": "markdown",
   "metadata": {},
   "source": [
    "Now what happens if we start messing with i?\n",
    "Everything just follows the reassignment. They all change to 5 because they all point to the memory location of i which doesn't change. Just the value that is stored at memory location &i changes.  "
   ]
  },
  {
   "cell_type": "code",
   "execution_count": 6,
   "metadata": {},
   "outputs": [
    {
     "name": "stdout",
     "output_type": "stream",
     "text": [
      "5\n",
      "5\n",
      "5\n",
      "0x7f2fdf8a4028\n",
      "0x7f2fdf8a4028\n",
      "0x7f2fdf8a4028\n",
      "0x7f2fdf8a4028\n"
     ]
    }
   ],
   "source": [
    "i = 5;\n",
    "    \n",
    "cout << reference << endl;\n",
    "cout << *ptr << endl;\n",
    "cout << i << endl;\n",
    "\n",
    "cout << ptr << endl;\n",
    "cout << &i << endl;\n",
    "cout << &*ptr << endl;\n",
    "cout << &*&i << endl;"
   ]
  },
  {
   "cell_type": "markdown",
   "metadata": {},
   "source": [
    "Now what happens if we start messing with the pointer and reference?\n"
   ]
  },
  {
   "cell_type": "code",
   "execution_count": 7,
   "metadata": {},
   "outputs": [
    {
     "name": "stderr",
     "output_type": "stream",
     "text": [
      "\u001b[1minput_line_14:2:2: \u001b[0m\u001b[0;1;31merror: \u001b[0m\u001b[1muse of undeclared identifier 'j'\u001b[0m\n",
      " j = 4 ;\n",
      "\u001b[0;1;32m ^\n",
      "\u001b[0m\u001b[1minput_line_14:5:13: \u001b[0m\u001b[0;1;31merror: \u001b[0m\u001b[1muse of undeclared identifier 'j'\u001b[0m\n",
      "int *ptr = &j; \n",
      "\u001b[0;1;32m            ^\n",
      "\u001b[0m\u001b[1minput_line_14:7:18: \u001b[0m\u001b[0;1;31merror: \u001b[0m\u001b[1muse of undeclared identifier 'j'\u001b[0m\n",
      "int &reference = j; \n",
      "\u001b[0;1;32m                 ^\n",
      "\u001b[0m"
     ]
    },
    {
     "ename": "Interpreter Error",
     "evalue": "",
     "output_type": "error",
     "traceback": [
      "Interpreter Error: "
     ]
    }
   ],
   "source": [
    "j = 4 ;\n",
    "\n",
    "// A pointer to variable i (or stores\n",
    "// address of i)\n",
    "int *ptr = &j; \n",
    "\n",
    "// A reference (or alias) for i.\n",
    "int &reference = j; \n"
   ]
  },
  {
   "cell_type": "markdown",
   "metadata": {},
   "source": [
    "Note that this doubly causes an error: You have already initialized ptr, and reference. They can't be reinitialized. But you can reassign the pointer, though you can't reassign the reference. The reference must be assigned at initialization. "
   ]
  },
  {
   "cell_type": "code",
   "execution_count": 10,
   "metadata": {},
   "outputs": [
    {
     "name": "stdout",
     "output_type": "stream",
     "text": [
      "0x7f2fdf8a4040\n",
      "4\n"
     ]
    }
   ],
   "source": [
    "int j = 4;\n",
    "ptr = &j;\n",
    "cout << ptr << endl;\n",
    "cout << *ptr << endl; "
   ]
  },
  {
   "cell_type": "code",
   "execution_count": 11,
   "metadata": {},
   "outputs": [
    {
     "name": "stderr",
     "output_type": "stream",
     "text": [
      "\u001b[1minput_line_18:2:14: \u001b[0m\u001b[0;1;31merror: \u001b[0m\u001b[1massigning to 'int' from incompatible type 'int *'; remove &\u001b[0m\n",
      " reference = &j;\n",
      "\u001b[0;1;32m             ^~\n",
      "\u001b[0m"
     ]
    },
    {
     "ename": "Interpreter Error",
     "evalue": "",
     "output_type": "error",
     "traceback": [
      "Interpreter Error: "
     ]
    }
   ],
   "source": [
    "reference = &j;\n",
    "cout << reference << endl;"
   ]
  },
  {
   "cell_type": "markdown",
   "metadata": {},
   "source": [
    "Lastly, lets explore if we can use the pointer and reference to reassign the values of i,j. \n",
    "We can: "
   ]
  },
  {
   "cell_type": "code",
   "execution_count": 16,
   "metadata": {},
   "outputs": [
    {
     "name": "stdout",
     "output_type": "stream",
     "text": [
      "10\n",
      "11\n",
      "10\n",
      "11\n"
     ]
    }
   ],
   "source": [
    "*ptr = 10;\n",
    "reference = 11;\n",
    "cout << *ptr << endl;\n",
    "cout << reference << endl; \n",
    "cout << j << endl;\n",
    "cout << i << endl; "
   ]
  },
  {
   "cell_type": "markdown",
   "metadata": {},
   "source": [
    "# \"Const\" Designation  \n",
    "\n",
    "The const designation is something that is used frequently in katydid and in C++ code generally. \n",
    "https://www.geeksforgeeks.org/const-member-functions-c/\n",
    "\n",
    "Main Takeaways: \n",
    "\n",
    "1. When a variable is declared as const then it can't be changed. \n",
    "2. When a pointer is declared as const then this just means you can't use the pointer to change the variable it points to. You can still change the variable via other means, just not through the pointer desingnated as constant. \n",
    "3. When a function is declared as const, it can be called on by any type of object; const objects as well as non-const objects.\n",
    "4. Whenever an object is declared as const, it needs to be initialized at the time of declaration. However, the object initialization while declaring is possible only with the help of constructors.\n"
   ]
  },
  {
   "cell_type": "markdown",
   "metadata": {},
   "source": [
    "Item 1: When a variable is declared as const then it can't be changed. "
   ]
  },
  {
   "cell_type": "code",
   "execution_count": 18,
   "metadata": {},
   "outputs": [],
   "source": [
    "// Item 1\n",
    "const int g = 10; "
   ]
  },
  {
   "cell_type": "code",
   "execution_count": 19,
   "metadata": {},
   "outputs": [
    {
     "name": "stderr",
     "output_type": "stream",
     "text": [
      "\u001b[1minput_line_29:2:4: \u001b[0m\u001b[0;1;31merror: \u001b[0m\u001b[1mcannot assign to variable 'g' with const-qualified type 'const int'\u001b[0m\n",
      " g = 11\n",
      "\u001b[0;1;32m ~ ^\n",
      "\u001b[0m\u001b[1minput_line_28:3:11: \u001b[0m\u001b[0;1;30mnote: \u001b[0mvariable 'g' declared const here\u001b[0m\n",
      "const int g = 10; \n",
      "\u001b[0;1;32m~~~~~~~~~~^~~~~~\n",
      "\u001b[0m"
     ]
    },
    {
     "ename": "Interpreter Error",
     "evalue": "",
     "output_type": "error",
     "traceback": [
      "Interpreter Error: "
     ]
    }
   ],
   "source": [
    "g = 11"
   ]
  },
  {
   "cell_type": "markdown",
   "metadata": {},
   "source": [
    "Item 2: When a pointer is declared as const then this means you can't use the pointer to change the variable it points to. For understanding how the const designation applies to pointers lets look at the below example where we create two pointers for the same variable. "
   ]
  },
  {
   "cell_type": "code",
   "execution_count": 20,
   "metadata": {},
   "outputs": [],
   "source": [
    "int l = 3; \n",
    "\n",
    "int *ptr1 = &l; \n",
    "const int *ptr2 = &l;"
   ]
  },
  {
   "cell_type": "code",
   "execution_count": 21,
   "metadata": {},
   "outputs": [
    {
     "name": "stdout",
     "output_type": "stream",
     "text": [
      "5\n"
     ]
    }
   ],
   "source": [
    "*ptr1 = 5;\n",
    "cout << l << endl;\n"
   ]
  },
  {
   "cell_type": "code",
   "execution_count": 22,
   "metadata": {},
   "outputs": [
    {
     "name": "stderr",
     "output_type": "stream",
     "text": [
      "\u001b[1minput_line_32:2:8: \u001b[0m\u001b[0;1;31merror: \u001b[0m\u001b[1mread-only variable is not assignable\u001b[0m\n",
      " *ptr2 = 6;\n",
      "\u001b[0;1;32m ~~~~~ ^\n",
      "\u001b[0m"
     ]
    },
    {
     "ename": "Interpreter Error",
     "evalue": "",
     "output_type": "error",
     "traceback": [
      "Interpreter Error: "
     ]
    }
   ],
   "source": [
    "*ptr2 = 6;\n",
    "cout << l << endl;"
   ]
  },
  {
   "cell_type": "markdown",
   "metadata": {},
   "source": [
    "So unintuitively, we see that even though int in the initialization of ptr1 means that ptr1 will be a pointer to an int, const int doesn't mean that it will be a pointer to a const int. It means it will be a constant pointer to a (possibly non-constant) int. "
   ]
  },
  {
   "cell_type": "markdown",
   "metadata": {},
   "source": [
    "Item 3: \n",
    "When a function is declared as const, it can be called on by any type of object; const objects as well as non-const objects. "
   ]
  },
  {
   "cell_type": "code",
   "execution_count": 24,
   "metadata": {},
   "outputs": [],
   "source": [
    "#include<iostream> \n",
    "using namespace std; \n",
    "\n",
    "class Test1 { \n",
    "\tint value; \n",
    "public: \n",
    "\tTest1(int v = 0) {value = v;} // This sets a default for value as 0. \n",
    "\t\n",
    "\tint getValue() const {return value;} \n",
    "}; "
   ]
  },
  {
   "cell_type": "code",
   "execution_count": 26,
   "metadata": {},
   "outputs": [],
   "source": [
    "Test1 t(20);\n",
    "Test1 jj;"
   ]
  },
  {
   "cell_type": "code",
   "execution_count": 27,
   "metadata": {},
   "outputs": [
    {
     "name": "stdout",
     "output_type": "stream",
     "text": [
      "20\n",
      "0\n"
     ]
    }
   ],
   "source": [
    "cout<<t.getValue() << endl; \n",
    "cout <<jj.getValue()<< endl;"
   ]
  },
  {
   "cell_type": "code",
   "execution_count": 29,
   "metadata": {},
   "outputs": [
    {
     "name": "stdout",
     "output_type": "stream",
     "text": [
      "30\n"
     ]
    }
   ],
   "source": [
    "Test1 const ll(30);\n",
    "cout <<ll.getValue()<< endl;"
   ]
  },
  {
   "cell_type": "markdown",
   "metadata": {},
   "source": [
    "Item 4: \n",
    "Whenever an object is declared as const, it needs to be initialized at the time of declaration. However, the object initialization while declaring is possible only with the help of constructors.\n",
    "\n",
    "* As an aside (and I'll cover constructors and destructors in more detail) the constructor is the part of the class declaration that looks like: Test2(int v = 0) {value = v;} . A constructor is as member function with the same name as the class and returns nothing. Here you can set member data to some default value, or write code that you want to be executed whenever an object of your class is created. More here: https://www.programiz.com/cpp-programming/constructors "
   ]
  },
  {
   "cell_type": "code",
   "execution_count": 5,
   "metadata": {},
   "outputs": [],
   "source": [
    "#include<iostream> \n",
    "using namespace std; \n",
    "\n",
    "class Test2 { \n",
    "\tint value; \n",
    "public: \n",
    "\tTest2(int v = 0) {value = v;} \n",
    "\t\n",
    "\t// We get compiler error if we add a line like \"value = 100;\" \n",
    "\t// in this function. \n",
    "\tint getValue() {return value;} \n",
    "}; "
   ]
  },
  {
   "cell_type": "code",
   "execution_count": 6,
   "metadata": {},
   "outputs": [],
   "source": [
    "Test2 f(20);\n",
    "Test2 d;"
   ]
  },
  {
   "cell_type": "code",
   "execution_count": 7,
   "metadata": {},
   "outputs": [
    {
     "name": "stdout",
     "output_type": "stream",
     "text": [
      "20\n",
      "0\n"
     ]
    }
   ],
   "source": [
    "cout<<f.getValue() << endl; \n",
    "cout <<d.getValue()<< endl;"
   ]
  },
  {
   "cell_type": "code",
   "execution_count": 8,
   "metadata": {},
   "outputs": [
    {
     "name": "stderr",
     "output_type": "stream",
     "text": [
      "\u001b[1minput_line_16:3:8: \u001b[0m\u001b[0;1;31merror: \u001b[0m\u001b[1mmember function 'getValue' not viable: 'this' argument has type 'const Test2',\n",
      "      but function is not marked const\u001b[0m\n",
      "cout <<s.getValue()<< endl;\n",
      "\u001b[0;1;32m       ^\n",
      "\u001b[0m\u001b[1minput_line_13:10:6: \u001b[0m\u001b[0;1;30mnote: \u001b[0m'getValue' declared here\u001b[0m\n",
      "        int getValue() {return value;} \n",
      "\u001b[0;1;32m            ^\n",
      "\u001b[0m"
     ]
    },
    {
     "ename": "Interpreter Error",
     "evalue": "",
     "output_type": "error",
     "traceback": [
      "Interpreter Error: "
     ]
    }
   ],
   "source": [
    "Test2 const s(30);\n",
    "cout <<s.getValue()<< endl;"
   ]
  },
  {
   "cell_type": "markdown",
   "metadata": {},
   "source": [
    "## Classes and Objects in C++ ## \n",
    "\n",
    "(also Constructors/Destructors, (::),...)\n",
    "Resource: https://www.geeksforgeeks.org/c-classes-and-objects/?ref=lbp\n",
    "\n",
    "Big Takeaways: \n"
   ]
  },
  {
   "cell_type": "markdown",
   "metadata": {},
   "source": [
    "Actually just going to work on the main C++ tutorial until I finish that and then move on to things that didn't cover. But still going to keep the list of things that are katydid specific below: "
   ]
  },
  {
   "cell_type": "markdown",
   "metadata": {},
   "source": [
    "Ideas for Future Topics: \n",
    "Note that many of these will be covered in the general tutorial. \n",
    "\n",
    "* Classes, Constructors/Destructors, (::)\n",
    "* Scope: Private, public, protected variables (and functions?) within classes. \n",
    "* What does this notation mean?  Nymph::KTSlotDataOneType< KTFrequencySpectrumDataPolar > fFSPolarSlot;\n",
    "* scope resolution operator (::) resource: https://www.tutorialspoint.com/cplusplus/cpp_class_member_functions.htm -> Why is this so widely used in katydid? \n",
    "* Getter and setter functions. Look at LPF RC get and set for guidance\n",
    "* What does \"struct\" do? \n",
    "* What role does \"void\" play? \n",
    "* how does a template work: examples: Of() method in katydid. \n",
    "* Inheretance \n",
    "* "
   ]
  },
  {
   "cell_type": "markdown",
   "metadata": {},
   "source": [
    "For a discussion on definition vs. declaration vs. initialization: https://stackoverflow.com/questions/23345554/the-differences-between-initialize-define-declare-a-variable "
   ]
  }
 ],
 "metadata": {
  "kernelspec": {
   "display_name": "C++11",
   "language": "C++11",
   "name": "xcpp11"
  },
  "language_info": {
   "codemirror_mode": "text/x-c++src",
   "file_extension": ".cpp",
   "mimetype": "text/x-c++src",
   "name": "c++",
   "version": "11"
  }
 },
 "nbformat": 4,
 "nbformat_minor": 4
}
