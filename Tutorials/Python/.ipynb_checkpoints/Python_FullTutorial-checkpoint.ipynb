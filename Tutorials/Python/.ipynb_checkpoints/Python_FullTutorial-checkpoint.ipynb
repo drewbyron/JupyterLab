{
 "cells": [
  {
   "cell_type": "markdown",
   "metadata": {},
   "source": [
    "# Python Tutorial \n",
    "\n",
    "* Primary Resource: https://docs.python.org/3/tutorial/\n",
    "* Looking at documentation for python 3.8\n",
    "\n",
    "Completing this tutorial as part of my general exam preperation. "
   ]
  },
  {
   "cell_type": "markdown",
   "metadata": {},
   "source": [
    "# 1. Whetting Your Appetite\n",
    "\n",
    "* Discussing built in modules: Some of these modules provide things like file I/O, system calls, sockets, and even interfaces to graphical user interface toolkits like Tk.\n",
    "    * I should look into the GUI toolkit Tk. This would be a fun and very job worthy project. \n",
    "* Python enables programs to be written compactly and readably. Programs written in Python are typically much shorter than equivalent C, C++, or Java programs, for several reasons:\n",
    "    * the high-level data types allow you to express complex operations in a single statement;\n",
    "    * statement grouping is done by indentation instead of beginning and ending brackets;\n",
    "    * no variable or argument declarations are necessary."
   ]
  },
  {
   "cell_type": "markdown",
   "metadata": {},
   "source": [
    "# 2. Using the Python Interpreter\n",
    "\n",
    "* Info here on using the python interpreter. Note that the interpreter (python3 in Command Line (CL)) is different to ipython (ipython in CL)\n",
    "\n",
    "# 3. An Informal Introduction to Python\n",
    "\n",
    "* In the interpreter (I'm using jupyter notebook which has the ipython interpreter as the kernel) \"_\" is the last output. Test below. Not crazy useful but nice for using the interpreter as a calculator. \n",
    "* If you want ' or \" within a string use: \"aren\\'t\"\n",
    "* If you want a path printed or something then just use the r before the string to indicate a raw string: \n",
    "* The triple quote is a way to have a multiline string. This is jumping ahead but when you have a triple quote associated with \n",
    "* You can multiply a string and it will print a repeat (3* 'hi' = 'hihihi')\n",
    "* word[-1] = last character of string (or array)\n",
    "* word[0:2]  # characters from position 0 (included) to 2 (excluded)\n",
    "* Python strings are immutable. They cannot be changed. "
   ]
  },
  {
   "cell_type": "code",
   "execution_count": 3,
   "metadata": {},
   "outputs": [
    {
     "data": {
      "text/plain": [
       "\"aren't\""
      ]
     },
     "execution_count": 3,
     "metadata": {},
     "output_type": "execute_result"
    }
   ],
   "source": [
    "\"aren\\'t\""
   ]
  },
  {
   "cell_type": "code",
   "execution_count": 9,
   "metadata": {},
   "outputs": [
    {
     "name": "stdout",
     "output_type": "stream",
     "text": [
      "C:\\some\n",
      "ame\n",
      "C:\\some\\name\n",
      "Py\n",
      "thon\n"
     ]
    },
    {
     "data": {
      "text/plain": [
       "'Python'"
      ]
     },
     "execution_count": 9,
     "metadata": {},
     "output_type": "execute_result"
    }
   ],
   "source": [
    "print('C:\\some\\name') # We see that the \\n is a new line.\n",
    "print(r'C:\\some\\name') \n",
    "\n",
    "# String indexing (but applies to arrays)\n",
    "\n",
    "word = \"Python\"\n",
    "print(word[:2]) # begining to index 2 (excluded)\n",
    "print(word[2:]) # index 2 (included) to end\n",
    "word[:2]+ word[2:] # So the start is always included and the end is never \n",
    "# included so that the above doesn't repeat"
   ]
  },
  {
   "cell_type": "code",
   "execution_count": 11,
   "metadata": {},
   "outputs": [
    {
     "name": "stdout",
     "output_type": "stream",
     "text": [
      "Help on function PrintThis in module __main__:\n",
      "\n",
      "PrintThis(argument)\n",
      "    This function does this and takes these \n",
      "    arguments and I can have multiple lines here\n",
      "    in my function description. Create a go to convention \n",
      "    and just stick with it.\n",
      "\n",
      "HIIIIIIIIII\n"
     ]
    },
    {
     "data": {
      "text/plain": [
       "11"
      ]
     },
     "execution_count": 11,
     "metadata": {},
     "output_type": "execute_result"
    }
   ],
   "source": [
    "# Triple Quote in object example\n",
    "\n",
    "def PrintThis(argument):\n",
    "    \"\"\"This function does this and takes these \n",
    "    arguments and I can have multiple lines here\n",
    "    in my function description. Create a go to convention \n",
    "    and just stick with it. \"\"\"\n",
    "    print(argument)\n",
    "# So what does myfunction do?\n",
    "help(PrintThis)\n",
    "\n",
    "# Ohhh that's what it does.    \n",
    "a = \"HIIIIIIIIII\"\n",
    "PrintThis(a)\n",
    "\n",
    "# The len function is built in for strings\n",
    "len(a)"
   ]
  },
  {
   "cell_type": "code",
   "execution_count": null,
   "metadata": {},
   "outputs": [],
   "source": [
    "# START ON 3.1.3 : Lists"
   ]
  }
 ],
 "metadata": {
  "kernelspec": {
   "display_name": "Python 3",
   "language": "python",
   "name": "python3"
  },
  "language_info": {
   "codemirror_mode": {
    "name": "ipython",
    "version": 3
   },
   "file_extension": ".py",
   "mimetype": "text/x-python",
   "name": "python",
   "nbconvert_exporter": "python",
   "pygments_lexer": "ipython3",
   "version": "3.7.6"
  }
 },
 "nbformat": 4,
 "nbformat_minor": 4
}
