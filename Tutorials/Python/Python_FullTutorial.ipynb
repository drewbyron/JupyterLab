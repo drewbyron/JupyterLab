{
 "cells": [
  {
   "cell_type": "markdown",
   "metadata": {},
   "source": [
    "# Python Tutorial \n",
    "\n",
    "* Primary Resource: https://docs.python.org/3/tutorial/\n",
    "* Looking at documentation for python 3.8\n",
    "\n",
    "Completing this tutorial as part of my general exam preperation. "
   ]
  },
  {
   "cell_type": "markdown",
   "metadata": {},
   "source": [
    "# 1. Whetting Your Appetite\n",
    "\n",
    "* Discussing built in modules: Some of these modules provide things like file I/O, system calls, sockets, and even interfaces to graphical user interface toolkits like Tk.\n",
    "    * I should look into the GUI toolkit Tk. This would be a fun and very job worthy project. \n",
    "* Python enables programs to be written compactly and readably. Programs written in Python are typically much shorter than equivalent C, C++, or Java programs, for several reasons:\n",
    "    * the high-level data types allow you to express complex operations in a single statement;\n",
    "    * statement grouping is done by indentation instead of beginning and ending brackets;\n",
    "    * no variable or argument declarations are necessary."
   ]
  },
  {
   "cell_type": "markdown",
   "metadata": {},
   "source": [
    "# 2. Using the Python Interpreter\n",
    "\n",
    "* Info here on using the python interpreter. Note that the interpreter (python3 in Command Line (CL)) is different to ipython (ipython in CL)\n",
    "\n",
    "# 3. An Informal Introduction to Python\n",
    "\n",
    "* In the interpreter (I'm using jupyter notebook which has the ipython interpreter as the kernel) \"_\" is the last output. Test below. Not crazy useful but nice for using the interpreter as a calculator. \n",
    "* If you want ' or \" within a string use: \"aren\\'t\"\n",
    "* If you want a path printed or something then just use the r before the string to indicate a raw string: \n",
    "* The triple quote is a way to have a multiline string. This is jumping ahead but when you have a triple quote associated with \n",
    "* You can multiply a string and it will print a repeat (3* 'hi' = 'hihihi')\n",
    "* word[-1] = last character of string (or array)\n",
    "* word[0:2]  # characters from position 0 (included) to 2 (excluded)\n",
    "* Python strings are immutable. They cannot be changed. "
   ]
  },
  {
   "cell_type": "code",
   "execution_count": 3,
   "metadata": {},
   "outputs": [
    {
     "data": {
      "text/plain": [
       "\"aren't\""
      ]
     },
     "execution_count": 3,
     "metadata": {},
     "output_type": "execute_result"
    }
   ],
   "source": [
    "\"aren\\'t\""
   ]
  },
  {
   "cell_type": "code",
   "execution_count": 9,
   "metadata": {},
   "outputs": [
    {
     "name": "stdout",
     "output_type": "stream",
     "text": [
      "C:\\some\n",
      "ame\n",
      "C:\\some\\name\n",
      "Py\n",
      "thon\n"
     ]
    },
    {
     "data": {
      "text/plain": [
       "'Python'"
      ]
     },
     "execution_count": 9,
     "metadata": {},
     "output_type": "execute_result"
    }
   ],
   "source": [
    "print('C:\\some\\name') # We see that the \\n is a new line.\n",
    "print(r'C:\\some\\name') \n",
    "\n",
    "# String indexing (but applies to arrays)\n",
    "\n",
    "word = \"Python\"\n",
    "print(word[:2]) # begining to index 2 (excluded)\n",
    "print(word[2:]) # index 2 (included) to end\n",
    "word[:2]+ word[2:] # So the start is always included and the end is never \n",
    "# included so that the above doesn't repeat"
   ]
  },
  {
   "cell_type": "code",
   "execution_count": 11,
   "metadata": {},
   "outputs": [
    {
     "name": "stdout",
     "output_type": "stream",
     "text": [
      "Help on function PrintThis in module __main__:\n",
      "\n",
      "PrintThis(argument)\n",
      "    This function does this and takes these \n",
      "    arguments and I can have multiple lines here\n",
      "    in my function description. Create a go to convention \n",
      "    and just stick with it.\n",
      "\n",
      "HIIIIIIIIII\n"
     ]
    },
    {
     "data": {
      "text/plain": [
       "11"
      ]
     },
     "execution_count": 11,
     "metadata": {},
     "output_type": "execute_result"
    }
   ],
   "source": [
    "# Triple Quote in object example\n",
    "\n",
    "def PrintThis(argument):\n",
    "    \"\"\"This function does this and takes these \n",
    "    arguments and I can have multiple lines here\n",
    "    in my function description. Create a go to convention \n",
    "    and just stick with it. \"\"\"\n",
    "    print(argument)\n",
    "# So what does myfunction do?\n",
    "help(PrintThis)\n",
    "\n",
    "# Ohhh that's what it does.    \n",
    "a = \"HIIIIIIIIII\"\n",
    "PrintThis(a)\n",
    "\n",
    "# The len function is built in for strings\n",
    "len(a)"
   ]
  },
  {
   "cell_type": "code",
   "execution_count": 11,
   "metadata": {},
   "outputs": [
    {
     "data": {
      "text/plain": [
       "True"
      ]
     },
     "execution_count": 11,
     "metadata": {},
     "output_type": "execute_result"
    }
   ],
   "source": [
    "# 3.1.3 : Lists\n",
    "\n",
    "# lists are like strings in that they are a \"sequence\" type\n",
    "# meaning a type built of other types. \n",
    "squares = [1,4,10,16,25]\n",
    "squares[-1] + squares[3] == 41"
   ]
  },
  {
   "cell_type": "code",
   "execution_count": 12,
   "metadata": {},
   "outputs": [
    {
     "data": {
      "text/plain": [
       "[1, 4, 9, 16, 25]"
      ]
     },
     "execution_count": 12,
     "metadata": {},
     "output_type": "execute_result"
    }
   ],
   "source": [
    "# Note that unlike strings which are immutable,\n",
    "# lists are a mutable type, they can be altered.\n",
    "\n",
    "# Fixing my squares list:\n",
    "squares[2] = 9\n",
    "squares"
   ]
  },
  {
   "cell_type": "code",
   "execution_count": 13,
   "metadata": {},
   "outputs": [
    {
     "data": {
      "text/plain": [
       "[1, 4, 9, 16, 25, 49, 64]"
      ]
     },
     "execution_count": 13,
     "metadata": {},
     "output_type": "execute_result"
    }
   ],
   "source": [
    "# You can also use the append method:\n",
    "squares.append(49)\n",
    "squares.append(8**2)\n",
    "squares"
   ]
  },
  {
   "cell_type": "code",
   "execution_count": 18,
   "metadata": {},
   "outputs": [
    {
     "name": "stdout",
     "output_type": "stream",
     "text": [
      "['a', 'b', 'C', 'D', 'E', 'f', 'g']\n"
     ]
    },
    {
     "data": {
      "text/plain": [
       "7"
      ]
     },
     "execution_count": 18,
     "metadata": {},
     "output_type": "execute_result"
    }
   ],
   "source": [
    "# Use of assignment to slices to change the list:\n",
    "\n",
    "letters = ['a', 'b', 'c', 'd', 'e', 'f', 'g']\n",
    "letters[2:5] = ['C', 'D', 'E'] # Note slices include first bound, exclude second bound. \n",
    "print(letters)\n",
    "# len also applies to lists: \n",
    "len(letters)"
   ]
  },
  {
   "cell_type": "code",
   "execution_count": 21,
   "metadata": {},
   "outputs": [
    {
     "name": "stdout",
     "output_type": "stream",
     "text": [
      "[['a', 'b', 'C', 'D', 'E', 'f', 'g'], [1, 4, 9, 16, 25, 49, 64]]\n"
     ]
    },
    {
     "data": {
      "text/plain": [
       "True"
      ]
     },
     "execution_count": 21,
     "metadata": {},
     "output_type": "execute_result"
    }
   ],
   "source": [
    "# You can Nest lists: \n",
    "newlist = [letters,squares]\n",
    "print(newlist)\n",
    "# so now you can access elements with two different indicies:\n",
    "newlist[0][3] == 'D'"
   ]
  },
  {
   "cell_type": "code",
   "execution_count": 28,
   "metadata": {},
   "outputs": [
    {
     "name": "stdout",
     "output_type": "stream",
     "text": [
      "0,1,1,2,3,5,8,13,21,34,55,89,144,233,377,610,987,"
     ]
    }
   ],
   "source": [
    "# First Steps Towards Programming:\n",
    "\n",
    "#Fibonacci series:\n",
    "# the sum of two elements defines the next: \n",
    "a,b = 0,1\n",
    "while a<1000:\n",
    "    print(a, end = ',')\n",
    "    a,b = b, a+b\n"
   ]
  },
  {
   "cell_type": "markdown",
   "metadata": {},
   "source": [
    "    \n",
    "Features to note: \n",
    "\n",
    "**Multiple Assignment**: The expressions on the right hand side are evaluated before the assignment, otherwise this would get confusing. \n",
    "\n",
    "**While**: This will execute as long as the expression is true. Any nonzero number is taken as true. 0 = false. a<50 evaluates to \"true\" (so long as it is true). The standard comparison operators are the same as in C. \n",
    "\n",
    "\n"
   ]
  },
  {
   "cell_type": "markdown",
   "metadata": {},
   "source": [
    "# 4. More Control Flow Tools"
   ]
  },
  {
   "cell_type": "code",
   "execution_count": 35,
   "metadata": {},
   "outputs": [
    {
     "name": "stdin",
     "output_type": "stream",
     "text": [
      "Please enter an integer:  -5\n"
     ]
    }
   ],
   "source": [
    "# 4.1: IF statements\n",
    "x = int(input(\"Please enter an integer: \"))"
   ]
  },
  {
   "cell_type": "code",
   "execution_count": 36,
   "metadata": {},
   "outputs": [
    {
     "name": "stdout",
     "output_type": "stream",
     "text": [
      "Negative changed to zero\n"
     ]
    }
   ],
   "source": [
    "if x < 0:\n",
    "    x = 0\n",
    "    print('Negative changed to zero')\n",
    "elif x == 0:\n",
    "    print('Zero')\n",
    "elif x == 1:\n",
    "    print('Single')\n",
    "else:\n",
    "    print('More')\n",
    "    \n",
    "# Note that for a give if loop zero or many elif's \n",
    "# are allowed and the else is optional. "
   ]
  },
  {
   "cell_type": "code",
   "execution_count": 38,
   "metadata": {},
   "outputs": [
    {
     "name": "stdout",
     "output_type": "stream",
     "text": [
      "cat 3\n",
      "window 6\n",
      "defenestrate 12\n"
     ]
    }
   ],
   "source": [
    "# 4.2: FOR statements\n",
    "\n",
    "# In python (different from many languages) the for statement\n",
    "# iterates over the items in any sequence\n",
    "\n",
    "words = ['cat', 'window', 'defenestrate']\n",
    "for w in words:\n",
    "    print(w,len(w))"
   ]
  },
  {
   "cell_type": "code",
   "execution_count": 39,
   "metadata": {},
   "outputs": [
    {
     "ename": "NameError",
     "evalue": "name 'users' is not defined",
     "output_type": "error",
     "traceback": [
      "\u001b[0;31m---------------------------------------------------------------------------\u001b[0m",
      "\u001b[0;31mNameError\u001b[0m                                 Traceback (most recent call last)",
      "\u001b[0;32m<ipython-input-39-81873c13cfe8>\u001b[0m in \u001b[0;36m<module>\u001b[0;34m\u001b[0m\n\u001b[1;32m      3\u001b[0m \u001b[0;34m\u001b[0m\u001b[0m\n\u001b[1;32m      4\u001b[0m \u001b[0;31m# Strategy:  Iterate over a copy\u001b[0m\u001b[0;34m\u001b[0m\u001b[0;34m\u001b[0m\u001b[0;34m\u001b[0m\u001b[0m\n\u001b[0;32m----> 5\u001b[0;31m \u001b[0;32mfor\u001b[0m \u001b[0muser\u001b[0m\u001b[0;34m,\u001b[0m \u001b[0mstatus\u001b[0m \u001b[0;32min\u001b[0m \u001b[0musers\u001b[0m\u001b[0;34m.\u001b[0m\u001b[0mcopy\u001b[0m\u001b[0;34m(\u001b[0m\u001b[0;34m)\u001b[0m\u001b[0;34m.\u001b[0m\u001b[0mitems\u001b[0m\u001b[0;34m(\u001b[0m\u001b[0;34m)\u001b[0m\u001b[0;34m:\u001b[0m\u001b[0;34m\u001b[0m\u001b[0;34m\u001b[0m\u001b[0m\n\u001b[0m\u001b[1;32m      6\u001b[0m     \u001b[0;32mif\u001b[0m \u001b[0mstatus\u001b[0m \u001b[0;34m==\u001b[0m \u001b[0;34m'inactive'\u001b[0m\u001b[0;34m:\u001b[0m\u001b[0;34m\u001b[0m\u001b[0;34m\u001b[0m\u001b[0m\n\u001b[1;32m      7\u001b[0m         \u001b[0;32mdel\u001b[0m \u001b[0musers\u001b[0m\u001b[0;34m[\u001b[0m\u001b[0muser\u001b[0m\u001b[0;34m]\u001b[0m\u001b[0;34m\u001b[0m\u001b[0;34m\u001b[0m\u001b[0m\n",
      "\u001b[0;31mNameError\u001b[0m: name 'users' is not defined"
     ]
    }
   ],
   "source": [
    "# Code that modifies a collection while iterating over that same collection can be tricky to get right. Instead, it is usually \n",
    "# more straight-forward to loop over a copy of the collection or to create a new collection:\n",
    "\n",
    "# (This is fake code, won't run)\n",
    "\n",
    "# Strategy:  Iterate over a copy\n",
    "for user, status in users.copy().items():\n",
    "    if status == 'inactive':\n",
    "        del users[user]\n",
    "\n",
    "# Strategy:  Create a new collection\n",
    "active_users = {}\n",
    "for user, status in users.items():\n",
    "    if status == 'active':\n",
    "        active_users[user] = status"
   ]
  },
  {
   "cell_type": "code",
   "execution_count": null,
   "metadata": {},
   "outputs": [],
   "source": [
    "# Start on 4.3"
   ]
  }
 ],
 "metadata": {
  "kernelspec": {
   "display_name": "Python 3",
   "language": "python",
   "name": "python3"
  },
  "language_info": {
   "codemirror_mode": {
    "name": "ipython",
    "version": 3
   },
   "file_extension": ".py",
   "mimetype": "text/x-python",
   "name": "python",
   "nbconvert_exporter": "python",
   "pygments_lexer": "ipython3",
   "version": "3.7.6"
  }
 },
 "nbformat": 4,
 "nbformat_minor": 4
}
