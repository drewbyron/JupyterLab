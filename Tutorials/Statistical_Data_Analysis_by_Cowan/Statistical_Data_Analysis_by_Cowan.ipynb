{
 "cells": [
  {
   "cell_type": "markdown",
   "metadata": {},
   "source": [
    "# Statistical Data Analysis by Cowan\n",
    "\n",
    "Link: http://www.sherrytowers.com/cowan_statistical_data_analysis.pdf\n",
    "\n",
    "Purpose of this Document: \n",
    "* Present biggest concepts from each chapter with examples. \n",
    "* Only focus on the largest take-aways. \n",
    "* To serve as a personal reference."
   ]
  },
  {
   "cell_type": "markdown",
   "metadata": {},
   "source": [
    "### Imports: "
   ]
  },
  {
   "cell_type": "code",
   "execution_count": 1,
   "metadata": {},
   "outputs": [],
   "source": [
    "import numpy as np\n",
    "import matplotlib.pyplot as plt"
   ]
  },
  {
   "cell_type": "markdown",
   "metadata": {},
   "source": [
    "TODO: \n",
    "* Make a clickable table of contents in markdown. "
   ]
  },
  {
   "cell_type": "markdown",
   "metadata": {},
   "source": [
    "## Notation: \n",
    "\n",
    "See page xiii."
   ]
  },
  {
   "cell_type": "markdown",
   "metadata": {},
   "source": [
    "# Chapter 1: Fundamental Concepts"
   ]
  },
  {
   "cell_type": "markdown",
   "metadata": {},
   "source": [
    "### 1.1: Probability and random variables\n",
    "\n",
    "* A characteristic of a system is said to be **random** when it is not known or cannot be predicted with abosolute certainty. \n",
    "* The degree of randomness can be quantified with the concept of **probability**. \n",
    "* You can define probability with three axioms using set theory. (Not listed here.)\n",
    "* Conditional probability (said: prob of A given B):\n",
    "    * $ P(A|B) = \\frac{P(A\\cap B)}{P(B)} $\n",
    "    * Intuitively think: The prob of A given B times the prob of B is the same as the prob of A and B. \n",
    "* Law of Total Probability: \n",
    "    * $ P(B) = \\sum_{i}P(B|A_i)P(A_i) $ where $A_i$ are disjoint subsets of the total sample space S. \n",
    "* Bayes' Theorem: \n",
    "    * $ P(A|B) = \\frac{P(B|A)P(A)}{P(B)} $\n",
    "    * Alternate form:  $ P(A|B) = \\frac{P(B|A)P(A)}{\\sum_{i}P(B|A_i)P(A_i)} $"
   ]
  },
  {
   "cell_type": "markdown",
   "metadata": {},
   "source": [
    "### 1.2: Interpretation of probability\n",
    "\n",
    "* Probability as a relative frequency: (Classical Statistics)\n",
    "    * One interpretation (used among other things to assign statistical errors to measurements) is that the elements of the sample space S correspond to the possible outcomes of a (hypothetically) repeatable experiment. So A would be a certain outcome of an experiment.\n",
    "    * $P(A) = lim_{n \\rightarrow \\infty} \\frac{Number\\, of \\,times \\,\"A\" \\,occurs \\,out \\,of \\,n \\,experiments}{n}$\n",
    "    \n",
    "* Subjective probability: (Bayesian Statistics)\n",
    "    * P(A) = degree of belief that hypothesis A is true. \n",
    "    * Better suited for describing the value of an unknown but fixed constant like the mass of the electron. The relative frequency interpretation doesn't make sense here because the value is either always or never in a fixed interval given many experiments. This is where subjective probability is useful, you associate a degree of certainty to your knowledge of the electron mass to P(A). \n",
    "    *$ P(theory|data) \\propto P(data|theory) \\, P(theory) $"
   ]
  },
  {
   "cell_type": "markdown",
   "metadata": {},
   "source": [
    "### 1.3: Probability density functions\n",
    "\n",
    "* Probability density function (pdf): $f(x)$\n",
    "    * Prob of observing x in interval $[x, x+dx]$ = $f(x)dx$\n",
    "    * Here the sample set $S$ corresponds to all the different values $x$ can take. \n",
    "    * $f(x)$ is normalized: $\\int_{S} f(x) dx = 1$\n",
    "    * In the relative frequency interpretation $f(x)dx$ corresponds to the fraction of times $x$ lands in the interval $[x, x+dx]$ given infinite observations. Along those lines one simple way to think of the pdf ($f(x)$) is as a normalized histogram of infinite observations with infintesimal bin widths. \n",
    "* Cumulative distribution: $F(x)$\n",
    "    * Prob of random variable taking a value less than or equal to x.\n",
    "    * $F(x) = \\int_{-\\infty}^{x'} f(x') dx' $\n",
    "    * Median: $x_{1/2}$ s.t. $F(x_{1/2}) = 1/2$.\n",
    "    * Mode: Value of $x$ for which the pdf is a maximum. \n",
    "    * Note that neither of these are the expectation value of the pdf. \n",
    "* Joint pdf: $f(x,y)$\n",
    "    * $P(A \\cap B)$ = prob of x in $[x,x+dx]$ and y in $[y,y+dy]$ = $f(x,y) dx dy$.\n",
    "    * Note that here event A corresponds to x in $[x,x+dx]$ and y anywhere. \n",
    "    * The joint pdf can be thought of as the density of points in a scatter plot at (x,y), given infinite observations.\n",
    "    * Marginal pdf: \n",
    "        * $f_x(x) = \\int_{-\\infty}^{\\infty} f(x,y) dy$ (think $P(A)$)\n",
    "        * $f_y(y) = \\int_{-\\infty}^{\\infty} f(x,y) dx$ (think $P(B)$)\n",
    "        * Basically the marginal pdf is a projection down onto one of the axes. Think: from scatter plot to histogram. \n",
    "* Conditional pdf:  $h(y|x)$\n",
    "    * $P(B|A) = \\frac{P(B\\cap A)}{P(A)}$ = prob of y in $[y,y+dy]$ given x in $[x,x+dx]$ = $h(y|x) dy$\n",
    "    * $h(y|x) = \\frac{f(x,y)}{f_x(x)}$\n",
    "    * Note that x is a constant parameter here, no longer a random variable. You are simply renormalizing $f(x,y)$ so that when you integrate over $h(y|x)$ with respect to y only (for a fixed x) you still have a normalized pdf. \n",
    "    * Concretely, the conditional pdf $h(y|x_1)$ is obtained from the normalized histogram of y obtained from the projection onto the y axis of a band (of width dx) around x_1 from an (x,y) scatter plot. \n",
    "* Bayes' Theorem for continuos variables: \n",
    "    * $g(x|y) = \\frac{h(y|x)f_x(x)}{f_y(y)}$\n",
    "* Law of Total Probability for continuos variables: \n",
    "    * $f_x(x) = \\int_{-\\infty}^{\\infty} g(x|y) f_y(y) dy$ \n",
    "    * $f_y(y) = \\int_{-\\infty}^{\\infty} h(y|x) f_x(x) dx$\n",
    "* If event A and event B are independent ($P(A|B) = P(A)$ and $P(B|A) = P(B)$), then the joint pdf factorizes and $P(A \\cap B) = P(A) P(B)$ : \n",
    "    * For A and B independent: $f(x,y) = f_x(x)f_y(y)$\n",
    "    * So then from the Law of Total Probability: \n",
    "        * $g(x|y) = f_x(x)$ and $h(y|x) = f_y(y)$\n",
    "    * Intuitively I think this corresponds to a scatter plot with symmetry in both x and y."
   ]
  },
  {
   "cell_type": "markdown",
   "metadata": {},
   "source": [
    "### 1.4: Functions of random variables \n",
    "\n",
    "* Functions of random variables are themselves random variables. \n",
    "* Suppose you have a function of a random number x: a(x).\n",
    "    * You want the pdf of a: g(a).\n",
    "    * If the function can be inverted to obtain x(a) then you get: \n",
    "        * $ g(a) = f(x(a)) |\\frac{dx}{da}|$ (Eq. 1.32)\n",
    "        * Intuitively this is like a change of variables in an integration. \n",
    "* Mellin Convolution: \n",
    "    * You want the pdf of z = xy. \n",
    "        * $f(z) = \\int_{-\\infty}^{\\infty} g( z/y) h(y) \\frac{dy}{|y|} $\n",
    "* Fourier Convolution: \n",
    "    * You want the pdf of z = x + y. \n",
    "        * $f(z) = \\int_{-\\infty}^{\\infty} g( z-y) h(y) dy $\n",
    "* In practice these methods are often too difficult to do analytically. \n",
    "* It's neat that Fourier transforms fit into this picture somehow. Would be cool to understand better. "
   ]
  },
  {
   "cell_type": "markdown",
   "metadata": {},
   "source": [
    "### 1.5: Expectation values\n",
    "\n",
    "* The **expectation value** (or **mean**) of a random variable x distributed according to pdf f(x) is given by: \n",
    "    * $E[x] = \\mu = \\int_{-\\infty}^{\\infty} x f(x) dx$ \n",
    "    * Note that $E[x]$ is not a function of x but rather depends on the form of the pdf. \n",
    "* For a function a(x) the expectation value is given by: \n",
    "    * $E[a] = \\int_{-\\infty}^{\\infty} a g(a) da = \\int_{-\\infty}^{\\infty} a(x) g(x) dx $\n",
    "    * Note that the change of variables cancels with Eq 1.32\n",
    "* The **variance** (also called the \"second central moment\") is a measure of how widely x is spread around its mean and is given by: \n",
    "    * $V[x] = \\sigma^2 = E[(x - E[x])^2] = \\int_{-\\infty}^{\\infty} (x - \\mu)^2 f(x) dx = \\int_{-\\infty}^{\\infty} x^2 f(x) dx - \\mu^2 $ \n",
    "    * Note that $E[(x - E[x])^2] = E[x^2] - \\mu^2 $ \n",
    "    * The square root of the variance is called the **standard deviation** ($\\sigma$) which is often useful because it has the same units as $\\mu$. \n",
    "* The **covariance** ($V_{xy}$ or $cov[a,b]$) of two random variables x and y is given by: \n",
    "    * $V_{xy} = E[(x- \\mu_x)(y- \\mu_y)] = E[xy] - \\mu_x \\mu_y = \\int_{-\\infty}^{\\infty}\\int_{-\\infty}^{\\infty} xy f(x,y)  dx dy - \\mu_x \\mu_y $\n",
    "    * An intuitive way to understand the covariance $V_{xy} = E[(x- \\mu_x)(y- \\mu_y)]$ : If $x > \\mu_x$ correlates to $y > \\mu_y$ then the integral will be positive on the whole and you have positive correlation between x and y. Similarly for negative correlation.  \n",
    "* The **correlation coefficient** ($\\rho_{xy}$) is a useful dimentionless representation of the correlation between two variables: \n",
    "    * $\\rho_{xy} = \\frac{V_{xy}}{\\mu_x \\mu_y } $\n",
    "    * $\\rho_{xy}$ is always in the interval $[-1,1]$. \n",
    "* For two independent random variables x,y: $E[xy] = E[x]E[y] = \\mu_x \\mu_y $. This implies that $V_{xy} = 0$. Though note that $V_{xy} = 0$ does not necessarily imply that the two variables are independent (think about a U shaped distribution that is symmetric about $\\mu_x$). "
   ]
  },
  {
   "cell_type": "markdown",
   "metadata": {},
   "source": [
    "### 1.6: Error propigation\n",
    "\n",
    "* Suppose you have a set of n random variables $\\vec{x} = (x_1,x_2,...,x_n)$ distributed according to a joint pdf $f(\\vec{x})$. Suppose the pdf is not completely known but the expectation value $\\mu$ and the covariance matrix $V_{ij}$ is known. \n",
    "* The error (standard deviation) of a function of $\\vec{x}$, $y(\\vec{x})$ is given by: \n",
    "    * $\\sigma_y^2 \\approx \\sum_{i,j = 1}^n \\left[\\frac{\\partial y}{\\partial x_i}\\frac{\\partial y}{\\partial x_j}\\right]_{\\vec{x} = \\mu} V_{ij}$\n",
    "* The special case of uncorrelated random variables ($V_{ij}$ diagonal): \n",
    "    *  $\\sigma_y^2 \\approx \\sum_{i =1}^n \\left[\\frac{\\partial y}{\\partial x_i}\\right]^2_{\\vec{x} = \\mu} \\sigma_{x_i}^2$\n",
    "* Good to remember: \n",
    "    * For x_1, x_2 uncorrelated ($V_{ij}$ diagonal):\n",
    "        * If $y = x_1 + x_2 $ : \n",
    "            * $ \\sigma_y^2 = \\sigma^2_{x_1} + \\sigma^2_{x_2} $\n",
    "            * For sums the errors add in quadrature.\n",
    "        * If $y = x_1 x_2 $ : \n",
    "            * $ \\frac{\\sigma_y^2}{y} = \\frac{\\sigma^2_{x_1}}{x_1} + \\frac{\\sigma^2_{x_2}}{x_2} $\n",
    "            * For products the *relative* errors add in quadrature.\n",
    "* Note that since all of this was done with a first order taylor expansion you need to be careful about using these techniques for poorly behaved functions (like $y = 1/x$ for small expectation values and large errors)."
   ]
  },
  {
   "cell_type": "markdown",
   "metadata": {},
   "source": [
    "### 1.7: Orthogonal transformation of random variables\n",
    "\n",
    "* Suppose you have a set of n random variables $x_1,x_2,...,x_n$ whose covariance matrix $V_{ij}$ is not diagonal. It is always possible to find a basis in which the newly defined variables are not correlated ($U_{ij}$ diagonal). \n",
    "    * This is because it is always possible to diagnalize a real symmetric matrix. \n",
    "* The eigenvalues of the original covariance matrix $V_{ij}$ correspond to the variances of the new (rotated coordinates), and the eigenvectors provide the transformation between coordinates. This is best thought of as a rotation (note that orthogonal just means length/norm conserving).\n",
    "* Note that the rotated variables may no longer correspond to intuitive physical observables, so this method is not always as useful as it may seem. \n",
    "* The 2D case is instructive. Look in the book.\n",
    "* Numpy has useful linear algebra methods for diagonalizing matrixies. "
   ]
  },
  {
   "cell_type": "markdown",
   "metadata": {},
   "source": [
    "### Chapter 1.7 Example:"
   ]
  },
  {
   "cell_type": "code",
   "execution_count": 2,
   "metadata": {},
   "outputs": [
    {
     "name": "stdout",
     "output_type": "stream",
     "text": [
      "Original covariance matrix V : \n",
      "[[10482  7509 11818  7193]\n",
      " [ 7509 10737  8256  6720]\n",
      " [11818  8256 15349  8015]\n",
      " [ 7193  6720  8015 10354]]\n",
      "Is the original covariance V matrix symmetric?\n",
      "Yes.\n",
      "Variances of transformed variables: \n",
      " [  754.02338776  3823.38090529  5251.67201164 37092.92369531]\n"
     ]
    }
   ],
   "source": [
    "import numpy as np\n",
    "import matplotlib.pyplot as plt\n",
    "\n",
    "n = 4\n",
    "M = np.random.randint(0,100,(n,n))\n",
    "V = M@M.T\n",
    "print(\"Original covariance matrix V : \")\n",
    "print(V)\n",
    "print(\"Is the original covariance V matrix symmetric?\")\n",
    "if np.all(V == V.T): \n",
    "    print(\"Yes.\")\n",
    "print(\"Variances of transformed variables: \\n\" , np.linalg.eigh(V)[0])"
   ]
  },
  {
   "cell_type": "markdown",
   "metadata": {},
   "source": [
    "# Chapter 2: Examples of probability functions"
   ]
  },
  {
   "cell_type": "markdown",
   "metadata": {},
   "source": [
    "### 2.1: Binomial and multinomial distributions\n",
    "\n",
    "* Binomial Distribution: \n",
    "    * Consider a series of N independent trials where each trial has two outcomes: success or failure and the probability for success is $p$. The set of trials can be regarded as a single experiment characterized by a discrete random variable $n$, defined to be the total number of successes. So the sample space S is defined to be the set of possible values of $n$ given $N$ observations. \n",
    "    * If one were to repeat the entire experiment many times, with $N$ trials each time, the resulting values of $n$ would occur with relative frequencies distributed according to the **binomial distribution**. \n",
    "    * Form: \n",
    "        * $f(n; N,p) = \\frac{N!}{n! (N-n)!}p^n (1-p)^{N-n}$\n",
    "        * Intuitively, the second part of the equation gives the probability of seeing a particular sequence of successes and failures (for N = 7, n = 4 a particular sequence could look like: 0101110). And since we don't care about order we need the first part (N choose n) which gives the number of sequences with n successes given N observations. \n",
    "    * Note that the distribution is not a pdf but a probability function becuase n is discrete\n",
    "    * $E[n] = pN$\n",
    "    * $V[n] = N p(1-p)$\n",
    "* Multinomial distribution: \n",
    "    * The generalization of the binomial distribution but for m different outcomes instead of 2 (success and failure). "
   ]
  },
  {
   "cell_type": "markdown",
   "metadata": {},
   "source": [
    "### 2.2: Poisson distribution \n",
    "\n",
    "* The poisson distribution is a result of $N$ being very large and $p$ being very small but $E[n] = \\nu = pN$ still finite. \n",
    "* Form: \n",
    "    * $f(n;\\nu) = \\frac{\\nu^n}{n!}e^{-\\nu}$\n",
    "    * $E[n] = V[n] = \\nu$ \n",
    "* Although a poisson variable is discrete, for large $\\nu$ it can be taken as continuos gaussian distributed variable. \n",
    "* A relavant example of a poisson distributed variable is the number of decays of a radioactive material in a fixed amount of time (given the number of radioactive elements (N) is large and the probability of an individual decay is small (p)). \n"
   ]
  },
  {
   "cell_type": "markdown",
   "metadata": {},
   "source": [
    "### 2.3: Uniform distribution \n",
    "\n",
    "* The uniform pdf for the continuos variable $x$ ($-\\infty < x < \\infty$) is given by:\n",
    "* Form: \n",
    "    * $f(x; \\alpha, \\beta) = \\frac{1}{\\beta-\\alpha}$ for $\\alpha \\leq x \\leq \\beta$  , 0 otherwise.\n",
    "* $E[x] = \\frac{\\beta+\\alpha}{2}$\n",
    "* $V[x] = \\frac{(\\beta-\\alpha)^2}{12}$\n",
    "* One can always transform the variables to a pdf such that they are between $(0,1)$. \n",
    "    * This transformation is done with the cumulative distribution: y = F(x). \n",
    "    * And $g(y) = 1$ for $ 0 \\leq y \\leq 1$, 0 otherwise. "
   ]
  },
  {
   "cell_type": "markdown",
   "metadata": {},
   "source": [
    "### 2.4: Exponential distribution \n",
    "\n",
    "* The exponential pdf for the continuos variable $x$ ($0 < x < \\infty$) is given by:\n",
    "* Form: \n",
    "    * $f(x; \\zeta) = \\frac{1}{\\zeta} e^{-\\frac{x}{\\zeta}} $"
   ]
  },
  {
   "cell_type": "markdown",
   "metadata": {},
   "source": [
    "### 2.5: Gaussian distribution \n",
    "\n",
    "* The gaussian (or normal) pdf for the continuos variable $x$ ($-\\infty < x < \\infty$) is given by:\n",
    "* Form: \n",
    "    * $f(x; \\mu, \\sigma^2) = \\frac{1}{\\sqrt{2 \\pi \\sigma^2}} \\exp\\{\\frac{-(x-\\mu)^2}{2\\sigma^2 })\\}$\n",
    "* Standard gaussian ($\\mu = 0$, $\\sigma^2 = 1 $): \n",
    "    * $f(x) = \\frac{1}{\\sqrt{2 \\pi}} \\exp\\{\\frac{-x^2}{2})\\}$\n",
    "    * To convert any gaussian distributed variable (y) into a standard gaussian distributed variable (x): \n",
    "        * $x = (y - \\mu)/\\sigma$\n",
    "* Interestingly, the cumulative distribution for the gaussian cannot be expressed analytically and must be computed numerically. \n",
    "* The **Central Limit Theorem (CLT)** states that the sum of $n$ independent continuous random variables $x_i$ becomes a gaussian random variable with mean $\\mu = \\sum \\mu_i$ and $\\sigma^2 = \\sum \\sigma^2_i$ in the limit that $n$ goes to $\\infty$. This holds (mostly) regardless of the underlying pdfs of the $x_i$. \n",
    "    * This is the justification for treating measurement errors as gaussian random variables, because presumably the total error you observe is the sum of a large number of small contributions. "
   ]
  },
  {
   "cell_type": "markdown",
   "metadata": {},
   "source": [
    "### 2.6: Log-normal distribution \n",
    "\n",
    "* If a continuos variable y is gaussian with mean $\\mu$ and variance $\\sigma^2$, then $x = e^y$ follows a log-normal distribution. \n",
    "* Form: \n",
    "    * $f(x; \\mu, \\sigma^2) = \\frac{1}{x \\sqrt{2 \\pi \\sigma^2}} \\exp\\{\\frac{-(logx-\\mu)^2}{2\\sigma^2 })\\}$\n",
    "* Note that $E[x], V[x]$ are not simply $\\mu, \\sigma^2$. \n",
    "* Following from the CLT, if a variable is the result of the product of many different random variables, then it is distributed according to the log-normal distribution. So the log-normal can be useful in modelling errors that change a result by a multiplicative factor. "
   ]
  },
  {
   "cell_type": "markdown",
   "metadata": {},
   "source": [
    "### 2.7: Chi-square distribution \n",
    "\n",
    "* The $\\chi^2$ pdf for the continuos variable $z$ ($0 < z < \\infty$) is given by:\n",
    "* Form: \n",
    "    * $f(z; n) = \\frac{1}{2^{n/2} \\Gamma(n/2)} z^{n/2 - 1} e^{-z/2}$ ,  $n = 1,2,3...$\n",
    "    * n = Number of degrees of freedom (DOF). \n",
    "* $E[z] = n$, $V[z] = 2n$\n",
    "* Importance: \n",
    "    * Given N independent gaussian random variables: \n",
    "        * $ z = \\sum_{i=1}^{N} \\frac{(x_i - \\mu_i)^2}{\\sigma^2}$\n",
    "    * Then the variable $z$ is distributed according to a $\\chi^2$ distribution with N DOF. \n",
    "    * This is very useful in testing goodness-of-fit (see Section 4.5,4.7,7.5). "
   ]
  },
  {
   "cell_type": "markdown",
   "metadata": {},
   "source": [
    "### 2.8: Cauchy (Breit-Wigner) distribution\n",
    "\n",
    "* Corresponds to modelling a resonant particle with a given mass and width. \n",
    "* Look in book for details. "
   ]
  },
  {
   "cell_type": "markdown",
   "metadata": {},
   "source": [
    "### 2.9: Landau distribution\n",
    "\n",
    "* Corresponds to modelling the energy loss of a particle travelling through a material of a given thickness. \n",
    "* Look in book for details. "
   ]
  },
  {
   "cell_type": "markdown",
   "metadata": {},
   "source": [
    "### Chapter 2 examples: "
   ]
  },
  {
   "cell_type": "code",
   "execution_count": 4,
   "metadata": {},
   "outputs": [],
   "source": [
    "import numpy as np\n",
    "import matplotlib.pyplot as plt\n",
    "from numpy.random import default_rng\n",
    "\n",
    "rng = default_rng()\n",
    "\n",
    "n_samples = 100000\n",
    "bins = 100"
   ]
  },
  {
   "cell_type": "code",
   "execution_count": 5,
   "metadata": {},
   "outputs": [
    {
     "name": "stdout",
     "output_type": "stream",
     "text": [
      "x_i mean =  2.00722\n",
      "x_i var =  2.000587871599999\n"
     ]
    },
    {
     "data": {
      "image/png": "[encoded data removed]",
      "text/plain": [
       "<Figure size 432x288 with 1 Axes>"
      ]
     },
     "metadata": {
      "needs_background": "light"
     },
     "output_type": "display_data"
    }
   ],
   "source": [
    "# Poisson distribution \n",
    "mean = 2\n",
    "x_i = rng.poisson(mean, n_samples)\n",
    "\n",
    "print(\"x_i mean = \", x_i.mean())\n",
    "print(\"x_i var = \", x_i.std()**2)\n",
    "\n",
    "\n",
    "plt.hist(x_i, bins = bins)\n",
    "plt.title(\"Poisson distribution\")\n",
    "plt.show()"
   ]
  },
  {
   "cell_type": "code",
   "execution_count": 6,
   "metadata": {},
   "outputs": [
    {
     "name": "stdout",
     "output_type": "stream",
     "text": [
      "x_i mean =  0.49612130862695747\n",
      "x_i std =  1.0020110435410632\n"
     ]
    },
    {
     "data": {
      "image/png": "[encoded data removed]",
      "text/plain": [
       "<Figure size 432x288 with 1 Axes>"
      ]
     },
     "metadata": {
      "needs_background": "light"
     },
     "output_type": "display_data"
    }
   ],
   "source": [
    "# Gaussian distribution.\n",
    "mean = .5\n",
    "standard_deviation = 1\n",
    "x_i = rng.normal(mean, standard_deviation, n_samples)\n",
    "\n",
    "print(\"x_i mean = \", x_i.mean())\n",
    "print(\"x_i std = \", x_i.std())\n",
    "\n",
    "# Plot.\n",
    "plt.hist(x_i, bins = bins)\n",
    "plt.title(\"Gaussian distribution\")\n",
    "plt.show()"
   ]
  },
  {
   "cell_type": "code",
   "execution_count": 7,
   "metadata": {},
   "outputs": [
    {
     "name": "stdout",
     "output_type": "stream",
     "text": [
      "x_i mean =  3.990437726189006\n",
      "x_i var =  7.945611555110656\n"
     ]
    },
    {
     "data": {
      "image/png": "[encoded data removed]",
      "text/plain": [
       "<Figure size 432x288 with 1 Axes>"
      ]
     },
     "metadata": {
      "needs_background": "light"
     },
     "output_type": "display_data"
    }
   ],
   "source": [
    "# Chi-square distribution.\n",
    "\n",
    "DOF = 4\n",
    "x_i = rng.chisquare(DOF, n_samples)\n",
    "\n",
    "print(\"x_i mean = \", x_i.mean())\n",
    "print(\"x_i var = \", x_i.std()**2)\n",
    "\n",
    "# Plot.\n",
    "plt.hist(x_i, bins = bins)\n",
    "plt.title(\"Chi-square distribution\")\n",
    "plt.show()"
   ]
  },
  {
   "cell_type": "markdown",
   "metadata": {},
   "source": [
    "# Chapter 3: The Monte Carlo method"
   ]
  },
  {
   "cell_type": "markdown",
   "metadata": {},
   "source": [
    "The Monte Carlo Method involves simulating a set of $x_i$ random numbers that are distributed according to a pdf $f(x)$ and then from the simulated data one can estimate the probability for x to be found in certain regions. This is especially useful for a complex joint pdf $f(x,y,z)$ where the direct integration my be impossible. "
   ]
  },
  {
   "cell_type": "markdown",
   "metadata": {},
   "source": [
    "### 3.1: Uniformly distributed random numbers\n",
    "\n",
    "* Simple but realistic model of a random number generator: \n",
    "    * Form: \n",
    "        * $n_{i+1} = (a n_i) mod_m$\n",
    "        * $n_0$ is called the seed and $a$ and $m$ are inter constants chosen so that the period before repeating is very long. \n",
    "        * The set of $n_i$'s are then divided by m s.t. they land in the interval (0,1). \n",
    "        * Given the seed the set of $n_i$'s are reproducible. "
   ]
  },
  {
   "cell_type": "markdown",
   "metadata": {},
   "source": [
    "### 3.2: The transformation method\n",
    "\n",
    "* How do you transform from a random number uniformly distributed ($g(r)$) between $(0,1)$ to a random number distributed according to some pdf $f(x)$? \n",
    "    * One must find a function $x(r)$ s.t.: \n",
    "        * $F(x(r)) = G(r) = r$ (because the cumulative distribution for $g(r)$ ($G(r)$) is r.)\n",
    "* Exponential distribution example: \n",
    "    * $\\int_{0}^{x(r)} \\frac{1}{\\zeta} e^{-x'/\\zeta} dx' = r$\n",
    "    * Results in: $x(r) = -\\zeta log(r)$. Note that $r' = 1-r$ was used because both are uniform in (0,1). \n",
    "    * Now x(r) is a random number distributed according to the exponential distribution with mean $\\zeta$. "
   ]
  },
  {
   "cell_type": "markdown",
   "metadata": {},
   "source": [
    "### Chapter 3.2 example: \n",
    "\n",
    "Notes: \n",
    "* The below illustrates how the new random number generators work in numpy. The key is that two consecutive calls to the same generator will yield different results but two \"first calls\" to a generator with the same seed will result in identical results. "
   ]
  },
  {
   "cell_type": "code",
   "execution_count": 1,
   "metadata": {},
   "outputs": [],
   "source": [
    "import numpy as np\n",
    "import matplotlib.pyplot as plt\n",
    "from numpy.random import default_rng\n",
    "\n",
    "rng = default_rng(2021)\n",
    "rng_prime = default_rng(2021)\n",
    "\n",
    "n_samples = 100000\n",
    "bins = 100"
   ]
  },
  {
   "cell_type": "code",
   "execution_count": 2,
   "metadata": {},
   "outputs": [
    {
     "name": "stdout",
     "output_type": "stream",
     "text": [
      "False\n",
      "True\n"
     ]
    }
   ],
   "source": [
    "r = rng.uniform(size = n_samples)\n",
    "r_again = rng.uniform(size = n_samples)\n",
    "r_prime = rng_prime.uniform(size = n_samples)\n",
    "\n",
    "print(np.all(r==r_again))\n",
    "print(np.all(r==r_prime))"
   ]
  },
  {
   "cell_type": "code",
   "execution_count": 3,
   "metadata": {},
   "outputs": [
    {
     "name": "stdout",
     "output_type": "stream",
     "text": [
      "5.0051434585818875\n",
      "5.004257810307428\n"
     ]
    },
    {
     "data": {
      "text/plain": [
       "<function matplotlib.pyplot.show(*args, **kw)>"
      ]
     },
     "execution_count": 3,
     "metadata": {},
     "output_type": "execute_result"
    },
    {
     "data": {
      "image/png": "[encoded data removed]",
      "text/plain": [
       "<Figure size 432x288 with 1 Axes>"
      ]
     },
     "metadata": {
      "needs_background": "light"
     },
     "output_type": "display_data"
    }
   ],
   "source": [
    "# Simulate an exponentially distributed random number and compare to np's version. \n",
    "# These can actually be quite far off which is interesting. \n",
    "mean = 5\n",
    "x_of_r = -mean*np.log(r)\n",
    "x_of_r_np = rng.exponential(mean,n_samples)\n",
    "\n",
    "print(x_of_r.mean())\n",
    "print(x_of_r_np.mean())\n",
    "\n",
    "plt.hist(x_of_r, bins = bins, alpha = .5)\n",
    "plt.hist(x_of_r_np, bins = bins, alpha = .5)\n",
    "plt.title(\"Chapter 3.2 example\")\n",
    "plt.show\n"
   ]
  },
  {
   "cell_type": "markdown",
   "metadata": {},
   "source": [
    "### Chapter 3.3: The acceptance-rejection method\n",
    "\n",
    "* You wish to create a set of values $x_i$ distributed according to a pdf $f(x)$ but the above transformation method is too difficult. Then follow the prescription: \n",
    "    1. Generate a random number between x_min and x_max. Use: $x = x_min + r_1(x_max-x_min)$ (r_1 uniform random in (0,1)).\n",
    "    2. Generate a second independent random number u distributed between 0 and $f_max$. Use $u = r_2 f_max$.\n",
    "    3. If $u < f(x)$ then accept x, otherwise reject and repeat. \n",
    "* Note that this is very inefficient if you have a highly peaked pdf. "
   ]
  },
  {
   "cell_type": "markdown",
   "metadata": {},
   "source": [
    "### Chapter 3.3 example: \n",
    "\n",
    "Notes: \n",
    "* Let $y(x) = 3/8(1+x^2$ and x in (-1,1). Here I let y(x) just be a function, not yet a pdf. So the first step it to make it into a pdf f(x). "
   ]
  },
  {
   "cell_type": "code",
   "execution_count": 44,
   "metadata": {},
   "outputs": [],
   "source": [
    "import numpy as np\n",
    "from numpy.random import default_rng\n",
    "import matplotlib.pyplot as plt\n",
    "from scipy import integrate\n",
    "\n",
    "rng = default_rng(2021)\n",
    "\n",
    "n_samples = 1000\n",
    "bins = 100"
   ]
  },
  {
   "cell_type": "code",
   "execution_count": 47,
   "metadata": {},
   "outputs": [],
   "source": [
    "x = rng.uniform(-1,1,n_samples)\n",
    "\n",
    "def y(x):\n",
    "    y = 3/8*(1-x**2)\n",
    "    return y\n",
    "\n",
    "total_prob = integrate.quad(y, -1,1)[0]\n",
    "\n",
    "# Redefine as pdf: \n",
    "def f(x):\n",
    "    f = 3/8*(1-x**2)/total_prob\n",
    "    return f\n",
    "\n",
    "f_max = f(x).max()\n",
    "u = rng.uniform(0,f_max, n_samples)\n",
    "\n",
    "condition_to_be_accepted = u<f(x)\n",
    "\n",
    "x_accepted = x[condition_to_be_accepted]\n",
    "u_accepted = u[condition_to_be_accepted]"
   ]
  },
  {
   "cell_type": "code",
   "execution_count": 48,
   "metadata": {},
   "outputs": [
    {
     "data": {
      "image/png": "[encoded data removed]",
      "text/plain": [
       "<Figure size 432x288 with 1 Axes>"
      ]
     },
     "metadata": {
      "needs_background": "light"
     },
     "output_type": "display_data"
    }
   ],
   "source": [
    "x_line = np.arange(-1,1,.1)\n",
    "plt.plot(x_line, f(x_line))\n",
    "plt.plot(x,u, \"*\")\n",
    "plt.plot(x_accepted,u_accepted, \"+\")\n",
    "plt.title(\"Chapter 3.3 example\")\n",
    "plt.show()"
   ]
  },
  {
   "cell_type": "code",
   "execution_count": 49,
   "metadata": {},
   "outputs": [
    {
     "data": {
      "image/png": "[encoded data removed]",
      "text/plain": [
       "<Figure size 432x288 with 1 Axes>"
      ]
     },
     "metadata": {
      "needs_background": "light"
     },
     "output_type": "display_data"
    }
   ],
   "source": [
    "x_line = np.arange(-1,1,.1)\n",
    "plt.plot(x_line, f(x_line))\n",
    "plt.hist(x_accepted, density = True)\n",
    "plt.title(\"Chapter 3.3 example cont.\")\n",
    "plt.show()\n"
   ]
  },
  {
   "cell_type": "markdown",
   "metadata": {},
   "source": [
    "### Chapter 3.4: Applications of the monte carlo method\n",
    "\n",
    "* One very common application is using monte carlo methods to evaluate an estimator for a parameter. \n",
    "    * Note that the precision of this estimation goes roughly as $1/\\sqrt{n}$ where n is the number of samples or random numbers generated. This is explained in Chapter 6.6. "
   ]
  },
  {
   "cell_type": "markdown",
   "metadata": {},
   "source": [
    "# Chapter 4: Statistical tests\n"
   ]
  },
  {
   "cell_type": "markdown",
   "metadata": {},
   "source": [
    "### Chapter 4.1: Hypotheses, test statistics, significance level, power\n",
    "\n",
    "* The goal of a statistical test is to make a statement about how well the observed data stands in agreement with given predicted probabilities (a **hypothesis**). \n",
    "* $H_0$, the null hypothesis, specifies a pdf $f(x)$ of a random variable x. \n",
    "    * If it specifies $f(x)$ uniquely it is called a **simple hypothesis**. If there are free parameters ($f(x; \\theta)$) then it is called a **composite hypothesis**. \n",
    "* A statement about the validity of $H_0$ often involves comparison with **alternate hypotheses** ($H_1,H_2,...$).\n",
    "* Suppose one has data consisting of $n$ measured values: $x_n = (x_1,x_2,...)$ (the values could be n repeated measurements of the same random variable or a single measurement of an n-dim variable) and a set of hypotheses ($H_0, H_1, H_2,...$), each of which specifies a given joint (meaning multidimensional) pdf: $f(\\vec{x}|H_0), f(\\vec{x}|H_1),...$. \n",
    "    * One now constructs a function of the measured variables called a **test statistic**, $t(\\vec{x})$ in order to determine the level of agreement between observation and hypothesis. Each hypothesis will imply a different pdf for the test statistic: $g(t|H_0),g(t|H_1),...$\n",
    "* Assume we have chosen a scalar function $t(\\vec{x})$ which has the pdf $g(t|H_0)$ if $H_0$ is true and $g(t|H_1)$ if $H_1$ is true. \n",
    "    * We want to make a statement about the compatibility of the data with the various hypothesis by accepting or rejecting a given null hypothesis $H_0$. We do this by defining a **critical region** (or it's compliment an **acceptance region**) s.t. if the value of t actually observed lies within the critical region you reject $H_0$, otherwise you accept. The value of the **cut** or area of the critical region is selected s.t. the probability of finding t within the critical region, assuming $H_0$, is $\\alpha$, called the **significance level**. This is called the **error of the first kind**, as there is a probability $\\alpha$ that you reject $H_0$ if $H_0$ is true.\n",
    "        * For our below example (and generally for a scalar test statistic): \n",
    "            * $\\alpha = \\int_{t_{cut}}^{\\infty} g(t|H_0) dt$\n",
    "    * An **error of the second kind** arises from the possibility that t was within the cut but $H_1$ was the correct hypothesis, not the accepted $H_0$. Note that this requires an overlap in the pdfs $g(t|H_0)$ and $g(t|H_1)$. The probability for this to occur is $\\beta$. And the **power** of the test to discrimiate against $H_1$ is $1-\\beta$. \n",
    "        * For our below example: \n",
    "            * $\\beta = \\int_{-\\infty}^{t_{cut}} g(t|H_1) dt$\n",
    "            "
   ]
  },
  {
   "cell_type": "markdown",
   "metadata": {},
   "source": [
    "### Chapter 4.2: An example with particle selection\n",
    "\n",
    "* As an example, the test statistic could represent the amount of ionization a particle makes in a detector. The ionization is (for a fixed momentum) dependent on the mass of the particle. Let the pdf $g(t|H_0)$ correspond to the particle being an electron and let $g(t|H_1)$ corresond to what one would obtain if the particle was a pion. $H_0 = e$ and $H_1 = \\pi$.\n",
    "* The **selection efficiencies** are: \n",
    "    * $\\epsilon_e = \\int_{-\\infty}^{t_{cut}} g(t|e) dt = 1 - \\alpha$\n",
    "    * $ \\epsilon_\\pi =  \\int_{-\\infty}^{t_{cut}} g(t|\\pi) dt = \\beta $\n",
    "    * So the price you pay for higher efficiency of electron detection is more contamination. So the efficiency can increase as you increase $t_cut$ but the purity of the sample can decrease. \n",
    "* If you don't know the fraction of electrons and pions then the test statistic will be distributed according to the pdf: \n",
    "    * $f(t; a_e) = a_e g(t|e) + (1-a_e) g(t|\\pi)$ where $a_e =$  the fraction of electrons ($a_\\pi = 1-a_e$). \n",
    "* Consider that you select a set of electron candidates with a cut $t < t_{cut}$. The number of accepted particles is given by:\n",
    "    * $N_{acc} = \\epsilon_e N_e + \\epsilon_\\pi N_\\pi = \\epsilon_e N_e + \\epsilon_\\pi(N_{tot} - N_e)$\n",
    "    * From this you can solve for the number of electrons in your selection $N_e$. \n",
    "* The probability that a particle with an observed value of t is an electron or a pion is given by Bayes' Theorem: \n",
    "    * $h(e|t) = \\frac{a_e g(t|e)}{a_e g(t|e) + a_\\pi g(t|\\pi)}$\n",
    "    * $h(\\pi|t) = \\frac{a_\\pi g(t|\\pi)}{a_e g(t|e) + a_\\pi g(t|\\pi)}$\n",
    "    * So in order to determine the probaility that a given selected particle is an electron one needs to know the prior probabilities for all of the hypothesis as well as the pdfs that they imply for the statistic t. \n",
    "    * In the relative frequency interpretation $h(e|t)$ represents the fraction of times a particle with test statistic $t$ will be an electron. In Bayesian statistics, using subjective probabilities, $h(e|t)$ represents the degree of certainty you have that the selected particle is an electron. \n",
    "* The **purity** of a set of candidates with a cut $t < t_{cut}$: \n",
    "    * $p_e = \\frac{N_{acc \\,electrons }}{N_{acc}} = \\frac{a_e \\epsilon_e N_{tot}}{N_{acc}}$\n",
    "\n",
    "    "
   ]
  },
  {
   "cell_type": "markdown",
   "metadata": {},
   "source": [
    "### Chapter 4.2 example: "
   ]
  },
  {
   "cell_type": "code",
   "execution_count": 13,
   "metadata": {},
   "outputs": [
    {
     "data": {
      "image/png": "[encoded data removed]",
      "text/plain": [
       "<Figure size 432x288 with 1 Axes>"
      ]
     },
     "metadata": {
      "needs_background": "light"
     },
     "output_type": "display_data"
    }
   ],
   "source": [
    "import numpy as np\n",
    "from numpy.random import default_rng\n",
    "import matplotlib.pyplot as plt\n",
    "from scipy import integrate\n",
    "from scipy.stats import norm\n",
    "\n",
    "t_cut = 4\n",
    "\n",
    "mu_0 = 3\n",
    "std_0 = .5\n",
    "\n",
    "mu_1 = 6\n",
    "std_1 = .9\n",
    "\n",
    "def g_0(x):\n",
    "    value = norm.pdf(x,mu_0,std_0)\n",
    "    return value\n",
    "\n",
    "def g_1(x):\n",
    "    value = norm.pdf(x,mu_1,std_1)\n",
    "    return value\n",
    "\n",
    "t = np.linspace(0, 13, 1000)\n",
    "\n",
    "plt.plot(t, g_0(t))\n",
    "plt.plot(t, g_1(t))\n",
    "plt.vlines(t_cut, 0,1)\n",
    "plt.show()"
   ]
  },
  {
   "cell_type": "code",
   "execution_count": 14,
   "metadata": {},
   "outputs": [
    {
     "name": "stdout",
     "output_type": "stream",
     "text": [
      "alpha =  0.022750131948179233\n",
      "beta = 0.013134145691021242\n",
      "power =  0.9868658543089788\n"
     ]
    }
   ],
   "source": [
    "alpha = integrate.quad(g_0, t_cut, np.inf)[0]\n",
    "beta = integrate.quad(g_1, -np.inf, t_cut)[0]\n",
    "print(\"alpha = \" , alpha)\n",
    "print(\"beta =\" , beta)\n",
    "print(\"power = \", 1- beta)"
   ]
  },
  {
   "cell_type": "code",
   "execution_count": 15,
   "metadata": {},
   "outputs": [
    {
     "name": "stdout",
     "output_type": "stream",
     "text": [
      "purity of the cut t_cut:  0.9695937540963632\n"
     ]
    }
   ],
   "source": [
    "N_tot = 3000\n",
    "\n",
    "a_e = .3\n",
    "a_pi = .7\n",
    "\n",
    "N_e = a_e*N_tot\n",
    "N_pi = a_pi*N_tot\n",
    "\n",
    "epsilon_e = 1-alpha\n",
    "epsilon_pi = beta\n",
    "\n",
    "N_acc = epsilon_e*N_e + epsilon_pi*N_pi\n",
    "\n",
    "purity_e = epsilon_e*N_e/N_acc\n",
    "\n",
    "print('purity of the cut t_cut: ', purity_e)"
   ]
  },
  {
   "cell_type": "markdown",
   "metadata": {},
   "source": [
    "### Chapter 4.3: Choice of the critical region using the Neyman-Pearson lemma\n",
    "\n",
    "* One way of defining the optimal placement of the cuts is to require that they give a maximum purity for a given efficiency. This is very simple in the case of the 1 dimensional test statistic (like above) because the efficiency and the cut location are one-to-one. But in the case of a multivariate test statistic, defining the acceptance region for a given efficiency is not so simple. \n",
    "* The Neyman-Pearson lemma states that for a given efficinecy you want to select the t-space such that (where c depends on the efficiency): \n",
    "    * $\\frac{g(t|H_0)}{g(t|H_1)} > c$ \n",
    "* Note that you can use the LHS of the above to create a 1-d test statistic (r) out of the multivariate test statistic and then apply the cut $r > c$. This is called the **liklihood ratio r** for simple hypothesis $H_0$ and $H_1$. "
   ]
  },
  {
   "cell_type": "markdown",
   "metadata": {},
   "source": [
    "### Chapter 4.4: Constructing a test statistic\n",
    "\n",
    "* As was discussed above the best test statistic $t(\\vec{x})$ for maximal power (and hence signal purity) is the liklihood ratio $r$. However, this requires that you know the form of the pdfs $f(\\vec{x}|H_0), f(\\vec{x}|H_1)$. If you were simulating these pdfs with monte carlo and representing them as multidimensional histograms, then if you have M bins for each n parameters of $\\vec{x}$, you have $M^n$ parameters to determine. This gets computationally unreasonable very fast. This chapter addresses how we can choose a simlper, yet still effective, form of the test statistic $t(\\vec{x})$.\n",
    "    * Liklihood ratio: $r = \\frac{f(\\vec{x}|H_0)}{f(\\vec{x}|H_1)}$\n",
    "\n",
    "4.4.1: Linear test statistics, the Fisher discriminant function\n",
    "\n",
    "* The simplist form of the test statistic $t(\\vec{x})$ is a linear function: \n",
    "    * $ t(\\vec{x}) = \\sum_{i=1}^n a_i x_i = \\mathbf{a^T x}$\n",
    "* The goal is to determine the $a_i$ such that you maximize the seperation of the pdfs $g(t|H_0) , g(t|H_1)$. The idea being that unlike in the above particle example where the test statistic $ t(\\vec{x})$ was a physical observable (the ionization observed), here the test statistic can be any function of the underlying pds ($f(\\vec{x}|H_0), f(\\vec{x}|H_1)$). The further apart the pdfs $g(t|H_0) , g(t|H_1)$ for a given choice of $ t(\\vec{x})$, the more powerful that test statistic. \n",
    "* The chapter defines a function defining the distance between $g(t|H_0) , g(t|H_1)$ and maximizes that difference. The details are very neat and worth reading back through. \n",
    "* Ultimately (i,j from 1 to n): \n",
    "    *  $\\mathbf{a \\propto W^{-1} (\\mu_0 - \\mu_1)}$ where $W_{ij} = (V_1 + V_0)_{ij}$\n",
    "* The key takeaway is that you only need the mean and variances of the underlying pdfs $f(\\vec{x}|H_0), f(\\vec{x}|H_1)$. So only $n(n+1)/2$ free parameters need to be deterimined by monte carlo as opposed to $M^n$.\n",
    "* Keep an eye out for how this chapter relates to the prinicple of least squares in Chapter 7. \n",
    "* For the case of $f(\\vec{x}|H_0), f(\\vec{x}|H_1)$ being gaussians with common covariance matrixies you get very nice properties. \n",
    "* **Sigmoid and logistical sigmoid** introduced here. \n",
    "    * Logistical Sigmoid: $ s(t) = 1/(1+e^{-t})$,  $ t \\,\\in\\, (0,1)$\n",
    "\n",
    "4.4.2: Non-linear test statistics, neural networks\n",
    "\n",
    "* If the underlying pdfs aren't gaussians with shared covariance matricies as seen above, then the Fisher discriminant no longer has the optimal properties. Meaning it's no longer equivalent to r, the liklihood ratio. So we turn to a more general parameterization of the test statistic. Here we look at a specific case of an **artificial neural network**. \n",
    "* Single layer perceptron: \n",
    "    * $t(\\vec{x}) = s(a_0 + \\sum_{i=1}^n a_i x_i)$ where s is an activation function, that in our case is a logistical sigmoid ($ s(t) = 1/(1+e^{-t})$, and is defined in the interval $(0,1)$. Note that here s takes as it's argument the linear function. \n",
    "* Two-layer perceptron: \n",
    "    * $t(\\vec{x}) = s(a_0 + \\sum_{i=1}^n a_i h(\\vec{x}))$ with  $h_i(\\vec{x}) = s(w_{i0} + \\sum_{i=1}^n w_{ij}x_j)$\n",
    "    * We call this a **feed forward network** because the value of a given node only depends on the last layer. We call the $a_i, w_{ij}$ **weights** or **connection strengths**. \n",
    "    * The key here is that by having a large number of parameters we can better approximate the optimal test statistic given by the liklihood ratio (or equivalently a monotonic function of the liklihood ratio). \n",
    "    * Now that we have our perceptron network, we train the network using training data (called **network training** or **learning**) to determine the optimal parameters for minimizing our **error function**. \n",
    "    * Error function: \n",
    "        * $\\mathcal{E} = E_0 [ (t- t_0)^2 ] + E_1 [ (t- t_1)^2 ] $\n",
    "        * For a logistic sigmoid, these target values ($t_0, t_1$) are taken to be 0 or 1. \n",
    "* One can show that a three-layer perceptron is sufficient to provide arbitrarily good parameterization of any function. \n",
    "\n",
    "4.4.3: Selection of input data\n",
    "\n",
    "* Not all components of $\\vec{x}$ may be necessary or even optimal to include in either the definition of $t(\\vec{x})$ via a linear test statistic or a neural network. \n",
    "* It is often good practice to start with a single component that gives the largest seperation between $g(t|H_0), g(t|H_1)$ (as calculated by the error function $\\mathcal{E}$ or $J(a)$) and then add components one by one such that each step adds the largest seperation. "
   ]
  },
  {
   "cell_type": "markdown",
   "metadata": {},
   "source": [
    "### Chapter 4.5: Goodness of fit\n",
    "\n",
    "* Often one wants to give a measure of how well a given Null hypothesis fits with the data without referencing a specific alternative hypothesis. \n",
    "* This is called a test of **goodness of fit** and is done by constructing a test statistic whose value itself reflects the level of agreement between the observed data and the predictions of $H_0$. \n",
    "* Discussions of how to select such a test statistic are saved for subsequent chapters. \n",
    "* The result of a goodness of fit test is to quote a **P-value**.\n",
    "    * The **P-value** or **observed significance level** or **confidence level** is the probability, under assumption of $H_0$, that one obtains a result as compatible or less compatible with $H_0$ than the one actually observed.  \n",
    "    * It is important to note that the P-value is not the probability that hypothesis $H_0$ is correct!\n",
    "* **Optional stopping** issue addressed here. \n",
    "* Question: When we use a P-value test on a chi squared function we only take the chi squares that are **higher** than the observed chi square, not also very low as we do in the below example. Why is that? "
   ]
  },
  {
   "cell_type": "markdown",
   "metadata": {},
   "source": [
    "### Chapter 4.5 example: \n",
    "\n",
    "* What is the P-value for obtaining 17 heads in a row assuming a fair coin (this assumption defines $H_0$)?\n",
    "    * Note that if you changed your null hypothesis to being that the coin is wieghted .8 to .2 towards heads then you would obtain a P-value of .4 instead of .0026. But does that mean you can confidently say the coin is weighted heavily towards heads? Certianly not. Be careful interpreting P-values. "
   ]
  },
  {
   "cell_type": "code",
   "execution_count": 26,
   "metadata": {},
   "outputs": [
    {
     "name": "stdout",
     "output_type": "stream",
     "text": [
      "With random numbers: P_val = 0.4116652\n",
      "With the pmf: P_val = 0.4114488627543358\n"
     ]
    },
    {
     "data": {
      "image/png": "[encoded data removed]",
      "text/plain": [
       "<Figure size 432x288 with 1 Axes>"
      ]
     },
     "metadata": {
      "needs_background": "light"
     },
     "output_type": "display_data"
    }
   ],
   "source": [
    "import numpy as np\n",
    "import matplotlib.pyplot as plt\n",
    "from numpy.random import default_rng\n",
    "from scipy import integrate\n",
    "from scipy.stats import binom\n",
    "\n",
    "# Using generated random values:\n",
    "rng = default_rng()\n",
    "\n",
    "n_experiments = int(1e7)\n",
    "n = 20\n",
    "p = .8 \n",
    "binomial_rand = rng.binomial(n,p,n_experiments)\n",
    "plt.hist(binomial_rand)\n",
    "condition = ((binomial_rand >= 17) | (binomial_rand <= 3))\n",
    "P_val = np.count_nonzero(condition)/n_experiments\n",
    "print(\"With random numbers: P_val =\",P_val)\n",
    "\n",
    "# Using the pmf (probability mass function, because it is discrete not continuos)\n",
    "rv = binom(n, p)\n",
    "x = np.array([0,1,2,3,17,18,19,20])\n",
    "P_val = rv.pmf(x).sum()\n",
    "print(\"With the pmf: P_val =\",P_val)"
   ]
  },
  {
   "cell_type": "markdown",
   "metadata": {},
   "source": [
    "### Chapter 4.6: The significance of an observed signal\n",
    "\n",
    "* A simple type of goodness-of-fit test is often carried out to judge when a discrepancy between prediction and data is signficant enough to merit a claim of a new discovery. \n",
    "* Here we will see evidence for some signal event, and some background. Assume both the signal and background are poisson distributed and that the number of events of each type you observe is poisson distributed ($n_s,n_b$), with means ($\\nu_s, \\nu_b$). The total number of events is $n = n_s + n_b$ with mean $\\nu = \\nu_s + \\nu_b$. \n",
    "* In order to quanify our degree of confidence about the discovery we can calculate the P-value for observing $n_{obs}$ assuming $\\nu_s = 0$, meaning only from background. \n",
    "    * $P(n > n_{obs}) = 1 - \\sum_{i=0}^{n_{obs}-1} \\frac{\\nu_b e^{-\\nu_b}}{n!}$\n",
    "    * The fact that $P(n > n_{obs}) + P(n \\leq n_{obs}) = 1 $ is used above. \n",
    "* In the below example, keep in mind that the P-value is not the probability that the hypothesis $\\nu_s = 0$ is correct, rather it is the probability that one would observe $n_{obs} = 5$ under the assumption $\\nu_s = 0$. \n",
    "* Another important fact is that the error is often quoted as plus or minus one standard deviation. The standard deviation for a possoin variable is the root of the mean, so in the below example we would quote 4.5 +- 2.2 for our estimate of $\\nu_s$ after subtracting out the background. This might make one think that $\\nu_s$ is actually not that inconsistent with zero (only 2 stds), which is misleading. Be careful with this, as it is the P-value that corresponds to the probability that $n_b$ could be responsible for the entire observation ($n_{obs} = 5$) ($P= 1.7*10^{-4}$) that is more meaningful in this case. "
   ]
  },
  {
   "cell_type": "markdown",
   "metadata": {},
   "source": [
    "### Chapter 4.6 example: "
   ]
  },
  {
   "cell_type": "code",
   "execution_count": 6,
   "metadata": {},
   "outputs": [
    {
     "name": "stdout",
     "output_type": "stream",
     "text": [
      "P_val = 0.00017211562995578245\n"
     ]
    }
   ],
   "source": [
    "from scipy.stats import poisson\n",
    "\n",
    "n_obs = 5\n",
    "nu_b = .5\n",
    "\n",
    "# Using the pmf (probability mass function, because poisson is discrete not continuos)\n",
    "rv = poisson(nu_b)\n",
    "n = np.arange(0, n_obs, 1)\n",
    "P_val = 1 - rv.pmf(n).sum()\n",
    "print(\"P_val =\",P_val)"
   ]
  },
  {
   "cell_type": "markdown",
   "metadata": {},
   "source": [
    "### Chapter 4.7: Pearson's $\\chi^2$ test\n",
    "\n",
    "* Suppose you have a distribution of a variable x (could be times or positions or whatever), and you make a histogram of the data with N bins. The number of entries in bin i is $n_i$ and the expected number of entries is $\\nu_i$.\n",
    "* If the data $n_i$ are poisson distributed (as you would expect), and each bin has 5 or greater events in it then the test statistic follows a chi squared distribution for N degrees of freedom. Remember the poisson distribution describes the number of times a rare event occurs, so if you expect $\\nu_i$ events to land in a bin then the actual amount you observe in that bin will be poisson distributed. \n",
    "* $\\chi^2 = \\sum_{i=1}^N \\frac{(n_i - \\nu_i)^2}{\\nu_i}$\n",
    "* Note that for bins with very few events the chi squared statistic will no longer follow a chi squared distribution (because the restriction on the number of entries is equivalent to requiring that the number of entries is approximately gaussian distributed). \n",
    "    * A note: \n",
    "        * Given N independent gaussian random variables: \n",
    "            * $ z = \\sum_{i=1}^{N} \\frac{(x_i - \\mu_i)^2}{\\sigma^2}$\n",
    "        * Then the variable $z$ is distributed according to a $\\chi^2$ distribution with N DOF. \n",
    "        * So the key is that for a poisson distributed variable (like the number of observed entries in a histogram) $\\sigma^2 = \\nu$. "
   ]
  },
  {
   "cell_type": "markdown",
   "metadata": {},
   "source": [
    "### Chapter 4.7 example: \n",
    "\n",
    "* Work out a simple halflife measurement analysis. Create P-vals by creating the chisq manually, by having smaller bins and comparing the results between the assumption of a chisq ditribution and monte carlo, then use a built in chi sq calc for practice. \n",
    "* It will help you ! "
   ]
  }
 ],
 "metadata": {
  "kernelspec": {
   "display_name": "Python 3",
   "language": "python",
   "name": "python3"
  },
  "language_info": {
   "codemirror_mode": {
    "name": "ipython",
    "version": 3
   },
   "file_extension": ".py",
   "mimetype": "text/x-python",
   "name": "python",
   "nbconvert_exporter": "python",
   "pygments_lexer": "ipython3",
   "version": "3.7.6"
  }
 },
 "nbformat": 4,
 "nbformat_minor": 4
}
